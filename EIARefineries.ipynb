{
 "cells": [
  {
   "cell_type": "code",
   "execution_count": 1,
   "metadata": {},
   "outputs": [
    {
     "name": "stdout",
     "output_type": "stream",
     "text": [
      "Requirement already satisfied: tabula-py in c:\\users\\ver2bj\\appdata\\local\\continuum\\anaconda3\\lib\\site-packages (2.1.0)\n",
      "Requirement already satisfied: distro in c:\\users\\ver2bj\\appdata\\local\\continuum\\anaconda3\\lib\\site-packages (from tabula-py) (1.5.0)\n",
      "Requirement already satisfied: numpy in c:\\users\\ver2bj\\appdata\\local\\continuum\\anaconda3\\lib\\site-packages (from tabula-py) (1.18.4)\n",
      "Requirement already satisfied: pandas>=0.25.3 in c:\\users\\ver2bj\\appdata\\local\\continuum\\anaconda3\\lib\\site-packages (from tabula-py) (1.0.3)\n",
      "Requirement already satisfied: python-dateutil>=2.6.1 in c:\\users\\ver2bj\\appdata\\local\\continuum\\anaconda3\\lib\\site-packages (from pandas>=0.25.3->tabula-py) (2.8.0)\n",
      "Requirement already satisfied: pytz>=2017.2 in c:\\users\\ver2bj\\appdata\\local\\continuum\\anaconda3\\lib\\site-packages (from pandas>=0.25.3->tabula-py) (2018.9)\n",
      "Requirement already satisfied: six>=1.5 in c:\\users\\ver2bj\\appdata\\local\\continuum\\anaconda3\\lib\\site-packages (from python-dateutil>=2.6.1->pandas>=0.25.3->tabula-py) (1.12.0)\n",
      "Note: you may need to restart the kernel to use updated packages.\n"
     ]
    }
   ],
   "source": [
    "%pip install tabula-py"
   ]
  },
  {
   "cell_type": "code",
   "execution_count": 2,
   "metadata": {},
   "outputs": [],
   "source": [
    "import tabula\n",
    "data = tabula.read_pdf(\"Refinery Capacity Report.pdf\",pages='all')"
   ]
  },
  {
   "cell_type": "code",
   "execution_count": 3,
   "metadata": {},
   "outputs": [
    {
     "data": {
      "text/plain": [
       "list"
      ]
     },
     "execution_count": 3,
     "metadata": {},
     "output_type": "execute_result"
    }
   ],
   "source": [
    "type(data)"
   ]
  },
  {
   "cell_type": "code",
   "execution_count": 4,
   "metadata": {},
   "outputs": [],
   "source": [
    "import pandas as pd"
   ]
  },
  {
   "cell_type": "code",
   "execution_count": 5,
   "metadata": {},
   "outputs": [],
   "source": [
    "capacitydata = pd.read_csv('List Of Refineries.csv')"
   ]
  },
  {
   "cell_type": "code",
   "execution_count": 6,
   "metadata": {},
   "outputs": [],
   "source": [
    "#Let's get to know and explore this data"
   ]
  },
  {
   "cell_type": "code",
   "execution_count": 7,
   "metadata": {},
   "outputs": [
    {
     "data": {
      "text/html": [
       "<div>\n",
       "<style scoped>\n",
       "    .dataframe tbody tr th:only-of-type {\n",
       "        vertical-align: middle;\n",
       "    }\n",
       "\n",
       "    .dataframe tbody tr th {\n",
       "        vertical-align: top;\n",
       "    }\n",
       "\n",
       "    .dataframe thead th {\n",
       "        text-align: right;\n",
       "    }\n",
       "</style>\n",
       "<table border=\"1\" class=\"dataframe\">\n",
       "  <thead>\n",
       "    <tr style=\"text-align: right;\">\n",
       "      <th></th>\n",
       "      <th>Date</th>\n",
       "      <th>U.S. Gross Inputs to Refineries (Thousand Barrels Per Day)</th>\n",
       "      <th>East Coast (PADD 1) Gross Inputs to Atmospheric Crude Oil Distillation Units (Thousand Barrels per Day)</th>\n",
       "      <th>Refining District East Coast Refinery District Gross Inputs to Refineries (Thousand Barrels Per Day)</th>\n",
       "      <th>Appalachian No. 1 Refinery District Gross Inputs to Refineries (Thousand Barrels Per Day)</th>\n",
       "      <th>Midwest (PADD 2) Gross Inputs to Refineries (Thousand Barrels Per Day)</th>\n",
       "      <th>Indiana, Illinois, Kentucky Refinery District Gross Inputs to Refineries (Thousand Barrels Per Day)</th>\n",
       "      <th>Minnesota, Wisconsin, North and South Dakota Refinery District Gross Inputs to Refineries (Thousand Barrels Per Day)</th>\n",
       "      <th>Refining District Oklahoma-Kansas-Missouri Gross Inputs to Atmospheric Crude Oil Distillation Units (Thousand Barrels per Day)</th>\n",
       "      <th>Gulf Coast (PADD 3) Gross Inputs to Refineries (Thousand Barrels Per Day)</th>\n",
       "      <th>Texas Inland Refinery District Gross Inputs to Refineries (Thousand Barrels Per Day)</th>\n",
       "      <th>Refining District Texas Gulf Coast Gross Inputs to Atmospheric Crude Oil Distillation Units (Thousand Barrels per Day)</th>\n",
       "      <th>Louisiana Gulf Coast Refinery District Gross Inputs to Refineries (Thousand Barrels Per Day)</th>\n",
       "      <th>Refining District North Louisiana-Arkansas Gross Inputs to Refineries (Thousand Barrels per Day)</th>\n",
       "      <th>Refining District New Mexico Gross Inputs to Atmospheric Crude Oil Distillation Units (Thousand Barrels per Day)</th>\n",
       "      <th>Rocky Mountains (PADD 4) Gross Inputs to Refineries (Thousand Barrels Per Day)</th>\n",
       "      <th>West Coast (PADD 5) Gross Inputs to Refineries (Thousand Barrels Per Day)</th>\n",
       "      <th>Unnamed: 17</th>\n",
       "    </tr>\n",
       "  </thead>\n",
       "  <tbody>\n",
       "    <tr>\n",
       "      <th>0</th>\n",
       "      <td>Jan-1985</td>\n",
       "      <td>11583.0</td>\n",
       "      <td>1092.0</td>\n",
       "      <td>1003.0</td>\n",
       "      <td>89.0</td>\n",
       "      <td>2675.0</td>\n",
       "      <td>1739.0</td>\n",
       "      <td>277.0</td>\n",
       "      <td>602.0</td>\n",
       "      <td>5230.0</td>\n",
       "      <td>489.0</td>\n",
       "      <td>2792.0</td>\n",
       "      <td>1730.0</td>\n",
       "      <td>166.0</td>\n",
       "      <td>53.0</td>\n",
       "      <td>423.0</td>\n",
       "      <td>2163.0</td>\n",
       "      <td>NaN</td>\n",
       "    </tr>\n",
       "    <tr>\n",
       "      <th>1</th>\n",
       "      <td>Feb-1985</td>\n",
       "      <td>11485.0</td>\n",
       "      <td>1103.0</td>\n",
       "      <td>1010.0</td>\n",
       "      <td>93.0</td>\n",
       "      <td>2556.0</td>\n",
       "      <td>1675.0</td>\n",
       "      <td>276.0</td>\n",
       "      <td>548.0</td>\n",
       "      <td>5330.0</td>\n",
       "      <td>481.0</td>\n",
       "      <td>2749.0</td>\n",
       "      <td>1882.0</td>\n",
       "      <td>170.0</td>\n",
       "      <td>47.0</td>\n",
       "      <td>398.0</td>\n",
       "      <td>2098.0</td>\n",
       "      <td>NaN</td>\n",
       "    </tr>\n",
       "    <tr>\n",
       "      <th>2</th>\n",
       "      <td>Mar-1985</td>\n",
       "      <td>11484.0</td>\n",
       "      <td>1108.0</td>\n",
       "      <td>1011.0</td>\n",
       "      <td>97.0</td>\n",
       "      <td>2508.0</td>\n",
       "      <td>1623.0</td>\n",
       "      <td>264.0</td>\n",
       "      <td>561.0</td>\n",
       "      <td>5251.0</td>\n",
       "      <td>480.0</td>\n",
       "      <td>2601.0</td>\n",
       "      <td>1957.0</td>\n",
       "      <td>161.0</td>\n",
       "      <td>52.0</td>\n",
       "      <td>405.0</td>\n",
       "      <td>2212.0</td>\n",
       "      <td>NaN</td>\n",
       "    </tr>\n",
       "    <tr>\n",
       "      <th>3</th>\n",
       "      <td>Apr-1985</td>\n",
       "      <td>11969.0</td>\n",
       "      <td>1149.0</td>\n",
       "      <td>1060.0</td>\n",
       "      <td>89.0</td>\n",
       "      <td>2650.0</td>\n",
       "      <td>1712.0</td>\n",
       "      <td>284.0</td>\n",
       "      <td>595.0</td>\n",
       "      <td>5531.0</td>\n",
       "      <td>454.0</td>\n",
       "      <td>2831.0</td>\n",
       "      <td>2046.0</td>\n",
       "      <td>137.0</td>\n",
       "      <td>63.0</td>\n",
       "      <td>341.0</td>\n",
       "      <td>2298.0</td>\n",
       "      <td>NaN</td>\n",
       "    </tr>\n",
       "    <tr>\n",
       "      <th>4</th>\n",
       "      <td>May-1985</td>\n",
       "      <td>12269.0</td>\n",
       "      <td>1154.0</td>\n",
       "      <td>1062.0</td>\n",
       "      <td>92.0</td>\n",
       "      <td>2708.0</td>\n",
       "      <td>1730.0</td>\n",
       "      <td>293.0</td>\n",
       "      <td>622.0</td>\n",
       "      <td>5668.0</td>\n",
       "      <td>453.0</td>\n",
       "      <td>2936.0</td>\n",
       "      <td>2045.0</td>\n",
       "      <td>169.0</td>\n",
       "      <td>64.0</td>\n",
       "      <td>472.0</td>\n",
       "      <td>2267.0</td>\n",
       "      <td>NaN</td>\n",
       "    </tr>\n",
       "  </tbody>\n",
       "</table>\n",
       "</div>"
      ],
      "text/plain": [
       "       Date  U.S. Gross Inputs to Refineries (Thousand Barrels Per Day)  \\\n",
       "0  Jan-1985                                            11583.0            \n",
       "1  Feb-1985                                            11485.0            \n",
       "2  Mar-1985                                            11484.0            \n",
       "3  Apr-1985                                            11969.0            \n",
       "4  May-1985                                            12269.0            \n",
       "\n",
       "   East Coast (PADD 1) Gross Inputs to Atmospheric Crude Oil Distillation Units (Thousand Barrels per Day)  \\\n",
       "0                                             1092.0                                                         \n",
       "1                                             1103.0                                                         \n",
       "2                                             1108.0                                                         \n",
       "3                                             1149.0                                                         \n",
       "4                                             1154.0                                                         \n",
       "\n",
       "   Refining District East Coast Refinery District Gross Inputs to Refineries (Thousand Barrels Per Day)  \\\n",
       "0                                             1003.0                                                      \n",
       "1                                             1010.0                                                      \n",
       "2                                             1011.0                                                      \n",
       "3                                             1060.0                                                      \n",
       "4                                             1062.0                                                      \n",
       "\n",
       "   Appalachian No. 1 Refinery District Gross Inputs to Refineries (Thousand Barrels Per Day)  \\\n",
       "0                                               89.0                                           \n",
       "1                                               93.0                                           \n",
       "2                                               97.0                                           \n",
       "3                                               89.0                                           \n",
       "4                                               92.0                                           \n",
       "\n",
       "   Midwest (PADD 2) Gross Inputs to Refineries (Thousand Barrels Per Day)  \\\n",
       "0                                             2675.0                        \n",
       "1                                             2556.0                        \n",
       "2                                             2508.0                        \n",
       "3                                             2650.0                        \n",
       "4                                             2708.0                        \n",
       "\n",
       "   Indiana, Illinois, Kentucky Refinery District Gross Inputs to Refineries (Thousand Barrels Per Day)  \\\n",
       "0                                             1739.0                                                     \n",
       "1                                             1675.0                                                     \n",
       "2                                             1623.0                                                     \n",
       "3                                             1712.0                                                     \n",
       "4                                             1730.0                                                     \n",
       "\n",
       "   Minnesota, Wisconsin, North and South Dakota Refinery District Gross Inputs to Refineries (Thousand Barrels Per Day)  \\\n",
       "0                                              277.0                                                                      \n",
       "1                                              276.0                                                                      \n",
       "2                                              264.0                                                                      \n",
       "3                                              284.0                                                                      \n",
       "4                                              293.0                                                                      \n",
       "\n",
       "   Refining District Oklahoma-Kansas-Missouri Gross Inputs to Atmospheric Crude Oil Distillation Units (Thousand Barrels per Day)  \\\n",
       "0                                              602.0                                                                                \n",
       "1                                              548.0                                                                                \n",
       "2                                              561.0                                                                                \n",
       "3                                              595.0                                                                                \n",
       "4                                              622.0                                                                                \n",
       "\n",
       "   Gulf Coast (PADD 3) Gross Inputs to Refineries (Thousand Barrels Per Day)  \\\n",
       "0                                             5230.0                           \n",
       "1                                             5330.0                           \n",
       "2                                             5251.0                           \n",
       "3                                             5531.0                           \n",
       "4                                             5668.0                           \n",
       "\n",
       "   Texas Inland Refinery District Gross Inputs to Refineries (Thousand Barrels Per Day)  \\\n",
       "0                                              489.0                                      \n",
       "1                                              481.0                                      \n",
       "2                                              480.0                                      \n",
       "3                                              454.0                                      \n",
       "4                                              453.0                                      \n",
       "\n",
       "   Refining District Texas Gulf Coast Gross Inputs to Atmospheric Crude Oil Distillation Units (Thousand Barrels per Day)  \\\n",
       "0                                             2792.0                                                                        \n",
       "1                                             2749.0                                                                        \n",
       "2                                             2601.0                                                                        \n",
       "3                                             2831.0                                                                        \n",
       "4                                             2936.0                                                                        \n",
       "\n",
       "   Louisiana Gulf Coast Refinery District Gross Inputs to Refineries (Thousand Barrels Per Day)  \\\n",
       "0                                             1730.0                                              \n",
       "1                                             1882.0                                              \n",
       "2                                             1957.0                                              \n",
       "3                                             2046.0                                              \n",
       "4                                             2045.0                                              \n",
       "\n",
       "   Refining District North Louisiana-Arkansas Gross Inputs to Refineries (Thousand Barrels per Day)  \\\n",
       "0                                              166.0                                                  \n",
       "1                                              170.0                                                  \n",
       "2                                              161.0                                                  \n",
       "3                                              137.0                                                  \n",
       "4                                              169.0                                                  \n",
       "\n",
       "   Refining District New Mexico Gross Inputs to Atmospheric Crude Oil Distillation Units (Thousand Barrels per Day)  \\\n",
       "0                                               53.0                                                                  \n",
       "1                                               47.0                                                                  \n",
       "2                                               52.0                                                                  \n",
       "3                                               63.0                                                                  \n",
       "4                                               64.0                                                                  \n",
       "\n",
       "   Rocky Mountains (PADD 4) Gross Inputs to Refineries (Thousand Barrels Per Day)  \\\n",
       "0                                              423.0                                \n",
       "1                                              398.0                                \n",
       "2                                              405.0                                \n",
       "3                                              341.0                                \n",
       "4                                              472.0                                \n",
       "\n",
       "   West Coast (PADD 5) Gross Inputs to Refineries (Thousand Barrels Per Day)  \\\n",
       "0                                             2163.0                           \n",
       "1                                             2098.0                           \n",
       "2                                             2212.0                           \n",
       "3                                             2298.0                           \n",
       "4                                             2267.0                           \n",
       "\n",
       "   Unnamed: 17  \n",
       "0          NaN  \n",
       "1          NaN  \n",
       "2          NaN  \n",
       "3          NaN  \n",
       "4          NaN  "
      ]
     },
     "execution_count": 7,
     "metadata": {},
     "output_type": "execute_result"
    }
   ],
   "source": [
    "capacitydata.head()"
   ]
  },
  {
   "cell_type": "code",
   "execution_count": 8,
   "metadata": {},
   "outputs": [],
   "source": [
    "capacitydata = capacitydata.drop(columns='Unnamed: 17')"
   ]
  },
  {
   "cell_type": "code",
   "execution_count": 9,
   "metadata": {},
   "outputs": [],
   "source": [
    "import matplotlib.pyplot as plt\n",
    "import numpy as np"
   ]
  },
  {
   "cell_type": "code",
   "execution_count": 10,
   "metadata": {},
   "outputs": [],
   "source": [
    "capacitydata.isnull().sum() #Only 1 etry\n",
    "capacitydata = capacitydata.dropna()"
   ]
  },
  {
   "cell_type": "code",
   "execution_count": 11,
   "metadata": {},
   "outputs": [],
   "source": [
    "# plt.bar(capacitydata['Date'],capacitydata['U.S. Gross Inputs to Refineries (Thousand Barrels Per Day)']) Not informative"
   ]
  },
  {
   "cell_type": "code",
   "execution_count": 12,
   "metadata": {},
   "outputs": [],
   "source": [
    "capacitydata = capacitydata.drop(columns=['Refining District East Coast Refinery District Gross Inputs to Refineries (Thousand Barrels Per Day)',\n",
    "                                 'Appalachian No. 1 Refinery District Gross Inputs to Refineries (Thousand Barrels Per Day)',\n",
    "                                 'Indiana, Illinois, Kentucky Refinery District Gross Inputs to Refineries (Thousand Barrels Per Day)',\n",
    "                                 'Minnesota, Wisconsin, North and South Dakota Refinery District Gross Inputs to Refineries (Thousand Barrels Per Day)',\n",
    "                                 'Refining District Oklahoma-Kansas-Missouri Gross Inputs to Atmospheric Crude Oil Distillation Units (Thousand Barrels per Day)',\n",
    "                                 'Refining District New Mexico Gross Inputs to Atmospheric Crude Oil Distillation Units (Thousand Barrels per Day)'])"
   ]
  },
  {
   "cell_type": "code",
   "execution_count": 13,
   "metadata": {},
   "outputs": [
    {
     "data": {
      "text/html": [
       "<div>\n",
       "<style scoped>\n",
       "    .dataframe tbody tr th:only-of-type {\n",
       "        vertical-align: middle;\n",
       "    }\n",
       "\n",
       "    .dataframe tbody tr th {\n",
       "        vertical-align: top;\n",
       "    }\n",
       "\n",
       "    .dataframe thead th {\n",
       "        text-align: right;\n",
       "    }\n",
       "</style>\n",
       "<table border=\"1\" class=\"dataframe\">\n",
       "  <thead>\n",
       "    <tr style=\"text-align: right;\">\n",
       "      <th></th>\n",
       "      <th>Date</th>\n",
       "      <th>U.S. Gross Inputs to Refineries (Thousand Barrels Per Day)</th>\n",
       "      <th>East Coast (PADD 1) Gross Inputs to Atmospheric Crude Oil Distillation Units (Thousand Barrels per Day)</th>\n",
       "      <th>Midwest (PADD 2) Gross Inputs to Refineries (Thousand Barrels Per Day)</th>\n",
       "      <th>Gulf Coast (PADD 3) Gross Inputs to Refineries (Thousand Barrels Per Day)</th>\n",
       "      <th>Texas Inland Refinery District Gross Inputs to Refineries (Thousand Barrels Per Day)</th>\n",
       "      <th>Refining District Texas Gulf Coast Gross Inputs to Atmospheric Crude Oil Distillation Units (Thousand Barrels per Day)</th>\n",
       "      <th>Louisiana Gulf Coast Refinery District Gross Inputs to Refineries (Thousand Barrels Per Day)</th>\n",
       "      <th>Refining District North Louisiana-Arkansas Gross Inputs to Refineries (Thousand Barrels per Day)</th>\n",
       "      <th>Rocky Mountains (PADD 4) Gross Inputs to Refineries (Thousand Barrels Per Day)</th>\n",
       "      <th>West Coast (PADD 5) Gross Inputs to Refineries (Thousand Barrels Per Day)</th>\n",
       "    </tr>\n",
       "  </thead>\n",
       "  <tbody>\n",
       "    <tr>\n",
       "      <th>0</th>\n",
       "      <td>Jan-1985</td>\n",
       "      <td>11583.0</td>\n",
       "      <td>1092.0</td>\n",
       "      <td>2675.0</td>\n",
       "      <td>5230.0</td>\n",
       "      <td>489.0</td>\n",
       "      <td>2792.0</td>\n",
       "      <td>1730.0</td>\n",
       "      <td>166.0</td>\n",
       "      <td>423.0</td>\n",
       "      <td>2163.0</td>\n",
       "    </tr>\n",
       "    <tr>\n",
       "      <th>1</th>\n",
       "      <td>Feb-1985</td>\n",
       "      <td>11485.0</td>\n",
       "      <td>1103.0</td>\n",
       "      <td>2556.0</td>\n",
       "      <td>5330.0</td>\n",
       "      <td>481.0</td>\n",
       "      <td>2749.0</td>\n",
       "      <td>1882.0</td>\n",
       "      <td>170.0</td>\n",
       "      <td>398.0</td>\n",
       "      <td>2098.0</td>\n",
       "    </tr>\n",
       "    <tr>\n",
       "      <th>2</th>\n",
       "      <td>Mar-1985</td>\n",
       "      <td>11484.0</td>\n",
       "      <td>1108.0</td>\n",
       "      <td>2508.0</td>\n",
       "      <td>5251.0</td>\n",
       "      <td>480.0</td>\n",
       "      <td>2601.0</td>\n",
       "      <td>1957.0</td>\n",
       "      <td>161.0</td>\n",
       "      <td>405.0</td>\n",
       "      <td>2212.0</td>\n",
       "    </tr>\n",
       "    <tr>\n",
       "      <th>3</th>\n",
       "      <td>Apr-1985</td>\n",
       "      <td>11969.0</td>\n",
       "      <td>1149.0</td>\n",
       "      <td>2650.0</td>\n",
       "      <td>5531.0</td>\n",
       "      <td>454.0</td>\n",
       "      <td>2831.0</td>\n",
       "      <td>2046.0</td>\n",
       "      <td>137.0</td>\n",
       "      <td>341.0</td>\n",
       "      <td>2298.0</td>\n",
       "    </tr>\n",
       "    <tr>\n",
       "      <th>4</th>\n",
       "      <td>May-1985</td>\n",
       "      <td>12269.0</td>\n",
       "      <td>1154.0</td>\n",
       "      <td>2708.0</td>\n",
       "      <td>5668.0</td>\n",
       "      <td>453.0</td>\n",
       "      <td>2936.0</td>\n",
       "      <td>2045.0</td>\n",
       "      <td>169.0</td>\n",
       "      <td>472.0</td>\n",
       "      <td>2267.0</td>\n",
       "    </tr>\n",
       "  </tbody>\n",
       "</table>\n",
       "</div>"
      ],
      "text/plain": [
       "       Date  U.S. Gross Inputs to Refineries (Thousand Barrels Per Day)  \\\n",
       "0  Jan-1985                                            11583.0            \n",
       "1  Feb-1985                                            11485.0            \n",
       "2  Mar-1985                                            11484.0            \n",
       "3  Apr-1985                                            11969.0            \n",
       "4  May-1985                                            12269.0            \n",
       "\n",
       "   East Coast (PADD 1) Gross Inputs to Atmospheric Crude Oil Distillation Units (Thousand Barrels per Day)  \\\n",
       "0                                             1092.0                                                         \n",
       "1                                             1103.0                                                         \n",
       "2                                             1108.0                                                         \n",
       "3                                             1149.0                                                         \n",
       "4                                             1154.0                                                         \n",
       "\n",
       "   Midwest (PADD 2) Gross Inputs to Refineries (Thousand Barrels Per Day)  \\\n",
       "0                                             2675.0                        \n",
       "1                                             2556.0                        \n",
       "2                                             2508.0                        \n",
       "3                                             2650.0                        \n",
       "4                                             2708.0                        \n",
       "\n",
       "   Gulf Coast (PADD 3) Gross Inputs to Refineries (Thousand Barrels Per Day)  \\\n",
       "0                                             5230.0                           \n",
       "1                                             5330.0                           \n",
       "2                                             5251.0                           \n",
       "3                                             5531.0                           \n",
       "4                                             5668.0                           \n",
       "\n",
       "   Texas Inland Refinery District Gross Inputs to Refineries (Thousand Barrels Per Day)  \\\n",
       "0                                              489.0                                      \n",
       "1                                              481.0                                      \n",
       "2                                              480.0                                      \n",
       "3                                              454.0                                      \n",
       "4                                              453.0                                      \n",
       "\n",
       "   Refining District Texas Gulf Coast Gross Inputs to Atmospheric Crude Oil Distillation Units (Thousand Barrels per Day)  \\\n",
       "0                                             2792.0                                                                        \n",
       "1                                             2749.0                                                                        \n",
       "2                                             2601.0                                                                        \n",
       "3                                             2831.0                                                                        \n",
       "4                                             2936.0                                                                        \n",
       "\n",
       "   Louisiana Gulf Coast Refinery District Gross Inputs to Refineries (Thousand Barrels Per Day)  \\\n",
       "0                                             1730.0                                              \n",
       "1                                             1882.0                                              \n",
       "2                                             1957.0                                              \n",
       "3                                             2046.0                                              \n",
       "4                                             2045.0                                              \n",
       "\n",
       "   Refining District North Louisiana-Arkansas Gross Inputs to Refineries (Thousand Barrels per Day)  \\\n",
       "0                                              166.0                                                  \n",
       "1                                              170.0                                                  \n",
       "2                                              161.0                                                  \n",
       "3                                              137.0                                                  \n",
       "4                                              169.0                                                  \n",
       "\n",
       "   Rocky Mountains (PADD 4) Gross Inputs to Refineries (Thousand Barrels Per Day)  \\\n",
       "0                                              423.0                                \n",
       "1                                              398.0                                \n",
       "2                                              405.0                                \n",
       "3                                              341.0                                \n",
       "4                                              472.0                                \n",
       "\n",
       "   West Coast (PADD 5) Gross Inputs to Refineries (Thousand Barrels Per Day)  \n",
       "0                                             2163.0                          \n",
       "1                                             2098.0                          \n",
       "2                                             2212.0                          \n",
       "3                                             2298.0                          \n",
       "4                                             2267.0                          "
      ]
     },
     "execution_count": 13,
     "metadata": {},
     "output_type": "execute_result"
    }
   ],
   "source": [
    "capacitydata.head()"
   ]
  },
  {
   "cell_type": "code",
   "execution_count": 14,
   "metadata": {},
   "outputs": [],
   "source": [
    "# # We know all numbers are kbd feed to refineries, so drop excess detail to make titles cleaner.\n",
    "capacitydata = capacitydata.rename({\"U.S. Gross Inputs to Refineries (Thousand Barrels Per Day)\":\"Gross refinery input (kbd)\",\n",
    "                                    \"East Coast (PADD 1) Gross Inputs to Atmospheric Crude Oil Distillation Units (Thousand Barrels per Day)\":\"PADD 1\",\n",
    "                                    \"Midwest (PADD 2) Gross Inputs to Refineries (Thousand Barrels Per Day)\":\"PADD 2\",\n",
    "                                    \"Gulf Coast (PADD 3) Gross Inputs to Refineries (Thousand Barrels Per Day)\":\"PADD 3\",\n",
    "                                    \"Texas Inland Refinery District Gross Inputs to Refineries (Thousand Barrels Per Day)\":\"Texas Inland\",\n",
    "                                    \"Refining District Texas Gulf Coast Gross Inputs to Atmospheric Crude Oil Distillation Units (Thousand Barrels per Day)\":\"Texas GC\",\n",
    "                                    \"Louisiana Gulf Coast Refinery District Gross Inputs to Refineries (Thousand Barrels Per Day)\":\"LA\",\n",
    "                                    \"Rocky Mountains (PADD 4) Gross Inputs to Refineries (Thousand Barrels Per Day)\":\"PADD 4\",\n",
    "                                    \"West Coast (PADD 5) Gross Inputs to Refineries (Thousand Barrels Per Day)\":\"PADD 5\", \n",
    "                                   \"Refining District North Louisiana-Arkansas Gross Inputs to Refineries (Thousand Barrels per Day)\":\"N.LA-ARK\"},axis='columns')"
   ]
  },
  {
   "cell_type": "code",
   "execution_count": 15,
   "metadata": {},
   "outputs": [
    {
     "data": {
      "text/html": [
       "<div>\n",
       "<style scoped>\n",
       "    .dataframe tbody tr th:only-of-type {\n",
       "        vertical-align: middle;\n",
       "    }\n",
       "\n",
       "    .dataframe tbody tr th {\n",
       "        vertical-align: top;\n",
       "    }\n",
       "\n",
       "    .dataframe thead th {\n",
       "        text-align: right;\n",
       "    }\n",
       "</style>\n",
       "<table border=\"1\" class=\"dataframe\">\n",
       "  <thead>\n",
       "    <tr style=\"text-align: right;\">\n",
       "      <th></th>\n",
       "      <th>Date</th>\n",
       "      <th>Gross refinery input (kbd)</th>\n",
       "      <th>PADD 1</th>\n",
       "      <th>PADD 2</th>\n",
       "      <th>PADD 3</th>\n",
       "      <th>Texas Inland</th>\n",
       "      <th>Texas GC</th>\n",
       "      <th>LA</th>\n",
       "      <th>N.LA-ARK</th>\n",
       "      <th>PADD 4</th>\n",
       "      <th>PADD 5</th>\n",
       "    </tr>\n",
       "  </thead>\n",
       "  <tbody>\n",
       "    <tr>\n",
       "      <th>0</th>\n",
       "      <td>Jan-1985</td>\n",
       "      <td>11583.0</td>\n",
       "      <td>1092.0</td>\n",
       "      <td>2675.0</td>\n",
       "      <td>5230.0</td>\n",
       "      <td>489.0</td>\n",
       "      <td>2792.0</td>\n",
       "      <td>1730.0</td>\n",
       "      <td>166.0</td>\n",
       "      <td>423.0</td>\n",
       "      <td>2163.0</td>\n",
       "    </tr>\n",
       "    <tr>\n",
       "      <th>1</th>\n",
       "      <td>Feb-1985</td>\n",
       "      <td>11485.0</td>\n",
       "      <td>1103.0</td>\n",
       "      <td>2556.0</td>\n",
       "      <td>5330.0</td>\n",
       "      <td>481.0</td>\n",
       "      <td>2749.0</td>\n",
       "      <td>1882.0</td>\n",
       "      <td>170.0</td>\n",
       "      <td>398.0</td>\n",
       "      <td>2098.0</td>\n",
       "    </tr>\n",
       "    <tr>\n",
       "      <th>2</th>\n",
       "      <td>Mar-1985</td>\n",
       "      <td>11484.0</td>\n",
       "      <td>1108.0</td>\n",
       "      <td>2508.0</td>\n",
       "      <td>5251.0</td>\n",
       "      <td>480.0</td>\n",
       "      <td>2601.0</td>\n",
       "      <td>1957.0</td>\n",
       "      <td>161.0</td>\n",
       "      <td>405.0</td>\n",
       "      <td>2212.0</td>\n",
       "    </tr>\n",
       "    <tr>\n",
       "      <th>3</th>\n",
       "      <td>Apr-1985</td>\n",
       "      <td>11969.0</td>\n",
       "      <td>1149.0</td>\n",
       "      <td>2650.0</td>\n",
       "      <td>5531.0</td>\n",
       "      <td>454.0</td>\n",
       "      <td>2831.0</td>\n",
       "      <td>2046.0</td>\n",
       "      <td>137.0</td>\n",
       "      <td>341.0</td>\n",
       "      <td>2298.0</td>\n",
       "    </tr>\n",
       "    <tr>\n",
       "      <th>4</th>\n",
       "      <td>May-1985</td>\n",
       "      <td>12269.0</td>\n",
       "      <td>1154.0</td>\n",
       "      <td>2708.0</td>\n",
       "      <td>5668.0</td>\n",
       "      <td>453.0</td>\n",
       "      <td>2936.0</td>\n",
       "      <td>2045.0</td>\n",
       "      <td>169.0</td>\n",
       "      <td>472.0</td>\n",
       "      <td>2267.0</td>\n",
       "    </tr>\n",
       "  </tbody>\n",
       "</table>\n",
       "</div>"
      ],
      "text/plain": [
       "       Date  Gross refinery input (kbd)  PADD 1  PADD 2  PADD 3  Texas Inland  \\\n",
       "0  Jan-1985                     11583.0  1092.0  2675.0  5230.0         489.0   \n",
       "1  Feb-1985                     11485.0  1103.0  2556.0  5330.0         481.0   \n",
       "2  Mar-1985                     11484.0  1108.0  2508.0  5251.0         480.0   \n",
       "3  Apr-1985                     11969.0  1149.0  2650.0  5531.0         454.0   \n",
       "4  May-1985                     12269.0  1154.0  2708.0  5668.0         453.0   \n",
       "\n",
       "   Texas GC      LA  N.LA-ARK  PADD 4  PADD 5  \n",
       "0    2792.0  1730.0     166.0   423.0  2163.0  \n",
       "1    2749.0  1882.0     170.0   398.0  2098.0  \n",
       "2    2601.0  1957.0     161.0   405.0  2212.0  \n",
       "3    2831.0  2046.0     137.0   341.0  2298.0  \n",
       "4    2936.0  2045.0     169.0   472.0  2267.0  "
      ]
     },
     "execution_count": 15,
     "metadata": {},
     "output_type": "execute_result"
    }
   ],
   "source": [
    "capacitydata.head()"
   ]
  },
  {
   "cell_type": "code",
   "execution_count": 16,
   "metadata": {},
   "outputs": [],
   "source": [
    "# Some dimensionality reduction and cleaning there - I've kept some detail within PADD 3.\n",
    "#In lieu of latitude and longitude, let's use https://plotly.com/python/choropleth-maps/ to plot capacity by state data first."
   ]
  },
  {
   "cell_type": "code",
   "execution_count": 17,
   "metadata": {},
   "outputs": [
    {
     "data": {
      "text/html": [
       "<div>\n",
       "<style scoped>\n",
       "    .dataframe tbody tr th:only-of-type {\n",
       "        vertical-align: middle;\n",
       "    }\n",
       "\n",
       "    .dataframe tbody tr th {\n",
       "        vertical-align: top;\n",
       "    }\n",
       "\n",
       "    .dataframe thead th {\n",
       "        text-align: right;\n",
       "    }\n",
       "</style>\n",
       "<table border=\"1\" class=\"dataframe\">\n",
       "  <thead>\n",
       "    <tr style=\"text-align: right;\">\n",
       "      <th></th>\n",
       "      <th>CORPORATION</th>\n",
       "      <th>SURVEY</th>\n",
       "      <th>PERIOD</th>\n",
       "      <th>COMPANY_NAME</th>\n",
       "      <th>RDIST_LABEL</th>\n",
       "      <th>STATE_NAME</th>\n",
       "      <th>SITE</th>\n",
       "      <th>PADD</th>\n",
       "      <th>PRODUCT</th>\n",
       "      <th>SUPPLY</th>\n",
       "      <th>QUANTITY</th>\n",
       "    </tr>\n",
       "  </thead>\n",
       "  <tbody>\n",
       "    <tr>\n",
       "      <th>0</th>\n",
       "      <td>DELEK GROUP LTD</td>\n",
       "      <td>820</td>\n",
       "      <td>19</td>\n",
       "      <td>ALON REFINING KROTZ SPRINGS INC</td>\n",
       "      <td>Louisiana Gulf Coast</td>\n",
       "      <td>Louisiana</td>\n",
       "      <td>KROTZ SPRINGS</td>\n",
       "      <td>3</td>\n",
       "      <td>ALKYLATES</td>\n",
       "      <td>Production Capacity, Next Year (barrels per st...</td>\n",
       "      <td>6000</td>\n",
       "    </tr>\n",
       "    <tr>\n",
       "      <th>1</th>\n",
       "      <td>DELEK GROUP LTD</td>\n",
       "      <td>820</td>\n",
       "      <td>19</td>\n",
       "      <td>ALON REFINING KROTZ SPRINGS INC</td>\n",
       "      <td>Louisiana Gulf Coast</td>\n",
       "      <td>Louisiana</td>\n",
       "      <td>KROTZ SPRINGS</td>\n",
       "      <td>3</td>\n",
       "      <td>CAT CRACKING: FRESH FEED</td>\n",
       "      <td>Downstream Charge Capacity, Current Year (barr...</td>\n",
       "      <td>33000</td>\n",
       "    </tr>\n",
       "    <tr>\n",
       "      <th>2</th>\n",
       "      <td>DELEK GROUP LTD</td>\n",
       "      <td>820</td>\n",
       "      <td>19</td>\n",
       "      <td>ALON REFINING KROTZ SPRINGS INC</td>\n",
       "      <td>Louisiana Gulf Coast</td>\n",
       "      <td>Louisiana</td>\n",
       "      <td>KROTZ SPRINGS</td>\n",
       "      <td>3</td>\n",
       "      <td>CAT CRACKING: FRESH FEED</td>\n",
       "      <td>Downstream Charge Capacity, Current Year (barr...</td>\n",
       "      <td>34000</td>\n",
       "    </tr>\n",
       "    <tr>\n",
       "      <th>3</th>\n",
       "      <td>DELEK GROUP LTD</td>\n",
       "      <td>820</td>\n",
       "      <td>19</td>\n",
       "      <td>ALON REFINING KROTZ SPRINGS INC</td>\n",
       "      <td>Louisiana Gulf Coast</td>\n",
       "      <td>Louisiana</td>\n",
       "      <td>KROTZ SPRINGS</td>\n",
       "      <td>3</td>\n",
       "      <td>CAT CRACKING: FRESH FEED</td>\n",
       "      <td>Downstream Charge Capacity, Next Year (barrels...</td>\n",
       "      <td>34000</td>\n",
       "    </tr>\n",
       "    <tr>\n",
       "      <th>4</th>\n",
       "      <td>DELEK GROUP LTD</td>\n",
       "      <td>820</td>\n",
       "      <td>19</td>\n",
       "      <td>ALON REFINING KROTZ SPRINGS INC</td>\n",
       "      <td>Louisiana Gulf Coast</td>\n",
       "      <td>Louisiana</td>\n",
       "      <td>KROTZ SPRINGS</td>\n",
       "      <td>3</td>\n",
       "      <td>CAT REFORMING: HIGH PRESSURE</td>\n",
       "      <td>Downstream Charge Capacity, Current Year (barr...</td>\n",
       "      <td>12000</td>\n",
       "    </tr>\n",
       "  </tbody>\n",
       "</table>\n",
       "</div>"
      ],
      "text/plain": [
       "       CORPORATION  SURVEY  PERIOD                     COMPANY_NAME  \\\n",
       "0  DELEK GROUP LTD     820      19  ALON REFINING KROTZ SPRINGS INC   \n",
       "1  DELEK GROUP LTD     820      19  ALON REFINING KROTZ SPRINGS INC   \n",
       "2  DELEK GROUP LTD     820      19  ALON REFINING KROTZ SPRINGS INC   \n",
       "3  DELEK GROUP LTD     820      19  ALON REFINING KROTZ SPRINGS INC   \n",
       "4  DELEK GROUP LTD     820      19  ALON REFINING KROTZ SPRINGS INC   \n",
       "\n",
       "            RDIST_LABEL STATE_NAME           SITE  PADD  \\\n",
       "0  Louisiana Gulf Coast  Louisiana  KROTZ SPRINGS     3   \n",
       "1  Louisiana Gulf Coast  Louisiana  KROTZ SPRINGS     3   \n",
       "2  Louisiana Gulf Coast  Louisiana  KROTZ SPRINGS     3   \n",
       "3  Louisiana Gulf Coast  Louisiana  KROTZ SPRINGS     3   \n",
       "4  Louisiana Gulf Coast  Louisiana  KROTZ SPRINGS     3   \n",
       "\n",
       "                        PRODUCT  \\\n",
       "0                     ALKYLATES   \n",
       "1      CAT CRACKING: FRESH FEED   \n",
       "2      CAT CRACKING: FRESH FEED   \n",
       "3      CAT CRACKING: FRESH FEED   \n",
       "4  CAT REFORMING: HIGH PRESSURE   \n",
       "\n",
       "                                              SUPPLY  QUANTITY  \n",
       "0  Production Capacity, Next Year (barrels per st...      6000  \n",
       "1  Downstream Charge Capacity, Current Year (barr...     33000  \n",
       "2  Downstream Charge Capacity, Current Year (barr...     34000  \n",
       "3  Downstream Charge Capacity, Next Year (barrels...     34000  \n",
       "4  Downstream Charge Capacity, Current Year (barr...     12000  "
      ]
     },
     "execution_count": 17,
     "metadata": {},
     "output_type": "execute_result"
    }
   ],
   "source": [
    "refineriesbystate = pd.read_csv(\"Refineries By States.csv\")\n",
    "refineriesbystate.head() #This is from Jan 2019\n",
    "# https://plotly.com/python/choropleth-maps/ - REFERENCE"
   ]
  },
  {
   "cell_type": "code",
   "execution_count": 18,
   "metadata": {},
   "outputs": [],
   "source": [
    "capacitybystate = refineriesbystate.loc[:,[\"STATE_NAME\",\"QUANTITY\",'PRODUCT','SUPPLY']]\n",
    "# for state in list(capacitybystate['STATE_NAME']):\n",
    "# #     capacitybystate['Total in' + str(state)] = capaci"
   ]
  },
  {
   "cell_type": "code",
   "execution_count": 19,
   "metadata": {},
   "outputs": [],
   "source": [
    "FeedCapacityByState = capacitybystate[capacitybystate.PRODUCT.str.contains('TOTAL OPERABLE CAPACITY')]"
   ]
  },
  {
   "cell_type": "code",
   "execution_count": 20,
   "metadata": {},
   "outputs": [
    {
     "data": {
      "text/plain": [
       "['STATE_NAME', 'QUANTITY', 'PRODUCT', 'SUPPLY']"
      ]
     },
     "execution_count": 20,
     "metadata": {},
     "output_type": "execute_result"
    }
   ],
   "source": [
    "list(FeedCapacityByState.columns)"
   ]
  },
  {
   "cell_type": "code",
   "execution_count": 21,
   "metadata": {},
   "outputs": [],
   "source": [
    "FeedCapacityByState = FeedCapacityByState.groupby(FeedCapacityByState['STATE_NAME']).aggregate({'QUANTITY': 'sum'}).reset_index()"
   ]
  },
  {
   "cell_type": "code",
   "execution_count": 22,
   "metadata": {},
   "outputs": [
    {
     "data": {
      "text/plain": [
       "['STATE_NAME', 'QUANTITY']"
      ]
     },
     "execution_count": 22,
     "metadata": {},
     "output_type": "execute_result"
    }
   ],
   "source": [
    "list(FeedCapacityByState.columns)"
   ]
  },
  {
   "cell_type": "code",
   "execution_count": 97,
   "metadata": {},
   "outputs": [
    {
     "data": {
      "text/html": [
       "<div>\n",
       "<style scoped>\n",
       "    .dataframe tbody tr th:only-of-type {\n",
       "        vertical-align: middle;\n",
       "    }\n",
       "\n",
       "    .dataframe tbody tr th {\n",
       "        vertical-align: top;\n",
       "    }\n",
       "\n",
       "    .dataframe thead th {\n",
       "        text-align: right;\n",
       "    }\n",
       "</style>\n",
       "<table border=\"1\" class=\"dataframe\">\n",
       "  <thead>\n",
       "    <tr style=\"text-align: right;\">\n",
       "      <th></th>\n",
       "      <th>STATE_NAME</th>\n",
       "      <th>QUANTITY</th>\n",
       "      <th>%</th>\n",
       "    </tr>\n",
       "  </thead>\n",
       "  <tbody>\n",
       "    <tr>\n",
       "      <th>0</th>\n",
       "      <td>AL</td>\n",
       "      <td>292175</td>\n",
       "      <td>0.75</td>\n",
       "    </tr>\n",
       "    <tr>\n",
       "      <th>1</th>\n",
       "      <td>AK</td>\n",
       "      <td>342700</td>\n",
       "      <td>0.88</td>\n",
       "    </tr>\n",
       "    <tr>\n",
       "      <th>2</th>\n",
       "      <td>AR</td>\n",
       "      <td>183200</td>\n",
       "      <td>0.47</td>\n",
       "    </tr>\n",
       "    <tr>\n",
       "      <th>3</th>\n",
       "      <td>CA</td>\n",
       "      <td>3919071</td>\n",
       "      <td>10.11</td>\n",
       "    </tr>\n",
       "    <tr>\n",
       "      <th>4</th>\n",
       "      <td>CO</td>\n",
       "      <td>214700</td>\n",
       "      <td>0.55</td>\n",
       "    </tr>\n",
       "    <tr>\n",
       "      <th>5</th>\n",
       "      <td>DE</td>\n",
       "      <td>372400</td>\n",
       "      <td>0.96</td>\n",
       "    </tr>\n",
       "    <tr>\n",
       "      <th>6</th>\n",
       "      <td>HI</td>\n",
       "      <td>299500</td>\n",
       "      <td>0.77</td>\n",
       "    </tr>\n",
       "    <tr>\n",
       "      <th>7</th>\n",
       "      <td>IL</td>\n",
       "      <td>2108065</td>\n",
       "      <td>5.44</td>\n",
       "    </tr>\n",
       "    <tr>\n",
       "      <th>8</th>\n",
       "      <td>IN</td>\n",
       "      <td>929600</td>\n",
       "      <td>2.40</td>\n",
       "    </tr>\n",
       "    <tr>\n",
       "      <th>9</th>\n",
       "      <td>KS</td>\n",
       "      <td>799135</td>\n",
       "      <td>2.06</td>\n",
       "    </tr>\n",
       "    <tr>\n",
       "      <th>10</th>\n",
       "      <td>KY</td>\n",
       "      <td>580800</td>\n",
       "      <td>1.50</td>\n",
       "    </tr>\n",
       "    <tr>\n",
       "      <th>11</th>\n",
       "      <td>LA</td>\n",
       "      <td>6855815</td>\n",
       "      <td>17.69</td>\n",
       "    </tr>\n",
       "    <tr>\n",
       "      <th>12</th>\n",
       "      <td>MI</td>\n",
       "      <td>287000</td>\n",
       "      <td>0.74</td>\n",
       "    </tr>\n",
       "    <tr>\n",
       "      <th>13</th>\n",
       "      <td>MN</td>\n",
       "      <td>867215</td>\n",
       "      <td>2.24</td>\n",
       "    </tr>\n",
       "    <tr>\n",
       "      <th>14</th>\n",
       "      <td>MS</td>\n",
       "      <td>808940</td>\n",
       "      <td>2.09</td>\n",
       "    </tr>\n",
       "    <tr>\n",
       "      <th>15</th>\n",
       "      <td>MT</td>\n",
       "      <td>439600</td>\n",
       "      <td>1.13</td>\n",
       "    </tr>\n",
       "    <tr>\n",
       "      <th>16</th>\n",
       "      <td>NV</td>\n",
       "      <td>7000</td>\n",
       "      <td>0.02</td>\n",
       "    </tr>\n",
       "    <tr>\n",
       "      <th>17</th>\n",
       "      <td>NJ</td>\n",
       "      <td>856600</td>\n",
       "      <td>2.21</td>\n",
       "    </tr>\n",
       "    <tr>\n",
       "      <th>18</th>\n",
       "      <td>NM</td>\n",
       "      <td>287000</td>\n",
       "      <td>0.74</td>\n",
       "    </tr>\n",
       "    <tr>\n",
       "      <th>19</th>\n",
       "      <td>ND</td>\n",
       "      <td>184000</td>\n",
       "      <td>0.47</td>\n",
       "    </tr>\n",
       "    <tr>\n",
       "      <th>20</th>\n",
       "      <td>OH</td>\n",
       "      <td>1230800</td>\n",
       "      <td>3.18</td>\n",
       "    </tr>\n",
       "    <tr>\n",
       "      <th>21</th>\n",
       "      <td>OK</td>\n",
       "      <td>1078233</td>\n",
       "      <td>2.78</td>\n",
       "    </tr>\n",
       "    <tr>\n",
       "      <th>22</th>\n",
       "      <td>PA</td>\n",
       "      <td>1240800</td>\n",
       "      <td>3.20</td>\n",
       "    </tr>\n",
       "    <tr>\n",
       "      <th>23</th>\n",
       "      <td>TN</td>\n",
       "      <td>365000</td>\n",
       "      <td>0.94</td>\n",
       "    </tr>\n",
       "    <tr>\n",
       "      <th>24</th>\n",
       "      <td>TX</td>\n",
       "      <td>11983494</td>\n",
       "      <td>30.91</td>\n",
       "    </tr>\n",
       "    <tr>\n",
       "      <th>25</th>\n",
       "      <td>UT</td>\n",
       "      <td>412750</td>\n",
       "      <td>1.06</td>\n",
       "    </tr>\n",
       "    <tr>\n",
       "      <th>26</th>\n",
       "      <td>WA</td>\n",
       "      <td>1324200</td>\n",
       "      <td>3.42</td>\n",
       "    </tr>\n",
       "    <tr>\n",
       "      <th>27</th>\n",
       "      <td>WV</td>\n",
       "      <td>45300</td>\n",
       "      <td>0.12</td>\n",
       "    </tr>\n",
       "    <tr>\n",
       "      <th>28</th>\n",
       "      <td>WI</td>\n",
       "      <td>88000</td>\n",
       "      <td>0.23</td>\n",
       "    </tr>\n",
       "    <tr>\n",
       "      <th>29</th>\n",
       "      <td>WY</td>\n",
       "      <td>359900</td>\n",
       "      <td>0.93</td>\n",
       "    </tr>\n",
       "  </tbody>\n",
       "</table>\n",
       "</div>"
      ],
      "text/plain": [
       "   STATE_NAME  QUANTITY      %\n",
       "0          AL    292175   0.75\n",
       "1          AK    342700   0.88\n",
       "2          AR    183200   0.47\n",
       "3          CA   3919071  10.11\n",
       "4          CO    214700   0.55\n",
       "5          DE    372400   0.96\n",
       "6          HI    299500   0.77\n",
       "7          IL   2108065   5.44\n",
       "8          IN    929600   2.40\n",
       "9          KS    799135   2.06\n",
       "10         KY    580800   1.50\n",
       "11         LA   6855815  17.69\n",
       "12         MI    287000   0.74\n",
       "13         MN    867215   2.24\n",
       "14         MS    808940   2.09\n",
       "15         MT    439600   1.13\n",
       "16         NV      7000   0.02\n",
       "17         NJ    856600   2.21\n",
       "18         NM    287000   0.74\n",
       "19         ND    184000   0.47\n",
       "20         OH   1230800   3.18\n",
       "21         OK   1078233   2.78\n",
       "22         PA   1240800   3.20\n",
       "23         TN    365000   0.94\n",
       "24         TX  11983494  30.91\n",
       "25         UT    412750   1.06\n",
       "26         WA   1324200   3.42\n",
       "27         WV     45300   0.12\n",
       "28         WI     88000   0.23\n",
       "29         WY    359900   0.93"
      ]
     },
     "execution_count": 97,
     "metadata": {},
     "output_type": "execute_result"
    }
   ],
   "source": [
    "FeedCapacityByState['%'] = round((FeedCapacityByState['QUANTITY'] / (sum(FeedCapacityByState['QUANTITY'])) * 100),2)\n",
    "FeedCapacityByState"
   ]
  },
  {
   "cell_type": "code",
   "execution_count": 24,
   "metadata": {},
   "outputs": [],
   "source": [
    "%run us_state_abbrev.ipynb\n",
    "FeedCapacityByState['STATE_NAME'] = FeedCapacityByState['STATE_NAME'].map(us_state_abbrev)"
   ]
  },
  {
   "cell_type": "code",
   "execution_count": 100,
   "metadata": {},
   "outputs": [
    {
     "data": {
      "application/vnd.plotly.v1+json": {
       "config": {
        "plotlyServerURL": "https://plot.ly"
       },
       "data": [
        {
         "colorbar": {
          "title": {
           "text": "KBD"
          }
         },
         "colorscale": [
          [
           0,
           "rgb(255,245,240)"
          ],
          [
           0.125,
           "rgb(254,224,210)"
          ],
          [
           0.25,
           "rgb(252,187,161)"
          ],
          [
           0.375,
           "rgb(252,146,114)"
          ],
          [
           0.5,
           "rgb(251,106,74)"
          ],
          [
           0.625,
           "rgb(239,59,44)"
          ],
          [
           0.75,
           "rgb(203,24,29)"
          ],
          [
           0.875,
           "rgb(165,15,21)"
          ],
          [
           1,
           "rgb(103,0,13)"
          ]
         ],
         "locationmode": "USA-states",
         "locations": [
          "AL",
          "AK",
          "AR",
          "CA",
          "CO",
          "DE",
          "HI",
          "IL",
          "IN",
          "KS",
          "KY",
          "LA",
          "MI",
          "MN",
          "MS",
          "MT",
          "NV",
          "NJ",
          "NM",
          "ND",
          "OH",
          "OK",
          "PA",
          "TN",
          "TX",
          "UT",
          "WA",
          "WV",
          "WI",
          "WY"
         ],
         "type": "choropleth",
         "z": [
          292175,
          342700,
          183200,
          3919071,
          214700,
          372400,
          299500,
          2108065,
          929600,
          799135,
          580800,
          6855815,
          287000,
          867215,
          808940,
          439600,
          7000,
          856600,
          287000,
          184000,
          1230800,
          1078233,
          1240800,
          365000,
          11983494,
          412750,
          1324200,
          45300,
          88000,
          359900
         ]
        }
       ],
       "layout": {
        "geo": {
         "scope": "usa"
        },
        "template": {
         "data": {
          "bar": [
           {
            "error_x": {
             "color": "#2a3f5f"
            },
            "error_y": {
             "color": "#2a3f5f"
            },
            "marker": {
             "line": {
              "color": "#E5ECF6",
              "width": 0.5
             }
            },
            "type": "bar"
           }
          ],
          "barpolar": [
           {
            "marker": {
             "line": {
              "color": "#E5ECF6",
              "width": 0.5
             }
            },
            "type": "barpolar"
           }
          ],
          "carpet": [
           {
            "aaxis": {
             "endlinecolor": "#2a3f5f",
             "gridcolor": "white",
             "linecolor": "white",
             "minorgridcolor": "white",
             "startlinecolor": "#2a3f5f"
            },
            "baxis": {
             "endlinecolor": "#2a3f5f",
             "gridcolor": "white",
             "linecolor": "white",
             "minorgridcolor": "white",
             "startlinecolor": "#2a3f5f"
            },
            "type": "carpet"
           }
          ],
          "choropleth": [
           {
            "colorbar": {
             "outlinewidth": 0,
             "ticks": ""
            },
            "type": "choropleth"
           }
          ],
          "contour": [
           {
            "colorbar": {
             "outlinewidth": 0,
             "ticks": ""
            },
            "colorscale": [
             [
              0,
              "#0d0887"
             ],
             [
              0.1111111111111111,
              "#46039f"
             ],
             [
              0.2222222222222222,
              "#7201a8"
             ],
             [
              0.3333333333333333,
              "#9c179e"
             ],
             [
              0.4444444444444444,
              "#bd3786"
             ],
             [
              0.5555555555555556,
              "#d8576b"
             ],
             [
              0.6666666666666666,
              "#ed7953"
             ],
             [
              0.7777777777777778,
              "#fb9f3a"
             ],
             [
              0.8888888888888888,
              "#fdca26"
             ],
             [
              1,
              "#f0f921"
             ]
            ],
            "type": "contour"
           }
          ],
          "contourcarpet": [
           {
            "colorbar": {
             "outlinewidth": 0,
             "ticks": ""
            },
            "type": "contourcarpet"
           }
          ],
          "heatmap": [
           {
            "colorbar": {
             "outlinewidth": 0,
             "ticks": ""
            },
            "colorscale": [
             [
              0,
              "#0d0887"
             ],
             [
              0.1111111111111111,
              "#46039f"
             ],
             [
              0.2222222222222222,
              "#7201a8"
             ],
             [
              0.3333333333333333,
              "#9c179e"
             ],
             [
              0.4444444444444444,
              "#bd3786"
             ],
             [
              0.5555555555555556,
              "#d8576b"
             ],
             [
              0.6666666666666666,
              "#ed7953"
             ],
             [
              0.7777777777777778,
              "#fb9f3a"
             ],
             [
              0.8888888888888888,
              "#fdca26"
             ],
             [
              1,
              "#f0f921"
             ]
            ],
            "type": "heatmap"
           }
          ],
          "heatmapgl": [
           {
            "colorbar": {
             "outlinewidth": 0,
             "ticks": ""
            },
            "colorscale": [
             [
              0,
              "#0d0887"
             ],
             [
              0.1111111111111111,
              "#46039f"
             ],
             [
              0.2222222222222222,
              "#7201a8"
             ],
             [
              0.3333333333333333,
              "#9c179e"
             ],
             [
              0.4444444444444444,
              "#bd3786"
             ],
             [
              0.5555555555555556,
              "#d8576b"
             ],
             [
              0.6666666666666666,
              "#ed7953"
             ],
             [
              0.7777777777777778,
              "#fb9f3a"
             ],
             [
              0.8888888888888888,
              "#fdca26"
             ],
             [
              1,
              "#f0f921"
             ]
            ],
            "type": "heatmapgl"
           }
          ],
          "histogram": [
           {
            "marker": {
             "colorbar": {
              "outlinewidth": 0,
              "ticks": ""
             }
            },
            "type": "histogram"
           }
          ],
          "histogram2d": [
           {
            "colorbar": {
             "outlinewidth": 0,
             "ticks": ""
            },
            "colorscale": [
             [
              0,
              "#0d0887"
             ],
             [
              0.1111111111111111,
              "#46039f"
             ],
             [
              0.2222222222222222,
              "#7201a8"
             ],
             [
              0.3333333333333333,
              "#9c179e"
             ],
             [
              0.4444444444444444,
              "#bd3786"
             ],
             [
              0.5555555555555556,
              "#d8576b"
             ],
             [
              0.6666666666666666,
              "#ed7953"
             ],
             [
              0.7777777777777778,
              "#fb9f3a"
             ],
             [
              0.8888888888888888,
              "#fdca26"
             ],
             [
              1,
              "#f0f921"
             ]
            ],
            "type": "histogram2d"
           }
          ],
          "histogram2dcontour": [
           {
            "colorbar": {
             "outlinewidth": 0,
             "ticks": ""
            },
            "colorscale": [
             [
              0,
              "#0d0887"
             ],
             [
              0.1111111111111111,
              "#46039f"
             ],
             [
              0.2222222222222222,
              "#7201a8"
             ],
             [
              0.3333333333333333,
              "#9c179e"
             ],
             [
              0.4444444444444444,
              "#bd3786"
             ],
             [
              0.5555555555555556,
              "#d8576b"
             ],
             [
              0.6666666666666666,
              "#ed7953"
             ],
             [
              0.7777777777777778,
              "#fb9f3a"
             ],
             [
              0.8888888888888888,
              "#fdca26"
             ],
             [
              1,
              "#f0f921"
             ]
            ],
            "type": "histogram2dcontour"
           }
          ],
          "mesh3d": [
           {
            "colorbar": {
             "outlinewidth": 0,
             "ticks": ""
            },
            "type": "mesh3d"
           }
          ],
          "parcoords": [
           {
            "line": {
             "colorbar": {
              "outlinewidth": 0,
              "ticks": ""
             }
            },
            "type": "parcoords"
           }
          ],
          "pie": [
           {
            "automargin": true,
            "type": "pie"
           }
          ],
          "scatter": [
           {
            "marker": {
             "colorbar": {
              "outlinewidth": 0,
              "ticks": ""
             }
            },
            "type": "scatter"
           }
          ],
          "scatter3d": [
           {
            "line": {
             "colorbar": {
              "outlinewidth": 0,
              "ticks": ""
             }
            },
            "marker": {
             "colorbar": {
              "outlinewidth": 0,
              "ticks": ""
             }
            },
            "type": "scatter3d"
           }
          ],
          "scattercarpet": [
           {
            "marker": {
             "colorbar": {
              "outlinewidth": 0,
              "ticks": ""
             }
            },
            "type": "scattercarpet"
           }
          ],
          "scattergeo": [
           {
            "marker": {
             "colorbar": {
              "outlinewidth": 0,
              "ticks": ""
             }
            },
            "type": "scattergeo"
           }
          ],
          "scattergl": [
           {
            "marker": {
             "colorbar": {
              "outlinewidth": 0,
              "ticks": ""
             }
            },
            "type": "scattergl"
           }
          ],
          "scattermapbox": [
           {
            "marker": {
             "colorbar": {
              "outlinewidth": 0,
              "ticks": ""
             }
            },
            "type": "scattermapbox"
           }
          ],
          "scatterpolar": [
           {
            "marker": {
             "colorbar": {
              "outlinewidth": 0,
              "ticks": ""
             }
            },
            "type": "scatterpolar"
           }
          ],
          "scatterpolargl": [
           {
            "marker": {
             "colorbar": {
              "outlinewidth": 0,
              "ticks": ""
             }
            },
            "type": "scatterpolargl"
           }
          ],
          "scatterternary": [
           {
            "marker": {
             "colorbar": {
              "outlinewidth": 0,
              "ticks": ""
             }
            },
            "type": "scatterternary"
           }
          ],
          "surface": [
           {
            "colorbar": {
             "outlinewidth": 0,
             "ticks": ""
            },
            "colorscale": [
             [
              0,
              "#0d0887"
             ],
             [
              0.1111111111111111,
              "#46039f"
             ],
             [
              0.2222222222222222,
              "#7201a8"
             ],
             [
              0.3333333333333333,
              "#9c179e"
             ],
             [
              0.4444444444444444,
              "#bd3786"
             ],
             [
              0.5555555555555556,
              "#d8576b"
             ],
             [
              0.6666666666666666,
              "#ed7953"
             ],
             [
              0.7777777777777778,
              "#fb9f3a"
             ],
             [
              0.8888888888888888,
              "#fdca26"
             ],
             [
              1,
              "#f0f921"
             ]
            ],
            "type": "surface"
           }
          ],
          "table": [
           {
            "cells": {
             "fill": {
              "color": "#EBF0F8"
             },
             "line": {
              "color": "white"
             }
            },
            "header": {
             "fill": {
              "color": "#C8D4E3"
             },
             "line": {
              "color": "white"
             }
            },
            "type": "table"
           }
          ]
         },
         "layout": {
          "annotationdefaults": {
           "arrowcolor": "#2a3f5f",
           "arrowhead": 0,
           "arrowwidth": 1
          },
          "coloraxis": {
           "colorbar": {
            "outlinewidth": 0,
            "ticks": ""
           }
          },
          "colorscale": {
           "diverging": [
            [
             0,
             "#8e0152"
            ],
            [
             0.1,
             "#c51b7d"
            ],
            [
             0.2,
             "#de77ae"
            ],
            [
             0.3,
             "#f1b6da"
            ],
            [
             0.4,
             "#fde0ef"
            ],
            [
             0.5,
             "#f7f7f7"
            ],
            [
             0.6,
             "#e6f5d0"
            ],
            [
             0.7,
             "#b8e186"
            ],
            [
             0.8,
             "#7fbc41"
            ],
            [
             0.9,
             "#4d9221"
            ],
            [
             1,
             "#276419"
            ]
           ],
           "sequential": [
            [
             0,
             "#0d0887"
            ],
            [
             0.1111111111111111,
             "#46039f"
            ],
            [
             0.2222222222222222,
             "#7201a8"
            ],
            [
             0.3333333333333333,
             "#9c179e"
            ],
            [
             0.4444444444444444,
             "#bd3786"
            ],
            [
             0.5555555555555556,
             "#d8576b"
            ],
            [
             0.6666666666666666,
             "#ed7953"
            ],
            [
             0.7777777777777778,
             "#fb9f3a"
            ],
            [
             0.8888888888888888,
             "#fdca26"
            ],
            [
             1,
             "#f0f921"
            ]
           ],
           "sequentialminus": [
            [
             0,
             "#0d0887"
            ],
            [
             0.1111111111111111,
             "#46039f"
            ],
            [
             0.2222222222222222,
             "#7201a8"
            ],
            [
             0.3333333333333333,
             "#9c179e"
            ],
            [
             0.4444444444444444,
             "#bd3786"
            ],
            [
             0.5555555555555556,
             "#d8576b"
            ],
            [
             0.6666666666666666,
             "#ed7953"
            ],
            [
             0.7777777777777778,
             "#fb9f3a"
            ],
            [
             0.8888888888888888,
             "#fdca26"
            ],
            [
             1,
             "#f0f921"
            ]
           ]
          },
          "colorway": [
           "#636efa",
           "#EF553B",
           "#00cc96",
           "#ab63fa",
           "#FFA15A",
           "#19d3f3",
           "#FF6692",
           "#B6E880",
           "#FF97FF",
           "#FECB52"
          ],
          "font": {
           "color": "#2a3f5f"
          },
          "geo": {
           "bgcolor": "white",
           "lakecolor": "white",
           "landcolor": "#E5ECF6",
           "showlakes": true,
           "showland": true,
           "subunitcolor": "white"
          },
          "hoverlabel": {
           "align": "left"
          },
          "hovermode": "closest",
          "mapbox": {
           "style": "light"
          },
          "paper_bgcolor": "white",
          "plot_bgcolor": "#E5ECF6",
          "polar": {
           "angularaxis": {
            "gridcolor": "white",
            "linecolor": "white",
            "ticks": ""
           },
           "bgcolor": "#E5ECF6",
           "radialaxis": {
            "gridcolor": "white",
            "linecolor": "white",
            "ticks": ""
           }
          },
          "scene": {
           "xaxis": {
            "backgroundcolor": "#E5ECF6",
            "gridcolor": "white",
            "gridwidth": 2,
            "linecolor": "white",
            "showbackground": true,
            "ticks": "",
            "zerolinecolor": "white"
           },
           "yaxis": {
            "backgroundcolor": "#E5ECF6",
            "gridcolor": "white",
            "gridwidth": 2,
            "linecolor": "white",
            "showbackground": true,
            "ticks": "",
            "zerolinecolor": "white"
           },
           "zaxis": {
            "backgroundcolor": "#E5ECF6",
            "gridcolor": "white",
            "gridwidth": 2,
            "linecolor": "white",
            "showbackground": true,
            "ticks": "",
            "zerolinecolor": "white"
           }
          },
          "shapedefaults": {
           "line": {
            "color": "#2a3f5f"
           }
          },
          "ternary": {
           "aaxis": {
            "gridcolor": "white",
            "linecolor": "white",
            "ticks": ""
           },
           "baxis": {
            "gridcolor": "white",
            "linecolor": "white",
            "ticks": ""
           },
           "bgcolor": "#E5ECF6",
           "caxis": {
            "gridcolor": "white",
            "linecolor": "white",
            "ticks": ""
           }
          },
          "title": {
           "x": 0.05
          },
          "xaxis": {
           "automargin": true,
           "gridcolor": "white",
           "linecolor": "white",
           "ticks": "",
           "title": {
            "standoff": 15
           },
           "zerolinecolor": "white",
           "zerolinewidth": 2
          },
          "yaxis": {
           "automargin": true,
           "gridcolor": "white",
           "linecolor": "white",
           "ticks": "",
           "title": {
            "standoff": 15
           },
           "zerolinecolor": "white",
           "zerolinewidth": 2
          }
         }
        },
        "title": {
         "text": "January 2019 U.S. Refinery Processing Capacity"
        }
       }
      },
      "text/html": [
       "<div>\n",
       "        \n",
       "        \n",
       "            <div id=\"11e30c57-290a-4986-ac34-b174157f6a6a\" class=\"plotly-graph-div\" style=\"height:525px; width:100%;\"></div>\n",
       "            <script type=\"text/javascript\">\n",
       "                require([\"plotly\"], function(Plotly) {\n",
       "                    window.PLOTLYENV=window.PLOTLYENV || {};\n",
       "                    \n",
       "                if (document.getElementById(\"11e30c57-290a-4986-ac34-b174157f6a6a\")) {\n",
       "                    Plotly.newPlot(\n",
       "                        '11e30c57-290a-4986-ac34-b174157f6a6a',\n",
       "                        [{\"colorbar\": {\"title\": {\"text\": \"KBD\"}}, \"colorscale\": [[0.0, \"rgb(255,245,240)\"], [0.125, \"rgb(254,224,210)\"], [0.25, \"rgb(252,187,161)\"], [0.375, \"rgb(252,146,114)\"], [0.5, \"rgb(251,106,74)\"], [0.625, \"rgb(239,59,44)\"], [0.75, \"rgb(203,24,29)\"], [0.875, \"rgb(165,15,21)\"], [1.0, \"rgb(103,0,13)\"]], \"locationmode\": \"USA-states\", \"locations\": [\"AL\", \"AK\", \"AR\", \"CA\", \"CO\", \"DE\", \"HI\", \"IL\", \"IN\", \"KS\", \"KY\", \"LA\", \"MI\", \"MN\", \"MS\", \"MT\", \"NV\", \"NJ\", \"NM\", \"ND\", \"OH\", \"OK\", \"PA\", \"TN\", \"TX\", \"UT\", \"WA\", \"WV\", \"WI\", \"WY\"], \"type\": \"choropleth\", \"z\": [292175, 342700, 183200, 3919071, 214700, 372400, 299500, 2108065, 929600, 799135, 580800, 6855815, 287000, 867215, 808940, 439600, 7000, 856600, 287000, 184000, 1230800, 1078233, 1240800, 365000, 11983494, 412750, 1324200, 45300, 88000, 359900]}],\n",
       "                        {\"geo\": {\"scope\": \"usa\"}, \"template\": {\"data\": {\"bar\": [{\"error_x\": {\"color\": \"#2a3f5f\"}, \"error_y\": {\"color\": \"#2a3f5f\"}, \"marker\": {\"line\": {\"color\": \"#E5ECF6\", \"width\": 0.5}}, \"type\": \"bar\"}], \"barpolar\": [{\"marker\": {\"line\": {\"color\": \"#E5ECF6\", \"width\": 0.5}}, \"type\": \"barpolar\"}], \"carpet\": [{\"aaxis\": {\"endlinecolor\": \"#2a3f5f\", \"gridcolor\": \"white\", \"linecolor\": \"white\", \"minorgridcolor\": \"white\", \"startlinecolor\": \"#2a3f5f\"}, \"baxis\": {\"endlinecolor\": \"#2a3f5f\", \"gridcolor\": \"white\", \"linecolor\": \"white\", \"minorgridcolor\": \"white\", \"startlinecolor\": \"#2a3f5f\"}, \"type\": \"carpet\"}], \"choropleth\": [{\"colorbar\": {\"outlinewidth\": 0, \"ticks\": \"\"}, \"type\": \"choropleth\"}], \"contour\": [{\"colorbar\": {\"outlinewidth\": 0, \"ticks\": \"\"}, \"colorscale\": [[0.0, \"#0d0887\"], [0.1111111111111111, \"#46039f\"], [0.2222222222222222, \"#7201a8\"], [0.3333333333333333, \"#9c179e\"], [0.4444444444444444, \"#bd3786\"], [0.5555555555555556, \"#d8576b\"], [0.6666666666666666, \"#ed7953\"], [0.7777777777777778, \"#fb9f3a\"], [0.8888888888888888, \"#fdca26\"], [1.0, \"#f0f921\"]], \"type\": \"contour\"}], \"contourcarpet\": [{\"colorbar\": {\"outlinewidth\": 0, \"ticks\": \"\"}, \"type\": \"contourcarpet\"}], \"heatmap\": [{\"colorbar\": {\"outlinewidth\": 0, \"ticks\": \"\"}, \"colorscale\": [[0.0, \"#0d0887\"], [0.1111111111111111, \"#46039f\"], [0.2222222222222222, \"#7201a8\"], [0.3333333333333333, \"#9c179e\"], [0.4444444444444444, \"#bd3786\"], [0.5555555555555556, \"#d8576b\"], [0.6666666666666666, \"#ed7953\"], [0.7777777777777778, \"#fb9f3a\"], [0.8888888888888888, \"#fdca26\"], [1.0, \"#f0f921\"]], \"type\": \"heatmap\"}], \"heatmapgl\": [{\"colorbar\": {\"outlinewidth\": 0, \"ticks\": \"\"}, \"colorscale\": [[0.0, \"#0d0887\"], [0.1111111111111111, \"#46039f\"], [0.2222222222222222, \"#7201a8\"], [0.3333333333333333, \"#9c179e\"], [0.4444444444444444, \"#bd3786\"], [0.5555555555555556, \"#d8576b\"], [0.6666666666666666, \"#ed7953\"], [0.7777777777777778, \"#fb9f3a\"], [0.8888888888888888, \"#fdca26\"], [1.0, \"#f0f921\"]], \"type\": \"heatmapgl\"}], \"histogram\": [{\"marker\": {\"colorbar\": {\"outlinewidth\": 0, \"ticks\": \"\"}}, \"type\": \"histogram\"}], \"histogram2d\": [{\"colorbar\": {\"outlinewidth\": 0, \"ticks\": \"\"}, \"colorscale\": [[0.0, \"#0d0887\"], [0.1111111111111111, \"#46039f\"], [0.2222222222222222, \"#7201a8\"], [0.3333333333333333, \"#9c179e\"], [0.4444444444444444, \"#bd3786\"], [0.5555555555555556, \"#d8576b\"], [0.6666666666666666, \"#ed7953\"], [0.7777777777777778, \"#fb9f3a\"], [0.8888888888888888, \"#fdca26\"], [1.0, \"#f0f921\"]], \"type\": \"histogram2d\"}], \"histogram2dcontour\": [{\"colorbar\": {\"outlinewidth\": 0, \"ticks\": \"\"}, \"colorscale\": [[0.0, \"#0d0887\"], [0.1111111111111111, \"#46039f\"], [0.2222222222222222, \"#7201a8\"], [0.3333333333333333, \"#9c179e\"], [0.4444444444444444, \"#bd3786\"], [0.5555555555555556, \"#d8576b\"], [0.6666666666666666, \"#ed7953\"], [0.7777777777777778, \"#fb9f3a\"], [0.8888888888888888, \"#fdca26\"], [1.0, \"#f0f921\"]], \"type\": \"histogram2dcontour\"}], \"mesh3d\": [{\"colorbar\": {\"outlinewidth\": 0, \"ticks\": \"\"}, \"type\": \"mesh3d\"}], \"parcoords\": [{\"line\": {\"colorbar\": {\"outlinewidth\": 0, \"ticks\": \"\"}}, \"type\": \"parcoords\"}], \"pie\": [{\"automargin\": true, \"type\": \"pie\"}], \"scatter\": [{\"marker\": {\"colorbar\": {\"outlinewidth\": 0, \"ticks\": \"\"}}, \"type\": \"scatter\"}], \"scatter3d\": [{\"line\": {\"colorbar\": {\"outlinewidth\": 0, \"ticks\": \"\"}}, \"marker\": {\"colorbar\": {\"outlinewidth\": 0, \"ticks\": \"\"}}, \"type\": \"scatter3d\"}], \"scattercarpet\": [{\"marker\": {\"colorbar\": {\"outlinewidth\": 0, \"ticks\": \"\"}}, \"type\": \"scattercarpet\"}], \"scattergeo\": [{\"marker\": {\"colorbar\": {\"outlinewidth\": 0, \"ticks\": \"\"}}, \"type\": \"scattergeo\"}], \"scattergl\": [{\"marker\": {\"colorbar\": {\"outlinewidth\": 0, \"ticks\": \"\"}}, \"type\": \"scattergl\"}], \"scattermapbox\": [{\"marker\": {\"colorbar\": {\"outlinewidth\": 0, \"ticks\": \"\"}}, \"type\": \"scattermapbox\"}], \"scatterpolar\": [{\"marker\": {\"colorbar\": {\"outlinewidth\": 0, \"ticks\": \"\"}}, \"type\": \"scatterpolar\"}], \"scatterpolargl\": [{\"marker\": {\"colorbar\": {\"outlinewidth\": 0, \"ticks\": \"\"}}, \"type\": \"scatterpolargl\"}], \"scatterternary\": [{\"marker\": {\"colorbar\": {\"outlinewidth\": 0, \"ticks\": \"\"}}, \"type\": \"scatterternary\"}], \"surface\": [{\"colorbar\": {\"outlinewidth\": 0, \"ticks\": \"\"}, \"colorscale\": [[0.0, \"#0d0887\"], [0.1111111111111111, \"#46039f\"], [0.2222222222222222, \"#7201a8\"], [0.3333333333333333, \"#9c179e\"], [0.4444444444444444, \"#bd3786\"], [0.5555555555555556, \"#d8576b\"], [0.6666666666666666, \"#ed7953\"], [0.7777777777777778, \"#fb9f3a\"], [0.8888888888888888, \"#fdca26\"], [1.0, \"#f0f921\"]], \"type\": \"surface\"}], \"table\": [{\"cells\": {\"fill\": {\"color\": \"#EBF0F8\"}, \"line\": {\"color\": \"white\"}}, \"header\": {\"fill\": {\"color\": \"#C8D4E3\"}, \"line\": {\"color\": \"white\"}}, \"type\": \"table\"}]}, \"layout\": {\"annotationdefaults\": {\"arrowcolor\": \"#2a3f5f\", \"arrowhead\": 0, \"arrowwidth\": 1}, \"coloraxis\": {\"colorbar\": {\"outlinewidth\": 0, \"ticks\": \"\"}}, \"colorscale\": {\"diverging\": [[0, \"#8e0152\"], [0.1, \"#c51b7d\"], [0.2, \"#de77ae\"], [0.3, \"#f1b6da\"], [0.4, \"#fde0ef\"], [0.5, \"#f7f7f7\"], [0.6, \"#e6f5d0\"], [0.7, \"#b8e186\"], [0.8, \"#7fbc41\"], [0.9, \"#4d9221\"], [1, \"#276419\"]], \"sequential\": [[0.0, \"#0d0887\"], [0.1111111111111111, \"#46039f\"], [0.2222222222222222, \"#7201a8\"], [0.3333333333333333, \"#9c179e\"], [0.4444444444444444, \"#bd3786\"], [0.5555555555555556, \"#d8576b\"], [0.6666666666666666, \"#ed7953\"], [0.7777777777777778, \"#fb9f3a\"], [0.8888888888888888, \"#fdca26\"], [1.0, \"#f0f921\"]], \"sequentialminus\": [[0.0, \"#0d0887\"], [0.1111111111111111, \"#46039f\"], [0.2222222222222222, \"#7201a8\"], [0.3333333333333333, \"#9c179e\"], [0.4444444444444444, \"#bd3786\"], [0.5555555555555556, \"#d8576b\"], [0.6666666666666666, \"#ed7953\"], [0.7777777777777778, \"#fb9f3a\"], [0.8888888888888888, \"#fdca26\"], [1.0, \"#f0f921\"]]}, \"colorway\": [\"#636efa\", \"#EF553B\", \"#00cc96\", \"#ab63fa\", \"#FFA15A\", \"#19d3f3\", \"#FF6692\", \"#B6E880\", \"#FF97FF\", \"#FECB52\"], \"font\": {\"color\": \"#2a3f5f\"}, \"geo\": {\"bgcolor\": \"white\", \"lakecolor\": \"white\", \"landcolor\": \"#E5ECF6\", \"showlakes\": true, \"showland\": true, \"subunitcolor\": \"white\"}, \"hoverlabel\": {\"align\": \"left\"}, \"hovermode\": \"closest\", \"mapbox\": {\"style\": \"light\"}, \"paper_bgcolor\": \"white\", \"plot_bgcolor\": \"#E5ECF6\", \"polar\": {\"angularaxis\": {\"gridcolor\": \"white\", \"linecolor\": \"white\", \"ticks\": \"\"}, \"bgcolor\": \"#E5ECF6\", \"radialaxis\": {\"gridcolor\": \"white\", \"linecolor\": \"white\", \"ticks\": \"\"}}, \"scene\": {\"xaxis\": {\"backgroundcolor\": \"#E5ECF6\", \"gridcolor\": \"white\", \"gridwidth\": 2, \"linecolor\": \"white\", \"showbackground\": true, \"ticks\": \"\", \"zerolinecolor\": \"white\"}, \"yaxis\": {\"backgroundcolor\": \"#E5ECF6\", \"gridcolor\": \"white\", \"gridwidth\": 2, \"linecolor\": \"white\", \"showbackground\": true, \"ticks\": \"\", \"zerolinecolor\": \"white\"}, \"zaxis\": {\"backgroundcolor\": \"#E5ECF6\", \"gridcolor\": \"white\", \"gridwidth\": 2, \"linecolor\": \"white\", \"showbackground\": true, \"ticks\": \"\", \"zerolinecolor\": \"white\"}}, \"shapedefaults\": {\"line\": {\"color\": \"#2a3f5f\"}}, \"ternary\": {\"aaxis\": {\"gridcolor\": \"white\", \"linecolor\": \"white\", \"ticks\": \"\"}, \"baxis\": {\"gridcolor\": \"white\", \"linecolor\": \"white\", \"ticks\": \"\"}, \"bgcolor\": \"#E5ECF6\", \"caxis\": {\"gridcolor\": \"white\", \"linecolor\": \"white\", \"ticks\": \"\"}}, \"title\": {\"x\": 0.05}, \"xaxis\": {\"automargin\": true, \"gridcolor\": \"white\", \"linecolor\": \"white\", \"ticks\": \"\", \"title\": {\"standoff\": 15}, \"zerolinecolor\": \"white\", \"zerolinewidth\": 2}, \"yaxis\": {\"automargin\": true, \"gridcolor\": \"white\", \"linecolor\": \"white\", \"ticks\": \"\", \"title\": {\"standoff\": 15}, \"zerolinecolor\": \"white\", \"zerolinewidth\": 2}}}, \"title\": {\"text\": \"January 2019 U.S. Refinery Processing Capacity\"}},\n",
       "                        {\"responsive\": true}\n",
       "                    ).then(function(){\n",
       "                            \n",
       "var gd = document.getElementById('11e30c57-290a-4986-ac34-b174157f6a6a');\n",
       "var x = new MutationObserver(function (mutations, observer) {{\n",
       "        var display = window.getComputedStyle(gd).display;\n",
       "        if (!display || display === 'none') {{\n",
       "            console.log([gd, 'removed!']);\n",
       "            Plotly.purge(gd);\n",
       "            observer.disconnect();\n",
       "        }}\n",
       "}});\n",
       "\n",
       "// Listen for the removal of the full notebook cells\n",
       "var notebookContainer = gd.closest('#notebook-container');\n",
       "if (notebookContainer) {{\n",
       "    x.observe(notebookContainer, {childList: true});\n",
       "}}\n",
       "\n",
       "// Listen for the clearing of the current output cell\n",
       "var outputEl = gd.closest('.output');\n",
       "if (outputEl) {{\n",
       "    x.observe(outputEl, {childList: true});\n",
       "}}\n",
       "\n",
       "                        })\n",
       "                };\n",
       "                });\n",
       "            </script>\n",
       "        </div>"
      ]
     },
     "metadata": {},
     "output_type": "display_data"
    }
   ],
   "source": [
    "import plotly.graph_objects as pg\n",
    "\n",
    "fig = pg.Figure(data = pg.Choropleth(locations=FeedCapacityByState['STATE_NAME'],\n",
    "                                     z = FeedCapacityByState['QUANTITY'],\n",
    "                                    locationmode = 'USA-states',\n",
    "                                     colorscale = 'Reds',\n",
    "                                     colorbar_title = \"KBD\",\n",
    "))\n",
    "\n",
    "fig.update_layout(\n",
    "    title_text = 'January 2019 U.S. Refinery Processing Capacity',\n",
    "    geo_scope='usa', # limit map scope to USA\n",
    ")\n",
    "\n",
    "fig.update_annotations(FeedCapacityByState['QUANTITY'])\n",
    "\n",
    "fig.show()"
   ]
  },
  {
   "cell_type": "code",
   "execution_count": 27,
   "metadata": {},
   "outputs": [
    {
     "data": {
      "text/html": [
       "<div>\n",
       "<style scoped>\n",
       "    .dataframe tbody tr th:only-of-type {\n",
       "        vertical-align: middle;\n",
       "    }\n",
       "\n",
       "    .dataframe tbody tr th {\n",
       "        vertical-align: top;\n",
       "    }\n",
       "\n",
       "    .dataframe thead th {\n",
       "        text-align: right;\n",
       "    }\n",
       "</style>\n",
       "<table border=\"1\" class=\"dataframe\">\n",
       "  <thead>\n",
       "    <tr style=\"text-align: right;\">\n",
       "      <th></th>\n",
       "      <th>Date</th>\n",
       "      <th>Gross refinery input (kbd)</th>\n",
       "      <th>PADD 1</th>\n",
       "      <th>PADD 2</th>\n",
       "      <th>PADD 3</th>\n",
       "      <th>Texas Inland</th>\n",
       "      <th>Texas GC</th>\n",
       "      <th>LA</th>\n",
       "      <th>N.LA-ARK</th>\n",
       "      <th>PADD 4</th>\n",
       "      <th>PADD 5</th>\n",
       "    </tr>\n",
       "  </thead>\n",
       "  <tbody>\n",
       "    <tr>\n",
       "      <th>0</th>\n",
       "      <td>Jan-1985</td>\n",
       "      <td>11583.0</td>\n",
       "      <td>1092.0</td>\n",
       "      <td>2675.0</td>\n",
       "      <td>5230.0</td>\n",
       "      <td>489.0</td>\n",
       "      <td>2792.0</td>\n",
       "      <td>1730.0</td>\n",
       "      <td>166.0</td>\n",
       "      <td>423.0</td>\n",
       "      <td>2163.0</td>\n",
       "    </tr>\n",
       "    <tr>\n",
       "      <th>1</th>\n",
       "      <td>Feb-1985</td>\n",
       "      <td>11485.0</td>\n",
       "      <td>1103.0</td>\n",
       "      <td>2556.0</td>\n",
       "      <td>5330.0</td>\n",
       "      <td>481.0</td>\n",
       "      <td>2749.0</td>\n",
       "      <td>1882.0</td>\n",
       "      <td>170.0</td>\n",
       "      <td>398.0</td>\n",
       "      <td>2098.0</td>\n",
       "    </tr>\n",
       "    <tr>\n",
       "      <th>2</th>\n",
       "      <td>Mar-1985</td>\n",
       "      <td>11484.0</td>\n",
       "      <td>1108.0</td>\n",
       "      <td>2508.0</td>\n",
       "      <td>5251.0</td>\n",
       "      <td>480.0</td>\n",
       "      <td>2601.0</td>\n",
       "      <td>1957.0</td>\n",
       "      <td>161.0</td>\n",
       "      <td>405.0</td>\n",
       "      <td>2212.0</td>\n",
       "    </tr>\n",
       "    <tr>\n",
       "      <th>3</th>\n",
       "      <td>Apr-1985</td>\n",
       "      <td>11969.0</td>\n",
       "      <td>1149.0</td>\n",
       "      <td>2650.0</td>\n",
       "      <td>5531.0</td>\n",
       "      <td>454.0</td>\n",
       "      <td>2831.0</td>\n",
       "      <td>2046.0</td>\n",
       "      <td>137.0</td>\n",
       "      <td>341.0</td>\n",
       "      <td>2298.0</td>\n",
       "    </tr>\n",
       "    <tr>\n",
       "      <th>4</th>\n",
       "      <td>May-1985</td>\n",
       "      <td>12269.0</td>\n",
       "      <td>1154.0</td>\n",
       "      <td>2708.0</td>\n",
       "      <td>5668.0</td>\n",
       "      <td>453.0</td>\n",
       "      <td>2936.0</td>\n",
       "      <td>2045.0</td>\n",
       "      <td>169.0</td>\n",
       "      <td>472.0</td>\n",
       "      <td>2267.0</td>\n",
       "    </tr>\n",
       "  </tbody>\n",
       "</table>\n",
       "</div>"
      ],
      "text/plain": [
       "       Date  Gross refinery input (kbd)  PADD 1  PADD 2  PADD 3  Texas Inland  \\\n",
       "0  Jan-1985                     11583.0  1092.0  2675.0  5230.0         489.0   \n",
       "1  Feb-1985                     11485.0  1103.0  2556.0  5330.0         481.0   \n",
       "2  Mar-1985                     11484.0  1108.0  2508.0  5251.0         480.0   \n",
       "3  Apr-1985                     11969.0  1149.0  2650.0  5531.0         454.0   \n",
       "4  May-1985                     12269.0  1154.0  2708.0  5668.0         453.0   \n",
       "\n",
       "   Texas GC      LA  N.LA-ARK  PADD 4  PADD 5  \n",
       "0    2792.0  1730.0     166.0   423.0  2163.0  \n",
       "1    2749.0  1882.0     170.0   398.0  2098.0  \n",
       "2    2601.0  1957.0     161.0   405.0  2212.0  \n",
       "3    2831.0  2046.0     137.0   341.0  2298.0  \n",
       "4    2936.0  2045.0     169.0   472.0  2267.0  "
      ]
     },
     "execution_count": 27,
     "metadata": {},
     "output_type": "execute_result"
    }
   ],
   "source": [
    "# Revisiting capacitydata dataframe\n",
    "capacitydata.head()"
   ]
  },
  {
   "cell_type": "code",
   "execution_count": 29,
   "metadata": {},
   "outputs": [],
   "source": [
    "capacitydata['Gross refinery input (million bpd)'] = capacitydata['Gross refinery input (kbd)'] / 1000\n",
    "capacitydata = capacitydata.drop(columns='Gross refinery input (kbd)')"
   ]
  },
  {
   "cell_type": "code",
   "execution_count": 30,
   "metadata": {},
   "outputs": [
    {
     "data": {
      "text/html": [
       "<div>\n",
       "<style scoped>\n",
       "    .dataframe tbody tr th:only-of-type {\n",
       "        vertical-align: middle;\n",
       "    }\n",
       "\n",
       "    .dataframe tbody tr th {\n",
       "        vertical-align: top;\n",
       "    }\n",
       "\n",
       "    .dataframe thead th {\n",
       "        text-align: right;\n",
       "    }\n",
       "</style>\n",
       "<table border=\"1\" class=\"dataframe\">\n",
       "  <thead>\n",
       "    <tr style=\"text-align: right;\">\n",
       "      <th></th>\n",
       "      <th>PADD 1</th>\n",
       "      <th>PADD 2</th>\n",
       "      <th>PADD 3</th>\n",
       "      <th>Texas Inland</th>\n",
       "      <th>Texas GC</th>\n",
       "      <th>LA</th>\n",
       "      <th>N.LA-ARK</th>\n",
       "      <th>PADD 4</th>\n",
       "      <th>PADD 5</th>\n",
       "      <th>Gross refinery input (million bpd)</th>\n",
       "    </tr>\n",
       "    <tr>\n",
       "      <th>Date</th>\n",
       "      <th></th>\n",
       "      <th></th>\n",
       "      <th></th>\n",
       "      <th></th>\n",
       "      <th></th>\n",
       "      <th></th>\n",
       "      <th></th>\n",
       "      <th></th>\n",
       "      <th></th>\n",
       "      <th></th>\n",
       "    </tr>\n",
       "  </thead>\n",
       "  <tbody>\n",
       "    <tr>\n",
       "      <th>Jan-1985</th>\n",
       "      <td>1092.0</td>\n",
       "      <td>2675.0</td>\n",
       "      <td>5230.0</td>\n",
       "      <td>489.0</td>\n",
       "      <td>2792.0</td>\n",
       "      <td>1730.0</td>\n",
       "      <td>166.0</td>\n",
       "      <td>423.0</td>\n",
       "      <td>2163.0</td>\n",
       "      <td>11.583</td>\n",
       "    </tr>\n",
       "    <tr>\n",
       "      <th>Feb-1985</th>\n",
       "      <td>1103.0</td>\n",
       "      <td>2556.0</td>\n",
       "      <td>5330.0</td>\n",
       "      <td>481.0</td>\n",
       "      <td>2749.0</td>\n",
       "      <td>1882.0</td>\n",
       "      <td>170.0</td>\n",
       "      <td>398.0</td>\n",
       "      <td>2098.0</td>\n",
       "      <td>11.485</td>\n",
       "    </tr>\n",
       "    <tr>\n",
       "      <th>Mar-1985</th>\n",
       "      <td>1108.0</td>\n",
       "      <td>2508.0</td>\n",
       "      <td>5251.0</td>\n",
       "      <td>480.0</td>\n",
       "      <td>2601.0</td>\n",
       "      <td>1957.0</td>\n",
       "      <td>161.0</td>\n",
       "      <td>405.0</td>\n",
       "      <td>2212.0</td>\n",
       "      <td>11.484</td>\n",
       "    </tr>\n",
       "    <tr>\n",
       "      <th>Apr-1985</th>\n",
       "      <td>1149.0</td>\n",
       "      <td>2650.0</td>\n",
       "      <td>5531.0</td>\n",
       "      <td>454.0</td>\n",
       "      <td>2831.0</td>\n",
       "      <td>2046.0</td>\n",
       "      <td>137.0</td>\n",
       "      <td>341.0</td>\n",
       "      <td>2298.0</td>\n",
       "      <td>11.969</td>\n",
       "    </tr>\n",
       "    <tr>\n",
       "      <th>May-1985</th>\n",
       "      <td>1154.0</td>\n",
       "      <td>2708.0</td>\n",
       "      <td>5668.0</td>\n",
       "      <td>453.0</td>\n",
       "      <td>2936.0</td>\n",
       "      <td>2045.0</td>\n",
       "      <td>169.0</td>\n",
       "      <td>472.0</td>\n",
       "      <td>2267.0</td>\n",
       "      <td>12.269</td>\n",
       "    </tr>\n",
       "  </tbody>\n",
       "</table>\n",
       "</div>"
      ],
      "text/plain": [
       "          PADD 1  PADD 2  PADD 3  Texas Inland  Texas GC      LA  N.LA-ARK  \\\n",
       "Date                                                                         \n",
       "Jan-1985  1092.0  2675.0  5230.0         489.0    2792.0  1730.0     166.0   \n",
       "Feb-1985  1103.0  2556.0  5330.0         481.0    2749.0  1882.0     170.0   \n",
       "Mar-1985  1108.0  2508.0  5251.0         480.0    2601.0  1957.0     161.0   \n",
       "Apr-1985  1149.0  2650.0  5531.0         454.0    2831.0  2046.0     137.0   \n",
       "May-1985  1154.0  2708.0  5668.0         453.0    2936.0  2045.0     169.0   \n",
       "\n",
       "          PADD 4  PADD 5  Gross refinery input (million bpd)  \n",
       "Date                                                          \n",
       "Jan-1985   423.0  2163.0                              11.583  \n",
       "Feb-1985   398.0  2098.0                              11.485  \n",
       "Mar-1985   405.0  2212.0                              11.484  \n",
       "Apr-1985   341.0  2298.0                              11.969  \n",
       "May-1985   472.0  2267.0                              12.269  "
      ]
     },
     "execution_count": 30,
     "metadata": {},
     "output_type": "execute_result"
    }
   ],
   "source": [
    "capacitydata = capacitydata.set_index('Date') #Set date as index\n",
    "capacitydata.head() "
   ]
  },
  {
   "cell_type": "code",
   "execution_count": 93,
   "metadata": {},
   "outputs": [
    {
     "data": {
      "application/vnd.plotly.v1+json": {
       "config": {
        "plotlyServerURL": "https://plot.ly"
       },
       "data": [
        {
         "name": "U.S. wide - million bbl/day",
         "type": "scatter",
         "x": [
          "Jan-1985",
          "Feb-1985",
          "Mar-1985",
          "Apr-1985",
          "May-1985",
          "Jun-1985",
          "Jul-1985",
          "Aug-1985",
          "Sep-1985",
          "Oct-1985",
          "Nov-1985",
          "Dec-1985",
          "Jan-1986",
          "Feb-1986",
          "Mar-1986",
          "Apr-1986",
          "May-1986",
          "Jun-1986",
          "Jul-1986",
          "Aug-1986",
          "Sep-1986",
          "Oct-1986",
          "Nov-1986",
          "Dec-1986",
          "Jan-1987",
          "Feb-1987",
          "Mar-1987",
          "Apr-1987",
          "May-1987",
          "Jun-1987",
          "Jul-1987",
          "Aug-1987",
          "Sep-1987",
          "Oct-1987",
          "Nov-1987",
          "Dec-1987",
          "Jan-1988",
          "Feb-1988",
          "Mar-1988",
          "Apr-1988",
          "May-1988",
          "Jun-1988",
          "Jul-1988",
          "Aug-1988",
          "Sep-1988",
          "Oct-1988",
          "Nov-1988",
          "Dec-1988",
          "Jan-1989",
          "Feb-1989",
          "Mar-1989",
          "Apr-1989",
          "May-1989",
          "Jun-1989",
          "Jul-1989",
          "Aug-1989",
          "Sep-1989",
          "Oct-1989",
          "Nov-1989",
          "Dec-1989",
          "Jan-1990",
          "Feb-1990",
          "Mar-1990",
          "Apr-1990",
          "May-1990",
          "Jun-1990",
          "Jul-1990",
          "Aug-1990",
          "Sep-1990",
          "Oct-1990",
          "Nov-1990",
          "Dec-1990",
          "Jan-1991",
          "Feb-1991",
          "Mar-1991",
          "Apr-1991",
          "May-1991",
          "Jun-1991",
          "Jul-1991",
          "Aug-1991",
          "Sep-1991",
          "Oct-1991",
          "Nov-1991",
          "Dec-1991",
          "Jan-1992",
          "Feb-1992",
          "Mar-1992",
          "Apr-1992",
          "May-1992",
          "Jun-1992",
          "Jul-1992",
          "Aug-1992",
          "Sep-1992",
          "Oct-1992",
          "Nov-1992",
          "Dec-1992",
          "Jan-1993",
          "Feb-1993",
          "Mar-1993",
          "Apr-1993",
          "May-1993",
          "Jun-1993",
          "Jul-1993",
          "Aug-1993",
          "Sep-1993",
          "Oct-1993",
          "Nov-1993",
          "Dec-1993",
          "Jan-1994",
          "Feb-1994",
          "Mar-1994",
          "Apr-1994",
          "May-1994",
          "Jun-1994",
          "Jul-1994",
          "Aug-1994",
          "Sep-1994",
          "Oct-1994",
          "Nov-1994",
          "Dec-1994",
          "Jan-1995",
          "Feb-1995",
          "Mar-1995",
          "Apr-1995",
          "May-1995",
          "Jun-1995",
          "Jul-1995",
          "Aug-1995",
          "Sep-1995",
          "Oct-1995",
          "Nov-1995",
          "Dec-1995",
          "Jan-1996",
          "Feb-1996",
          "Mar-1996",
          "Apr-1996",
          "May-1996",
          "Jun-1996",
          "Jul-1996",
          "Aug-1996",
          "Sep-1996",
          "Oct-1996",
          "Nov-1996",
          "Dec-1996",
          "Jan-1997",
          "Feb-1997",
          "Mar-1997",
          "Apr-1997",
          "May-1997",
          "Jun-1997",
          "Jul-1997",
          "Aug-1997",
          "Sep-1997",
          "Oct-1997",
          "Nov-1997",
          "Dec-1997",
          "Jan-1998",
          "Feb-1998",
          "Mar-1998",
          "Apr-1998",
          "May-1998",
          "Jun-1998",
          "Jul-1998",
          "Aug-1998",
          "Sep-1998",
          "Oct-1998",
          "Nov-1998",
          "Dec-1998",
          "Jan-1999",
          "Feb-1999",
          "Mar-1999",
          "Apr-1999",
          "May-1999",
          "Jun-1999",
          "Jul-1999",
          "Aug-1999",
          "Sep-1999",
          "Oct-1999",
          "Nov-1999",
          "Dec-1999",
          "Jan-2000",
          "Feb-2000",
          "Mar-2000",
          "Apr-2000",
          "May-2000",
          "Jun-2000",
          "Jul-2000",
          "Aug-2000",
          "Sep-2000",
          "Oct-2000",
          "Nov-2000",
          "Dec-2000",
          "Jan-2001",
          "Feb-2001",
          "Mar-2001",
          "Apr-2001",
          "May-2001",
          "Jun-2001",
          "Jul-2001",
          "Aug-2001",
          "Sep-2001",
          "Oct-2001",
          "Nov-2001",
          "Dec-2001",
          "Jan-2002",
          "Feb-2002",
          "Mar-2002",
          "Apr-2002",
          "May-2002",
          "Jun-2002",
          "Jul-2002",
          "Aug-2002",
          "Sep-2002",
          "Oct-2002",
          "Nov-2002",
          "Dec-2002",
          "Jan-2003",
          "Feb-2003",
          "Mar-2003",
          "Apr-2003",
          "May-2003",
          "Jun-2003",
          "Jul-2003",
          "Aug-2003",
          "Sep-2003",
          "Oct-2003",
          "Nov-2003",
          "Dec-2003",
          "Jan-2004",
          "Feb-2004",
          "Mar-2004",
          "Apr-2004",
          "May-2004",
          "Jun-2004",
          "Jul-2004",
          "Aug-2004",
          "Sep-2004",
          "Oct-2004",
          "Nov-2004",
          "Dec-2004",
          "Jan-2005",
          "Feb-2005",
          "Mar-2005",
          "Apr-2005",
          "May-2005",
          "Jun-2005",
          "Jul-2005",
          "Aug-2005",
          "Sep-2005",
          "Oct-2005",
          "Nov-2005",
          "Dec-2005",
          "Jan-2006",
          "Feb-2006",
          "Mar-2006",
          "Apr-2006",
          "May-2006",
          "Jun-2006",
          "Jul-2006",
          "Aug-2006",
          "Sep-2006",
          "Oct-2006",
          "Nov-2006",
          "Dec-2006",
          "Jan-2007",
          "Feb-2007",
          "Mar-2007",
          "Apr-2007",
          "May-2007",
          "Jun-2007",
          "Jul-2007",
          "Aug-2007",
          "Sep-2007",
          "Oct-2007",
          "Nov-2007",
          "Dec-2007",
          "Jan-2008",
          "Feb-2008",
          "Mar-2008",
          "Apr-2008",
          "May-2008",
          "Jun-2008",
          "Jul-2008",
          "Aug-2008",
          "Sep-2008",
          "Oct-2008",
          "Nov-2008",
          "Dec-2008",
          "Jan-2009",
          "Feb-2009",
          "Mar-2009",
          "Apr-2009",
          "May-2009",
          "Jun-2009",
          "Jul-2009",
          "Aug-2009",
          "Sep-2009",
          "Oct-2009",
          "Nov-2009",
          "Dec-2009",
          "Jan-2010",
          "Feb-2010",
          "Mar-2010",
          "Apr-2010",
          "May-2010",
          "Jun-2010",
          "Jul-2010",
          "Aug-2010",
          "Sep-2010",
          "Oct-2010",
          "Nov-2010",
          "Dec-2010",
          "Jan-2011",
          "Feb-2011",
          "Mar-2011",
          "Apr-2011",
          "May-2011",
          "Jun-2011",
          "Jul-2011",
          "Aug-2011",
          "Sep-2011",
          "Oct-2011",
          "Nov-2011",
          "Dec-2011",
          "Jan-2012",
          "Feb-2012",
          "Mar-2012",
          "Apr-2012",
          "May-2012",
          "Jun-2012",
          "Jul-2012",
          "Aug-2012",
          "Sep-2012",
          "Oct-2012",
          "Nov-2012",
          "Dec-2012",
          "Jan-2013",
          "Feb-2013",
          "Mar-2013",
          "Apr-2013",
          "May-2013",
          "Jun-2013",
          "Jul-2013",
          "Aug-2013",
          "Sep-2013",
          "Oct-2013",
          "Nov-2013",
          "Dec-2013",
          "Jan-2014",
          "Feb-2014",
          "Mar-2014",
          "Apr-2014",
          "May-2014",
          "Jun-2014",
          "Jul-2014",
          "Aug-2014",
          "Sep-2014",
          "Oct-2014",
          "Nov-2014",
          "Dec-2014",
          "Jan-2015",
          "Feb-2015",
          "Mar-2015",
          "Apr-2015",
          "May-2015",
          "Jun-2015",
          "Jul-2015",
          "Aug-2015",
          "Sep-2015",
          "Oct-2015",
          "Nov-2015",
          "Dec-2015",
          "Jan-2016",
          "Feb-2016",
          "Mar-2016",
          "Apr-2016",
          "May-2016",
          "Jun-2016",
          "Jul-2016",
          "Aug-2016",
          "Sep-2016",
          "Oct-2016",
          "Nov-2016",
          "Dec-2016",
          "Jan-2017",
          "Feb-2017",
          "Mar-2017",
          "Apr-2017",
          "May-2017",
          "Jun-2017",
          "Jul-2017",
          "Aug-2017",
          "Sep-2017",
          "Oct-2017",
          "Nov-2017",
          "Dec-2017",
          "Jan-2018",
          "Feb-2018",
          "Mar-2018",
          "Apr-2018",
          "May-2018",
          "Jun-2018",
          "Jul-2018",
          "Aug-2018",
          "Sep-2018",
          "Oct-2018",
          "Nov-2018",
          "Dec-2018",
          "Jan-2019",
          "Feb-2019",
          "Mar-2019",
          "Apr-2019",
          "May-2019",
          "Jun-2019",
          "Jul-2019",
          "Aug-2019",
          "Sep-2019",
          "Oct-2019",
          "Nov-2019",
          "Dec-2019",
          "Jan-2020",
          "Feb-2020"
         ],
         "y": [
          11.583,
          11.485,
          11.484,
          11.969,
          12.269,
          12.422,
          12.663,
          12.222,
          12.096,
          12.363,
          12.629,
          12.744,
          12.583,
          12.068,
          11.759,
          12.603,
          13.314,
          13.347,
          13.009,
          13.392,
          13.191,
          12.753,
          12.928,
          12.914,
          12.725,
          12.417,
          12.237,
          12.637,
          12.848,
          13.306,
          13.612,
          13.527,
          13.328,
          12.896,
          13.074,
          13.383,
          13.175,
          12.889,
          13.241,
          13.346,
          13.638,
          13.71,
          13.804,
          13.953,
          13.356,
          13.304,
          13.354,
          13.554,
          13.502,
          12.974,
          13.131,
          13.123,
          13.566,
          14.067,
          13.957,
          14.024,
          13.898,
          13.533,
          13.549,
          13.244,
          13.668,
          13.695,
          13.08,
          13.25,
          13.576,
          13.893,
          14.414,
          14.234,
          14.298,
          13.076,
          13.187,
          12.961,
          12.931,
          13.224,
          13.051,
          13.283,
          13.748,
          14.128,
          13.941,
          14.005,
          13.883,
          13.118,
          13.156,
          13.614,
          13.097,
          12.742,
          13.292,
          13.356,
          13.85,
          14.285,
          14.176,
          13.649,
          13.886,
          13.651,
          13.795,
          13.4,
          13.123,
          13.097,
          13.507,
          13.819,
          14.062,
          14.415,
          14.458,
          14.04,
          14.045,
          13.902,
          13.928,
          13.768,
          13.526,
          13.336,
          13.158,
          14.009,
          14.467,
          14.519,
          14.48,
          14.618,
          14.36,
          13.66,
          14.101,
          14.107,
          13.83,
          13.567,
          13.383,
          13.974,
          14.457,
          14.714,
          14.461,
          14.473,
          14.592,
          13.748,
          14.002,
          14.196,
          13.894,
          13.679,
          13.941,
          14.432,
          14.538,
          14.681,
          14.478,
          14.538,
          14.637,
          14.442,
          14.379,
          14.391,
          13.771,
          13.601,
          14.156,
          14.465,
          15.232,
          15.3,
          15.19,
          15.465,
          15.533,
          15.127,
          14.939,
          15.188,
          14.661,
          14.262,
          14.901,
          15.301,
          15.464,
          15.671,
          15.705,
          15.806,
          15.04,
          14.222,
          15.095,
          15.169,
          14.694,
          14.623,
          14.783,
          15.386,
          15.282,
          15.21,
          15.454,
          15.559,
          15.353,
          14.86,
          15.026,
          14.706,
          14.156,
          14.26,
          14.806,
          15.281,
          15.625,
          15.867,
          15.975,
          15.856,
          15.582,
          15.267,
          15.325,
          15.546,
          14.94,
          15,
          14.857,
          15.768,
          16.018,
          15.897,
          15.638,
          15.543,
          15.23,
          15.196,
          15.231,
          14.899,
          14.693,
          14.51,
          14.724,
          15.586,
          15.329,
          15.61,
          15.666,
          15.572,
          15.149,
          14.614,
          15.463,
          15.218,
          14.611,
          14.64,
          15.159,
          15.754,
          16.038,
          15.851,
          15.745,
          15.911,
          15.59,
          15.48,
          15.679,
          15.577,
          15.092,
          15.056,
          15.027,
          15.702,
          16.234,
          16.552,
          16.436,
          16.494,
          15.302,
          15.314,
          16.023,
          16.135,
          15.632,
          15.511,
          15.541,
          15.899,
          16.242,
          16.73,
          16.237,
          15.969,
          14.396,
          14.007,
          15.378,
          15.395,
          15.085,
          15,
          14.914,
          15.303,
          15.862,
          16.171,
          16.091,
          16.206,
          16.177,
          15.293,
          15.311,
          15.766,
          15.381,
          14.773,
          15.185,
          15.371,
          15.651,
          15.444,
          15.922,
          15.859,
          15.513,
          15.249,
          15.506,
          15.477,
          15.087,
          14.948,
          14.637,
          15.157,
          15.629,
          15.768,
          15.638,
          15.343,
          13.139,
          15.037,
          15.115,
          14.787,
          14.538,
          14.409,
          14.399,
          14.61,
          14.838,
          15.194,
          14.891,
          14.87,
          15.017,
          14.419,
          14.338,
          14.374,
          14.065,
          14.267,
          14.63,
          15.592,
          15.51,
          15.893,
          16.04,
          15.681,
          15.213,
          14.466,
          15.166,
          15.555,
          15.035,
          14.195,
          14.963,
          14.71,
          15.129,
          15.778,
          16.001,
          16.009,
          15.735,
          15.05,
          15.426,
          15.341,
          14.865,
          15.019,
          14.783,
          14.952,
          15.657,
          15.983,
          15.991,
          15.679,
          15.248,
          15.153,
          15.416,
          15.717,
          14.934,
          14.542,
          14.907,
          15.282,
          15.714,
          16.313,
          16.483,
          16.291,
          16.157,
          15.475,
          16.135,
          16.377,
          15.649,
          15.518,
          15.39,
          16.264,
          16.197,
          16.087,
          16.88,
          16.707,
          16.358,
          15.66,
          16.367,
          16.751,
          15.767,
          15.635,
          15.878,
          16.521,
          16.612,
          16.924,
          17.185,
          16.962,
          16.427,
          15.691,
          16.683,
          16.842,
          16.297,
          16.179,
          16.287,
          16.223,
          16.477,
          16.803,
          17,
          16.976,
          16.687,
          15.783,
          16.545,
          16.896,
          16.462,
          15.827,
          16.421,
          17.276,
          17.514,
          17.527,
          17.659,
          17.243,
          15.788,
          16.343,
          17.127,
          17.562,
          16.917,
          16.36,
          16.945,
          17.101,
          17.341,
          18.041,
          17.688,
          17.969,
          17.383,
          16.735,
          17.5,
          17.749,
          17.098,
          16.106,
          16.188,
          16.691,
          17.041,
          17.702,
          17.698,
          17.847,
          16.738,
          16.136,
          17.058,
          17.406,
          16.857,
          16.442
         ]
        },
        {
         "name": "PADD 3 - kbd",
         "type": "scatter",
         "x": [
          "Jan-1985",
          "Feb-1985",
          "Mar-1985",
          "Apr-1985",
          "May-1985",
          "Jun-1985",
          "Jul-1985",
          "Aug-1985",
          "Sep-1985",
          "Oct-1985",
          "Nov-1985",
          "Dec-1985",
          "Jan-1986",
          "Feb-1986",
          "Mar-1986",
          "Apr-1986",
          "May-1986",
          "Jun-1986",
          "Jul-1986",
          "Aug-1986",
          "Sep-1986",
          "Oct-1986",
          "Nov-1986",
          "Dec-1986",
          "Jan-1987",
          "Feb-1987",
          "Mar-1987",
          "Apr-1987",
          "May-1987",
          "Jun-1987",
          "Jul-1987",
          "Aug-1987",
          "Sep-1987",
          "Oct-1987",
          "Nov-1987",
          "Dec-1987",
          "Jan-1988",
          "Feb-1988",
          "Mar-1988",
          "Apr-1988",
          "May-1988",
          "Jun-1988",
          "Jul-1988",
          "Aug-1988",
          "Sep-1988",
          "Oct-1988",
          "Nov-1988",
          "Dec-1988",
          "Jan-1989",
          "Feb-1989",
          "Mar-1989",
          "Apr-1989",
          "May-1989",
          "Jun-1989",
          "Jul-1989",
          "Aug-1989",
          "Sep-1989",
          "Oct-1989",
          "Nov-1989",
          "Dec-1989",
          "Jan-1990",
          "Feb-1990",
          "Mar-1990",
          "Apr-1990",
          "May-1990",
          "Jun-1990",
          "Jul-1990",
          "Aug-1990",
          "Sep-1990",
          "Oct-1990",
          "Nov-1990",
          "Dec-1990",
          "Jan-1991",
          "Feb-1991",
          "Mar-1991",
          "Apr-1991",
          "May-1991",
          "Jun-1991",
          "Jul-1991",
          "Aug-1991",
          "Sep-1991",
          "Oct-1991",
          "Nov-1991",
          "Dec-1991",
          "Jan-1992",
          "Feb-1992",
          "Mar-1992",
          "Apr-1992",
          "May-1992",
          "Jun-1992",
          "Jul-1992",
          "Aug-1992",
          "Sep-1992",
          "Oct-1992",
          "Nov-1992",
          "Dec-1992",
          "Jan-1993",
          "Feb-1993",
          "Mar-1993",
          "Apr-1993",
          "May-1993",
          "Jun-1993",
          "Jul-1993",
          "Aug-1993",
          "Sep-1993",
          "Oct-1993",
          "Nov-1993",
          "Dec-1993",
          "Jan-1994",
          "Feb-1994",
          "Mar-1994",
          "Apr-1994",
          "May-1994",
          "Jun-1994",
          "Jul-1994",
          "Aug-1994",
          "Sep-1994",
          "Oct-1994",
          "Nov-1994",
          "Dec-1994",
          "Jan-1995",
          "Feb-1995",
          "Mar-1995",
          "Apr-1995",
          "May-1995",
          "Jun-1995",
          "Jul-1995",
          "Aug-1995",
          "Sep-1995",
          "Oct-1995",
          "Nov-1995",
          "Dec-1995",
          "Jan-1996",
          "Feb-1996",
          "Mar-1996",
          "Apr-1996",
          "May-1996",
          "Jun-1996",
          "Jul-1996",
          "Aug-1996",
          "Sep-1996",
          "Oct-1996",
          "Nov-1996",
          "Dec-1996",
          "Jan-1997",
          "Feb-1997",
          "Mar-1997",
          "Apr-1997",
          "May-1997",
          "Jun-1997",
          "Jul-1997",
          "Aug-1997",
          "Sep-1997",
          "Oct-1997",
          "Nov-1997",
          "Dec-1997",
          "Jan-1998",
          "Feb-1998",
          "Mar-1998",
          "Apr-1998",
          "May-1998",
          "Jun-1998",
          "Jul-1998",
          "Aug-1998",
          "Sep-1998",
          "Oct-1998",
          "Nov-1998",
          "Dec-1998",
          "Jan-1999",
          "Feb-1999",
          "Mar-1999",
          "Apr-1999",
          "May-1999",
          "Jun-1999",
          "Jul-1999",
          "Aug-1999",
          "Sep-1999",
          "Oct-1999",
          "Nov-1999",
          "Dec-1999",
          "Jan-2000",
          "Feb-2000",
          "Mar-2000",
          "Apr-2000",
          "May-2000",
          "Jun-2000",
          "Jul-2000",
          "Aug-2000",
          "Sep-2000",
          "Oct-2000",
          "Nov-2000",
          "Dec-2000",
          "Jan-2001",
          "Feb-2001",
          "Mar-2001",
          "Apr-2001",
          "May-2001",
          "Jun-2001",
          "Jul-2001",
          "Aug-2001",
          "Sep-2001",
          "Oct-2001",
          "Nov-2001",
          "Dec-2001",
          "Jan-2002",
          "Feb-2002",
          "Mar-2002",
          "Apr-2002",
          "May-2002",
          "Jun-2002",
          "Jul-2002",
          "Aug-2002",
          "Sep-2002",
          "Oct-2002",
          "Nov-2002",
          "Dec-2002",
          "Jan-2003",
          "Feb-2003",
          "Mar-2003",
          "Apr-2003",
          "May-2003",
          "Jun-2003",
          "Jul-2003",
          "Aug-2003",
          "Sep-2003",
          "Oct-2003",
          "Nov-2003",
          "Dec-2003",
          "Jan-2004",
          "Feb-2004",
          "Mar-2004",
          "Apr-2004",
          "May-2004",
          "Jun-2004",
          "Jul-2004",
          "Aug-2004",
          "Sep-2004",
          "Oct-2004",
          "Nov-2004",
          "Dec-2004",
          "Jan-2005",
          "Feb-2005",
          "Mar-2005",
          "Apr-2005",
          "May-2005",
          "Jun-2005",
          "Jul-2005",
          "Aug-2005",
          "Sep-2005",
          "Oct-2005",
          "Nov-2005",
          "Dec-2005",
          "Jan-2006",
          "Feb-2006",
          "Mar-2006",
          "Apr-2006",
          "May-2006",
          "Jun-2006",
          "Jul-2006",
          "Aug-2006",
          "Sep-2006",
          "Oct-2006",
          "Nov-2006",
          "Dec-2006",
          "Jan-2007",
          "Feb-2007",
          "Mar-2007",
          "Apr-2007",
          "May-2007",
          "Jun-2007",
          "Jul-2007",
          "Aug-2007",
          "Sep-2007",
          "Oct-2007",
          "Nov-2007",
          "Dec-2007",
          "Jan-2008",
          "Feb-2008",
          "Mar-2008",
          "Apr-2008",
          "May-2008",
          "Jun-2008",
          "Jul-2008",
          "Aug-2008",
          "Sep-2008",
          "Oct-2008",
          "Nov-2008",
          "Dec-2008",
          "Jan-2009",
          "Feb-2009",
          "Mar-2009",
          "Apr-2009",
          "May-2009",
          "Jun-2009",
          "Jul-2009",
          "Aug-2009",
          "Sep-2009",
          "Oct-2009",
          "Nov-2009",
          "Dec-2009",
          "Jan-2010",
          "Feb-2010",
          "Mar-2010",
          "Apr-2010",
          "May-2010",
          "Jun-2010",
          "Jul-2010",
          "Aug-2010",
          "Sep-2010",
          "Oct-2010",
          "Nov-2010",
          "Dec-2010",
          "Jan-2011",
          "Feb-2011",
          "Mar-2011",
          "Apr-2011",
          "May-2011",
          "Jun-2011",
          "Jul-2011",
          "Aug-2011",
          "Sep-2011",
          "Oct-2011",
          "Nov-2011",
          "Dec-2011",
          "Jan-2012",
          "Feb-2012",
          "Mar-2012",
          "Apr-2012",
          "May-2012",
          "Jun-2012",
          "Jul-2012",
          "Aug-2012",
          "Sep-2012",
          "Oct-2012",
          "Nov-2012",
          "Dec-2012",
          "Jan-2013",
          "Feb-2013",
          "Mar-2013",
          "Apr-2013",
          "May-2013",
          "Jun-2013",
          "Jul-2013",
          "Aug-2013",
          "Sep-2013",
          "Oct-2013",
          "Nov-2013",
          "Dec-2013",
          "Jan-2014",
          "Feb-2014",
          "Mar-2014",
          "Apr-2014",
          "May-2014",
          "Jun-2014",
          "Jul-2014",
          "Aug-2014",
          "Sep-2014",
          "Oct-2014",
          "Nov-2014",
          "Dec-2014",
          "Jan-2015",
          "Feb-2015",
          "Mar-2015",
          "Apr-2015",
          "May-2015",
          "Jun-2015",
          "Jul-2015",
          "Aug-2015",
          "Sep-2015",
          "Oct-2015",
          "Nov-2015",
          "Dec-2015",
          "Jan-2016",
          "Feb-2016",
          "Mar-2016",
          "Apr-2016",
          "May-2016",
          "Jun-2016",
          "Jul-2016",
          "Aug-2016",
          "Sep-2016",
          "Oct-2016",
          "Nov-2016",
          "Dec-2016",
          "Jan-2017",
          "Feb-2017",
          "Mar-2017",
          "Apr-2017",
          "May-2017",
          "Jun-2017",
          "Jul-2017",
          "Aug-2017",
          "Sep-2017",
          "Oct-2017",
          "Nov-2017",
          "Dec-2017",
          "Jan-2018",
          "Feb-2018",
          "Mar-2018",
          "Apr-2018",
          "May-2018",
          "Jun-2018",
          "Jul-2018",
          "Aug-2018",
          "Sep-2018",
          "Oct-2018",
          "Nov-2018",
          "Dec-2018",
          "Jan-2019",
          "Feb-2019",
          "Mar-2019",
          "Apr-2019",
          "May-2019",
          "Jun-2019",
          "Jul-2019",
          "Aug-2019",
          "Sep-2019",
          "Oct-2019",
          "Nov-2019",
          "Dec-2019",
          "Jan-2020",
          "Feb-2020"
         ],
         "xaxis": "x",
         "y": [
          5230,
          5330,
          5251,
          5531,
          5668,
          5548,
          5709,
          5372,
          5416,
          5663,
          5887,
          6042,
          5846,
          5706,
          5279,
          5949,
          6255,
          6125,
          5885,
          6106,
          6114,
          5838,
          5995,
          6074,
          5977,
          5595,
          5647,
          5449,
          5725,
          6034,
          6167,
          6054,
          6028,
          6019,
          6123,
          6220,
          6066,
          5859,
          6088,
          6153,
          6258,
          6148,
          6149,
          6213,
          5873,
          6147,
          6094,
          6040,
          6138,
          5874,
          6079,
          6241,
          6454,
          6399,
          6267,
          6260,
          6268,
          6320,
          6332,
          5885,
          6087,
          6111,
          5711,
          5992,
          6250,
          6359,
          6503,
          6407,
          6255,
          5935,
          6056,
          5903,
          5898,
          5984,
          5864,
          5895,
          6021,
          6192,
          6142,
          6294,
          6136,
          6005,
          5986,
          6244,
          5866,
          5583,
          6121,
          6192,
          6224,
          6457,
          6340,
          6000,
          6282,
          6166,
          6309,
          6174,
          6026,
          6116,
          6186,
          6306,
          6279,
          6437,
          6527,
          6300,
          6221,
          6118,
          6210,
          6280,
          6178,
          5998,
          6040,
          6463,
          6612,
          6516,
          6546,
          6694,
          6590,
          6165,
          6340,
          6464,
          6259,
          6103,
          6107,
          6462,
          6569,
          6683,
          6515,
          6396,
          6598,
          6263,
          6447,
          6546,
          6359,
          6330,
          6425,
          6807,
          6821,
          6843,
          6708,
          6699,
          6712,
          6689,
          6698,
          6776,
          6409,
          6178,
          6688,
          6812,
          6984,
          7017,
          6887,
          7024,
          7115,
          6959,
          7008,
          7087,
          6573,
          6314,
          6944,
          7175,
          7152,
          7251,
          7322,
          7380,
          6852,
          6429,
          6883,
          7108,
          6728,
          6795,
          7114,
          7305,
          7150,
          7066,
          7098,
          7077,
          7181,
          6872,
          6994,
          6913,
          6537,
          6633,
          6910,
          7031,
          7167,
          7224,
          7355,
          7316,
          7265,
          7202,
          7247,
          7396,
          7002,
          6946,
          6968,
          7577,
          7562,
          7396,
          7214,
          7380,
          7271,
          7306,
          7347,
          7263,
          7161,
          6966,
          6953,
          7273,
          7094,
          7174,
          7174,
          7097,
          6797,
          6713,
          7398,
          7324,
          6754,
          6863,
          7192,
          7530,
          7597,
          7256,
          7280,
          7432,
          7387,
          7323,
          7441,
          7479,
          7058,
          6826,
          7164,
          7418,
          7807,
          7900,
          7827,
          7895,
          7251,
          7283,
          7693,
          7775,
          7385,
          7503,
          7573,
          7651,
          7730,
          8049,
          7683,
          7622,
          5760,
          5675,
          6831,
          6999,
          6698,
          6972,
          7022,
          7260,
          7538,
          7641,
          7752,
          7668,
          7719,
          7318,
          7346,
          7543,
          7266,
          7080,
          7592,
          7321,
          7396,
          7368,
          7732,
          7604,
          7373,
          7359,
          7384,
          7309,
          7002,
          7034,
          7100,
          7291,
          7521,
          7516,
          7521,
          7203,
          5034,
          6952,
          7105,
          7126,
          6910,
          6816,
          7193,
          7298,
          7173,
          7262,
          7144,
          7375,
          7275,
          7039,
          7091,
          6996,
          6760,
          6782,
          7418,
          8071,
          7884,
          7942,
          8054,
          7889,
          7605,
          7455,
          7769,
          8018,
          7685,
          6853,
          7560,
          7465,
          7641,
          7935,
          7897,
          8116,
          7764,
          7611,
          7882,
          7757,
          7385,
          7573,
          7545,
          7569,
          8176,
          8221,
          8180,
          7976,
          7757,
          7774,
          8198,
          8271,
          7585,
          7251,
          7666,
          8049,
          8406,
          8587,
          8657,
          8406,
          8380,
          7917,
          8378,
          8508,
          8055,
          7912,
          8001,
          8525,
          8339,
          8236,
          8813,
          8803,
          8479,
          8153,
          8597,
          8735,
          8171,
          8175,
          8260,
          8665,
          8748,
          8904,
          8896,
          8835,
          8612,
          8395,
          8773,
          8958,
          8322,
          8441,
          8716,
          8630,
          8692,
          8765,
          8881,
          8805,
          8696,
          8281,
          8782,
          9083,
          8545,
          8342,
          8707,
          9089,
          9458,
          9342,
          9434,
          8740,
          7624,
          8791,
          9078,
          9354,
          8940,
          8535,
          9014,
          9058,
          9082,
          9487,
          9266,
          9517,
          9347,
          9444,
          9433,
          9557,
          9025,
          8694,
          8622,
          8977,
          9246,
          9411,
          9359,
          9479,
          8990,
          8641,
          9214,
          9426,
          9139,
          8772
         ],
         "yaxis": "y2"
        },
        {
         "name": "PADD 5 - kbd",
         "type": "scatter",
         "x": [
          "Jan-1985",
          "Feb-1985",
          "Mar-1985",
          "Apr-1985",
          "May-1985",
          "Jun-1985",
          "Jul-1985",
          "Aug-1985",
          "Sep-1985",
          "Oct-1985",
          "Nov-1985",
          "Dec-1985",
          "Jan-1986",
          "Feb-1986",
          "Mar-1986",
          "Apr-1986",
          "May-1986",
          "Jun-1986",
          "Jul-1986",
          "Aug-1986",
          "Sep-1986",
          "Oct-1986",
          "Nov-1986",
          "Dec-1986",
          "Jan-1987",
          "Feb-1987",
          "Mar-1987",
          "Apr-1987",
          "May-1987",
          "Jun-1987",
          "Jul-1987",
          "Aug-1987",
          "Sep-1987",
          "Oct-1987",
          "Nov-1987",
          "Dec-1987",
          "Jan-1988",
          "Feb-1988",
          "Mar-1988",
          "Apr-1988",
          "May-1988",
          "Jun-1988",
          "Jul-1988",
          "Aug-1988",
          "Sep-1988",
          "Oct-1988",
          "Nov-1988",
          "Dec-1988",
          "Jan-1989",
          "Feb-1989",
          "Mar-1989",
          "Apr-1989",
          "May-1989",
          "Jun-1989",
          "Jul-1989",
          "Aug-1989",
          "Sep-1989",
          "Oct-1989",
          "Nov-1989",
          "Dec-1989",
          "Jan-1990",
          "Feb-1990",
          "Mar-1990",
          "Apr-1990",
          "May-1990",
          "Jun-1990",
          "Jul-1990",
          "Aug-1990",
          "Sep-1990",
          "Oct-1990",
          "Nov-1990",
          "Dec-1990",
          "Jan-1991",
          "Feb-1991",
          "Mar-1991",
          "Apr-1991",
          "May-1991",
          "Jun-1991",
          "Jul-1991",
          "Aug-1991",
          "Sep-1991",
          "Oct-1991",
          "Nov-1991",
          "Dec-1991",
          "Jan-1992",
          "Feb-1992",
          "Mar-1992",
          "Apr-1992",
          "May-1992",
          "Jun-1992",
          "Jul-1992",
          "Aug-1992",
          "Sep-1992",
          "Oct-1992",
          "Nov-1992",
          "Dec-1992",
          "Jan-1993",
          "Feb-1993",
          "Mar-1993",
          "Apr-1993",
          "May-1993",
          "Jun-1993",
          "Jul-1993",
          "Aug-1993",
          "Sep-1993",
          "Oct-1993",
          "Nov-1993",
          "Dec-1993",
          "Jan-1994",
          "Feb-1994",
          "Mar-1994",
          "Apr-1994",
          "May-1994",
          "Jun-1994",
          "Jul-1994",
          "Aug-1994",
          "Sep-1994",
          "Oct-1994",
          "Nov-1994",
          "Dec-1994",
          "Jan-1995",
          "Feb-1995",
          "Mar-1995",
          "Apr-1995",
          "May-1995",
          "Jun-1995",
          "Jul-1995",
          "Aug-1995",
          "Sep-1995",
          "Oct-1995",
          "Nov-1995",
          "Dec-1995",
          "Jan-1996",
          "Feb-1996",
          "Mar-1996",
          "Apr-1996",
          "May-1996",
          "Jun-1996",
          "Jul-1996",
          "Aug-1996",
          "Sep-1996",
          "Oct-1996",
          "Nov-1996",
          "Dec-1996",
          "Jan-1997",
          "Feb-1997",
          "Mar-1997",
          "Apr-1997",
          "May-1997",
          "Jun-1997",
          "Jul-1997",
          "Aug-1997",
          "Sep-1997",
          "Oct-1997",
          "Nov-1997",
          "Dec-1997",
          "Jan-1998",
          "Feb-1998",
          "Mar-1998",
          "Apr-1998",
          "May-1998",
          "Jun-1998",
          "Jul-1998",
          "Aug-1998",
          "Sep-1998",
          "Oct-1998",
          "Nov-1998",
          "Dec-1998",
          "Jan-1999",
          "Feb-1999",
          "Mar-1999",
          "Apr-1999",
          "May-1999",
          "Jun-1999",
          "Jul-1999",
          "Aug-1999",
          "Sep-1999",
          "Oct-1999",
          "Nov-1999",
          "Dec-1999",
          "Jan-2000",
          "Feb-2000",
          "Mar-2000",
          "Apr-2000",
          "May-2000",
          "Jun-2000",
          "Jul-2000",
          "Aug-2000",
          "Sep-2000",
          "Oct-2000",
          "Nov-2000",
          "Dec-2000",
          "Jan-2001",
          "Feb-2001",
          "Mar-2001",
          "Apr-2001",
          "May-2001",
          "Jun-2001",
          "Jul-2001",
          "Aug-2001",
          "Sep-2001",
          "Oct-2001",
          "Nov-2001",
          "Dec-2001",
          "Jan-2002",
          "Feb-2002",
          "Mar-2002",
          "Apr-2002",
          "May-2002",
          "Jun-2002",
          "Jul-2002",
          "Aug-2002",
          "Sep-2002",
          "Oct-2002",
          "Nov-2002",
          "Dec-2002",
          "Jan-2003",
          "Feb-2003",
          "Mar-2003",
          "Apr-2003",
          "May-2003",
          "Jun-2003",
          "Jul-2003",
          "Aug-2003",
          "Sep-2003",
          "Oct-2003",
          "Nov-2003",
          "Dec-2003",
          "Jan-2004",
          "Feb-2004",
          "Mar-2004",
          "Apr-2004",
          "May-2004",
          "Jun-2004",
          "Jul-2004",
          "Aug-2004",
          "Sep-2004",
          "Oct-2004",
          "Nov-2004",
          "Dec-2004",
          "Jan-2005",
          "Feb-2005",
          "Mar-2005",
          "Apr-2005",
          "May-2005",
          "Jun-2005",
          "Jul-2005",
          "Aug-2005",
          "Sep-2005",
          "Oct-2005",
          "Nov-2005",
          "Dec-2005",
          "Jan-2006",
          "Feb-2006",
          "Mar-2006",
          "Apr-2006",
          "May-2006",
          "Jun-2006",
          "Jul-2006",
          "Aug-2006",
          "Sep-2006",
          "Oct-2006",
          "Nov-2006",
          "Dec-2006",
          "Jan-2007",
          "Feb-2007",
          "Mar-2007",
          "Apr-2007",
          "May-2007",
          "Jun-2007",
          "Jul-2007",
          "Aug-2007",
          "Sep-2007",
          "Oct-2007",
          "Nov-2007",
          "Dec-2007",
          "Jan-2008",
          "Feb-2008",
          "Mar-2008",
          "Apr-2008",
          "May-2008",
          "Jun-2008",
          "Jul-2008",
          "Aug-2008",
          "Sep-2008",
          "Oct-2008",
          "Nov-2008",
          "Dec-2008",
          "Jan-2009",
          "Feb-2009",
          "Mar-2009",
          "Apr-2009",
          "May-2009",
          "Jun-2009",
          "Jul-2009",
          "Aug-2009",
          "Sep-2009",
          "Oct-2009",
          "Nov-2009",
          "Dec-2009",
          "Jan-2010",
          "Feb-2010",
          "Mar-2010",
          "Apr-2010",
          "May-2010",
          "Jun-2010",
          "Jul-2010",
          "Aug-2010",
          "Sep-2010",
          "Oct-2010",
          "Nov-2010",
          "Dec-2010",
          "Jan-2011",
          "Feb-2011",
          "Mar-2011",
          "Apr-2011",
          "May-2011",
          "Jun-2011",
          "Jul-2011",
          "Aug-2011",
          "Sep-2011",
          "Oct-2011",
          "Nov-2011",
          "Dec-2011",
          "Jan-2012",
          "Feb-2012",
          "Mar-2012",
          "Apr-2012",
          "May-2012",
          "Jun-2012",
          "Jul-2012",
          "Aug-2012",
          "Sep-2012",
          "Oct-2012",
          "Nov-2012",
          "Dec-2012",
          "Jan-2013",
          "Feb-2013",
          "Mar-2013",
          "Apr-2013",
          "May-2013",
          "Jun-2013",
          "Jul-2013",
          "Aug-2013",
          "Sep-2013",
          "Oct-2013",
          "Nov-2013",
          "Dec-2013",
          "Jan-2014",
          "Feb-2014",
          "Mar-2014",
          "Apr-2014",
          "May-2014",
          "Jun-2014",
          "Jul-2014",
          "Aug-2014",
          "Sep-2014",
          "Oct-2014",
          "Nov-2014",
          "Dec-2014",
          "Jan-2015",
          "Feb-2015",
          "Mar-2015",
          "Apr-2015",
          "May-2015",
          "Jun-2015",
          "Jul-2015",
          "Aug-2015",
          "Sep-2015",
          "Oct-2015",
          "Nov-2015",
          "Dec-2015",
          "Jan-2016",
          "Feb-2016",
          "Mar-2016",
          "Apr-2016",
          "May-2016",
          "Jun-2016",
          "Jul-2016",
          "Aug-2016",
          "Sep-2016",
          "Oct-2016",
          "Nov-2016",
          "Dec-2016",
          "Jan-2017",
          "Feb-2017",
          "Mar-2017",
          "Apr-2017",
          "May-2017",
          "Jun-2017",
          "Jul-2017",
          "Aug-2017",
          "Sep-2017",
          "Oct-2017",
          "Nov-2017",
          "Dec-2017",
          "Jan-2018",
          "Feb-2018",
          "Mar-2018",
          "Apr-2018",
          "May-2018",
          "Jun-2018",
          "Jul-2018",
          "Aug-2018",
          "Sep-2018",
          "Oct-2018",
          "Nov-2018",
          "Dec-2018",
          "Jan-2019",
          "Feb-2019",
          "Mar-2019",
          "Apr-2019",
          "May-2019",
          "Jun-2019",
          "Jul-2019",
          "Aug-2019",
          "Sep-2019",
          "Oct-2019",
          "Nov-2019",
          "Dec-2019",
          "Jan-2020",
          "Feb-2020"
         ],
         "xaxis": "x",
         "y": [
          5230,
          5330,
          5251,
          5531,
          5668,
          5548,
          5709,
          5372,
          5416,
          5663,
          5887,
          6042,
          5846,
          5706,
          5279,
          5949,
          6255,
          6125,
          5885,
          6106,
          6114,
          5838,
          5995,
          6074,
          5977,
          5595,
          5647,
          5449,
          5725,
          6034,
          6167,
          6054,
          6028,
          6019,
          6123,
          6220,
          6066,
          5859,
          6088,
          6153,
          6258,
          6148,
          6149,
          6213,
          5873,
          6147,
          6094,
          6040,
          6138,
          5874,
          6079,
          6241,
          6454,
          6399,
          6267,
          6260,
          6268,
          6320,
          6332,
          5885,
          6087,
          6111,
          5711,
          5992,
          6250,
          6359,
          6503,
          6407,
          6255,
          5935,
          6056,
          5903,
          5898,
          5984,
          5864,
          5895,
          6021,
          6192,
          6142,
          6294,
          6136,
          6005,
          5986,
          6244,
          5866,
          5583,
          6121,
          6192,
          6224,
          6457,
          6340,
          6000,
          6282,
          6166,
          6309,
          6174,
          6026,
          6116,
          6186,
          6306,
          6279,
          6437,
          6527,
          6300,
          6221,
          6118,
          6210,
          6280,
          6178,
          5998,
          6040,
          6463,
          6612,
          6516,
          6546,
          6694,
          6590,
          6165,
          6340,
          6464,
          6259,
          6103,
          6107,
          6462,
          6569,
          6683,
          6515,
          6396,
          6598,
          6263,
          6447,
          6546,
          6359,
          6330,
          6425,
          6807,
          6821,
          6843,
          6708,
          6699,
          6712,
          6689,
          6698,
          6776,
          6409,
          6178,
          6688,
          6812,
          6984,
          7017,
          6887,
          7024,
          7115,
          6959,
          7008,
          7087,
          6573,
          6314,
          6944,
          7175,
          7152,
          7251,
          7322,
          7380,
          6852,
          6429,
          6883,
          7108,
          6728,
          6795,
          7114,
          7305,
          7150,
          7066,
          7098,
          7077,
          7181,
          6872,
          6994,
          6913,
          6537,
          6633,
          6910,
          7031,
          7167,
          7224,
          7355,
          7316,
          7265,
          7202,
          7247,
          7396,
          7002,
          6946,
          6968,
          7577,
          7562,
          7396,
          7214,
          7380,
          7271,
          7306,
          7347,
          7263,
          7161,
          6966,
          6953,
          7273,
          7094,
          7174,
          7174,
          7097,
          6797,
          6713,
          7398,
          7324,
          6754,
          6863,
          7192,
          7530,
          7597,
          7256,
          7280,
          7432,
          7387,
          7323,
          7441,
          7479,
          7058,
          6826,
          7164,
          7418,
          7807,
          7900,
          7827,
          7895,
          7251,
          7283,
          7693,
          7775,
          7385,
          7503,
          7573,
          7651,
          7730,
          8049,
          7683,
          7622,
          5760,
          5675,
          6831,
          6999,
          6698,
          6972,
          7022,
          7260,
          7538,
          7641,
          7752,
          7668,
          7719,
          7318,
          7346,
          7543,
          7266,
          7080,
          7592,
          7321,
          7396,
          7368,
          7732,
          7604,
          7373,
          7359,
          7384,
          7309,
          7002,
          7034,
          7100,
          7291,
          7521,
          7516,
          7521,
          7203,
          5034,
          6952,
          7105,
          7126,
          6910,
          6816,
          7193,
          7298,
          7173,
          7262,
          7144,
          7375,
          7275,
          7039,
          7091,
          6996,
          6760,
          6782,
          7418,
          8071,
          7884,
          7942,
          8054,
          7889,
          7605,
          7455,
          7769,
          8018,
          7685,
          6853,
          7560,
          7465,
          7641,
          7935,
          7897,
          8116,
          7764,
          7611,
          7882,
          7757,
          7385,
          7573,
          7545,
          7569,
          8176,
          8221,
          8180,
          7976,
          7757,
          7774,
          8198,
          8271,
          7585,
          7251,
          7666,
          8049,
          8406,
          8587,
          8657,
          8406,
          8380,
          7917,
          8378,
          8508,
          8055,
          7912,
          8001,
          8525,
          8339,
          8236,
          8813,
          8803,
          8479,
          8153,
          8597,
          8735,
          8171,
          8175,
          8260,
          8665,
          8748,
          8904,
          8896,
          8835,
          8612,
          8395,
          8773,
          8958,
          8322,
          8441,
          8716,
          8630,
          8692,
          8765,
          8881,
          8805,
          8696,
          8281,
          8782,
          9083,
          8545,
          8342,
          8707,
          9089,
          9458,
          9342,
          9434,
          8740,
          7624,
          8791,
          9078,
          9354,
          8940,
          8535,
          9014,
          9058,
          9082,
          9487,
          9266,
          9517,
          9347,
          9444,
          9433,
          9557,
          9025,
          8694,
          8622,
          8977,
          9246,
          9411,
          9359,
          9479,
          8990,
          8641,
          9214,
          9426,
          9139,
          8772
         ],
         "yaxis": "y2"
        }
       ],
       "layout": {
        "template": {
         "data": {
          "bar": [
           {
            "error_x": {
             "color": "#2a3f5f"
            },
            "error_y": {
             "color": "#2a3f5f"
            },
            "marker": {
             "line": {
              "color": "#E5ECF6",
              "width": 0.5
             }
            },
            "type": "bar"
           }
          ],
          "barpolar": [
           {
            "marker": {
             "line": {
              "color": "#E5ECF6",
              "width": 0.5
             }
            },
            "type": "barpolar"
           }
          ],
          "carpet": [
           {
            "aaxis": {
             "endlinecolor": "#2a3f5f",
             "gridcolor": "white",
             "linecolor": "white",
             "minorgridcolor": "white",
             "startlinecolor": "#2a3f5f"
            },
            "baxis": {
             "endlinecolor": "#2a3f5f",
             "gridcolor": "white",
             "linecolor": "white",
             "minorgridcolor": "white",
             "startlinecolor": "#2a3f5f"
            },
            "type": "carpet"
           }
          ],
          "choropleth": [
           {
            "colorbar": {
             "outlinewidth": 0,
             "ticks": ""
            },
            "type": "choropleth"
           }
          ],
          "contour": [
           {
            "colorbar": {
             "outlinewidth": 0,
             "ticks": ""
            },
            "colorscale": [
             [
              0,
              "#0d0887"
             ],
             [
              0.1111111111111111,
              "#46039f"
             ],
             [
              0.2222222222222222,
              "#7201a8"
             ],
             [
              0.3333333333333333,
              "#9c179e"
             ],
             [
              0.4444444444444444,
              "#bd3786"
             ],
             [
              0.5555555555555556,
              "#d8576b"
             ],
             [
              0.6666666666666666,
              "#ed7953"
             ],
             [
              0.7777777777777778,
              "#fb9f3a"
             ],
             [
              0.8888888888888888,
              "#fdca26"
             ],
             [
              1,
              "#f0f921"
             ]
            ],
            "type": "contour"
           }
          ],
          "contourcarpet": [
           {
            "colorbar": {
             "outlinewidth": 0,
             "ticks": ""
            },
            "type": "contourcarpet"
           }
          ],
          "heatmap": [
           {
            "colorbar": {
             "outlinewidth": 0,
             "ticks": ""
            },
            "colorscale": [
             [
              0,
              "#0d0887"
             ],
             [
              0.1111111111111111,
              "#46039f"
             ],
             [
              0.2222222222222222,
              "#7201a8"
             ],
             [
              0.3333333333333333,
              "#9c179e"
             ],
             [
              0.4444444444444444,
              "#bd3786"
             ],
             [
              0.5555555555555556,
              "#d8576b"
             ],
             [
              0.6666666666666666,
              "#ed7953"
             ],
             [
              0.7777777777777778,
              "#fb9f3a"
             ],
             [
              0.8888888888888888,
              "#fdca26"
             ],
             [
              1,
              "#f0f921"
             ]
            ],
            "type": "heatmap"
           }
          ],
          "heatmapgl": [
           {
            "colorbar": {
             "outlinewidth": 0,
             "ticks": ""
            },
            "colorscale": [
             [
              0,
              "#0d0887"
             ],
             [
              0.1111111111111111,
              "#46039f"
             ],
             [
              0.2222222222222222,
              "#7201a8"
             ],
             [
              0.3333333333333333,
              "#9c179e"
             ],
             [
              0.4444444444444444,
              "#bd3786"
             ],
             [
              0.5555555555555556,
              "#d8576b"
             ],
             [
              0.6666666666666666,
              "#ed7953"
             ],
             [
              0.7777777777777778,
              "#fb9f3a"
             ],
             [
              0.8888888888888888,
              "#fdca26"
             ],
             [
              1,
              "#f0f921"
             ]
            ],
            "type": "heatmapgl"
           }
          ],
          "histogram": [
           {
            "marker": {
             "colorbar": {
              "outlinewidth": 0,
              "ticks": ""
             }
            },
            "type": "histogram"
           }
          ],
          "histogram2d": [
           {
            "colorbar": {
             "outlinewidth": 0,
             "ticks": ""
            },
            "colorscale": [
             [
              0,
              "#0d0887"
             ],
             [
              0.1111111111111111,
              "#46039f"
             ],
             [
              0.2222222222222222,
              "#7201a8"
             ],
             [
              0.3333333333333333,
              "#9c179e"
             ],
             [
              0.4444444444444444,
              "#bd3786"
             ],
             [
              0.5555555555555556,
              "#d8576b"
             ],
             [
              0.6666666666666666,
              "#ed7953"
             ],
             [
              0.7777777777777778,
              "#fb9f3a"
             ],
             [
              0.8888888888888888,
              "#fdca26"
             ],
             [
              1,
              "#f0f921"
             ]
            ],
            "type": "histogram2d"
           }
          ],
          "histogram2dcontour": [
           {
            "colorbar": {
             "outlinewidth": 0,
             "ticks": ""
            },
            "colorscale": [
             [
              0,
              "#0d0887"
             ],
             [
              0.1111111111111111,
              "#46039f"
             ],
             [
              0.2222222222222222,
              "#7201a8"
             ],
             [
              0.3333333333333333,
              "#9c179e"
             ],
             [
              0.4444444444444444,
              "#bd3786"
             ],
             [
              0.5555555555555556,
              "#d8576b"
             ],
             [
              0.6666666666666666,
              "#ed7953"
             ],
             [
              0.7777777777777778,
              "#fb9f3a"
             ],
             [
              0.8888888888888888,
              "#fdca26"
             ],
             [
              1,
              "#f0f921"
             ]
            ],
            "type": "histogram2dcontour"
           }
          ],
          "mesh3d": [
           {
            "colorbar": {
             "outlinewidth": 0,
             "ticks": ""
            },
            "type": "mesh3d"
           }
          ],
          "parcoords": [
           {
            "line": {
             "colorbar": {
              "outlinewidth": 0,
              "ticks": ""
             }
            },
            "type": "parcoords"
           }
          ],
          "pie": [
           {
            "automargin": true,
            "type": "pie"
           }
          ],
          "scatter": [
           {
            "marker": {
             "colorbar": {
              "outlinewidth": 0,
              "ticks": ""
             }
            },
            "type": "scatter"
           }
          ],
          "scatter3d": [
           {
            "line": {
             "colorbar": {
              "outlinewidth": 0,
              "ticks": ""
             }
            },
            "marker": {
             "colorbar": {
              "outlinewidth": 0,
              "ticks": ""
             }
            },
            "type": "scatter3d"
           }
          ],
          "scattercarpet": [
           {
            "marker": {
             "colorbar": {
              "outlinewidth": 0,
              "ticks": ""
             }
            },
            "type": "scattercarpet"
           }
          ],
          "scattergeo": [
           {
            "marker": {
             "colorbar": {
              "outlinewidth": 0,
              "ticks": ""
             }
            },
            "type": "scattergeo"
           }
          ],
          "scattergl": [
           {
            "marker": {
             "colorbar": {
              "outlinewidth": 0,
              "ticks": ""
             }
            },
            "type": "scattergl"
           }
          ],
          "scattermapbox": [
           {
            "marker": {
             "colorbar": {
              "outlinewidth": 0,
              "ticks": ""
             }
            },
            "type": "scattermapbox"
           }
          ],
          "scatterpolar": [
           {
            "marker": {
             "colorbar": {
              "outlinewidth": 0,
              "ticks": ""
             }
            },
            "type": "scatterpolar"
           }
          ],
          "scatterpolargl": [
           {
            "marker": {
             "colorbar": {
              "outlinewidth": 0,
              "ticks": ""
             }
            },
            "type": "scatterpolargl"
           }
          ],
          "scatterternary": [
           {
            "marker": {
             "colorbar": {
              "outlinewidth": 0,
              "ticks": ""
             }
            },
            "type": "scatterternary"
           }
          ],
          "surface": [
           {
            "colorbar": {
             "outlinewidth": 0,
             "ticks": ""
            },
            "colorscale": [
             [
              0,
              "#0d0887"
             ],
             [
              0.1111111111111111,
              "#46039f"
             ],
             [
              0.2222222222222222,
              "#7201a8"
             ],
             [
              0.3333333333333333,
              "#9c179e"
             ],
             [
              0.4444444444444444,
              "#bd3786"
             ],
             [
              0.5555555555555556,
              "#d8576b"
             ],
             [
              0.6666666666666666,
              "#ed7953"
             ],
             [
              0.7777777777777778,
              "#fb9f3a"
             ],
             [
              0.8888888888888888,
              "#fdca26"
             ],
             [
              1,
              "#f0f921"
             ]
            ],
            "type": "surface"
           }
          ],
          "table": [
           {
            "cells": {
             "fill": {
              "color": "#EBF0F8"
             },
             "line": {
              "color": "white"
             }
            },
            "header": {
             "fill": {
              "color": "#C8D4E3"
             },
             "line": {
              "color": "white"
             }
            },
            "type": "table"
           }
          ]
         },
         "layout": {
          "annotationdefaults": {
           "arrowcolor": "#2a3f5f",
           "arrowhead": 0,
           "arrowwidth": 1
          },
          "coloraxis": {
           "colorbar": {
            "outlinewidth": 0,
            "ticks": ""
           }
          },
          "colorscale": {
           "diverging": [
            [
             0,
             "#8e0152"
            ],
            [
             0.1,
             "#c51b7d"
            ],
            [
             0.2,
             "#de77ae"
            ],
            [
             0.3,
             "#f1b6da"
            ],
            [
             0.4,
             "#fde0ef"
            ],
            [
             0.5,
             "#f7f7f7"
            ],
            [
             0.6,
             "#e6f5d0"
            ],
            [
             0.7,
             "#b8e186"
            ],
            [
             0.8,
             "#7fbc41"
            ],
            [
             0.9,
             "#4d9221"
            ],
            [
             1,
             "#276419"
            ]
           ],
           "sequential": [
            [
             0,
             "#0d0887"
            ],
            [
             0.1111111111111111,
             "#46039f"
            ],
            [
             0.2222222222222222,
             "#7201a8"
            ],
            [
             0.3333333333333333,
             "#9c179e"
            ],
            [
             0.4444444444444444,
             "#bd3786"
            ],
            [
             0.5555555555555556,
             "#d8576b"
            ],
            [
             0.6666666666666666,
             "#ed7953"
            ],
            [
             0.7777777777777778,
             "#fb9f3a"
            ],
            [
             0.8888888888888888,
             "#fdca26"
            ],
            [
             1,
             "#f0f921"
            ]
           ],
           "sequentialminus": [
            [
             0,
             "#0d0887"
            ],
            [
             0.1111111111111111,
             "#46039f"
            ],
            [
             0.2222222222222222,
             "#7201a8"
            ],
            [
             0.3333333333333333,
             "#9c179e"
            ],
            [
             0.4444444444444444,
             "#bd3786"
            ],
            [
             0.5555555555555556,
             "#d8576b"
            ],
            [
             0.6666666666666666,
             "#ed7953"
            ],
            [
             0.7777777777777778,
             "#fb9f3a"
            ],
            [
             0.8888888888888888,
             "#fdca26"
            ],
            [
             1,
             "#f0f921"
            ]
           ]
          },
          "colorway": [
           "#636efa",
           "#EF553B",
           "#00cc96",
           "#ab63fa",
           "#FFA15A",
           "#19d3f3",
           "#FF6692",
           "#B6E880",
           "#FF97FF",
           "#FECB52"
          ],
          "font": {
           "color": "#2a3f5f"
          },
          "geo": {
           "bgcolor": "white",
           "lakecolor": "white",
           "landcolor": "#E5ECF6",
           "showlakes": true,
           "showland": true,
           "subunitcolor": "white"
          },
          "hoverlabel": {
           "align": "left"
          },
          "hovermode": "closest",
          "mapbox": {
           "style": "light"
          },
          "paper_bgcolor": "white",
          "plot_bgcolor": "#E5ECF6",
          "polar": {
           "angularaxis": {
            "gridcolor": "white",
            "linecolor": "white",
            "ticks": ""
           },
           "bgcolor": "#E5ECF6",
           "radialaxis": {
            "gridcolor": "white",
            "linecolor": "white",
            "ticks": ""
           }
          },
          "scene": {
           "xaxis": {
            "backgroundcolor": "#E5ECF6",
            "gridcolor": "white",
            "gridwidth": 2,
            "linecolor": "white",
            "showbackground": true,
            "ticks": "",
            "zerolinecolor": "white"
           },
           "yaxis": {
            "backgroundcolor": "#E5ECF6",
            "gridcolor": "white",
            "gridwidth": 2,
            "linecolor": "white",
            "showbackground": true,
            "ticks": "",
            "zerolinecolor": "white"
           },
           "zaxis": {
            "backgroundcolor": "#E5ECF6",
            "gridcolor": "white",
            "gridwidth": 2,
            "linecolor": "white",
            "showbackground": true,
            "ticks": "",
            "zerolinecolor": "white"
           }
          },
          "shapedefaults": {
           "line": {
            "color": "#2a3f5f"
           }
          },
          "ternary": {
           "aaxis": {
            "gridcolor": "white",
            "linecolor": "white",
            "ticks": ""
           },
           "baxis": {
            "gridcolor": "white",
            "linecolor": "white",
            "ticks": ""
           },
           "bgcolor": "#E5ECF6",
           "caxis": {
            "gridcolor": "white",
            "linecolor": "white",
            "ticks": ""
           }
          },
          "title": {
           "x": 0.05
          },
          "xaxis": {
           "automargin": true,
           "gridcolor": "white",
           "linecolor": "white",
           "ticks": "",
           "title": {
            "standoff": 15
           },
           "zerolinecolor": "white",
           "zerolinewidth": 2
          },
          "yaxis": {
           "automargin": true,
           "gridcolor": "white",
           "linecolor": "white",
           "ticks": "",
           "title": {
            "standoff": 15
           },
           "zerolinecolor": "white",
           "zerolinewidth": 2
          }
         }
        },
        "title": {
         "text": "Refinery inputs over the years"
        },
        "xaxis": {
         "anchor": "y",
         "domain": [
          0,
          0.94
         ]
        },
        "yaxis": {
         "anchor": "x",
         "domain": [
          0,
          1
         ],
         "title": {
          "text": "U.S. wide refining input, million bbl/day"
         }
        },
        "yaxis2": {
         "anchor": "x",
         "overlaying": "y",
         "side": "right"
        }
       }
      },
      "text/html": [
       "<div>\n",
       "        \n",
       "        \n",
       "            <div id=\"9921dbe0-4cad-4655-b857-0e1e72115995\" class=\"plotly-graph-div\" style=\"height:525px; width:100%;\"></div>\n",
       "            <script type=\"text/javascript\">\n",
       "                require([\"plotly\"], function(Plotly) {\n",
       "                    window.PLOTLYENV=window.PLOTLYENV || {};\n",
       "                    \n",
       "                if (document.getElementById(\"9921dbe0-4cad-4655-b857-0e1e72115995\")) {\n",
       "                    Plotly.newPlot(\n",
       "                        '9921dbe0-4cad-4655-b857-0e1e72115995',\n",
       "                        [{\"name\": \"U.S. wide - million bbl/day\", \"type\": \"scatter\", \"x\": [\"Jan-1985\", \"Feb-1985\", \"Mar-1985\", \"Apr-1985\", \"May-1985\", \"Jun-1985\", \"Jul-1985\", \"Aug-1985\", \"Sep-1985\", \"Oct-1985\", \"Nov-1985\", \"Dec-1985\", \"Jan-1986\", \"Feb-1986\", \"Mar-1986\", \"Apr-1986\", \"May-1986\", \"Jun-1986\", \"Jul-1986\", \"Aug-1986\", \"Sep-1986\", \"Oct-1986\", \"Nov-1986\", \"Dec-1986\", \"Jan-1987\", \"Feb-1987\", \"Mar-1987\", \"Apr-1987\", \"May-1987\", \"Jun-1987\", \"Jul-1987\", \"Aug-1987\", \"Sep-1987\", \"Oct-1987\", \"Nov-1987\", \"Dec-1987\", \"Jan-1988\", \"Feb-1988\", \"Mar-1988\", \"Apr-1988\", \"May-1988\", \"Jun-1988\", \"Jul-1988\", \"Aug-1988\", \"Sep-1988\", \"Oct-1988\", \"Nov-1988\", \"Dec-1988\", \"Jan-1989\", \"Feb-1989\", \"Mar-1989\", \"Apr-1989\", \"May-1989\", \"Jun-1989\", \"Jul-1989\", \"Aug-1989\", \"Sep-1989\", \"Oct-1989\", \"Nov-1989\", \"Dec-1989\", \"Jan-1990\", \"Feb-1990\", \"Mar-1990\", \"Apr-1990\", \"May-1990\", \"Jun-1990\", \"Jul-1990\", \"Aug-1990\", \"Sep-1990\", \"Oct-1990\", \"Nov-1990\", \"Dec-1990\", \"Jan-1991\", \"Feb-1991\", \"Mar-1991\", \"Apr-1991\", \"May-1991\", \"Jun-1991\", \"Jul-1991\", \"Aug-1991\", \"Sep-1991\", \"Oct-1991\", \"Nov-1991\", \"Dec-1991\", \"Jan-1992\", \"Feb-1992\", \"Mar-1992\", \"Apr-1992\", \"May-1992\", \"Jun-1992\", \"Jul-1992\", \"Aug-1992\", \"Sep-1992\", \"Oct-1992\", \"Nov-1992\", \"Dec-1992\", \"Jan-1993\", \"Feb-1993\", \"Mar-1993\", \"Apr-1993\", \"May-1993\", \"Jun-1993\", \"Jul-1993\", \"Aug-1993\", \"Sep-1993\", \"Oct-1993\", \"Nov-1993\", \"Dec-1993\", \"Jan-1994\", \"Feb-1994\", \"Mar-1994\", \"Apr-1994\", \"May-1994\", \"Jun-1994\", \"Jul-1994\", \"Aug-1994\", \"Sep-1994\", \"Oct-1994\", \"Nov-1994\", \"Dec-1994\", \"Jan-1995\", \"Feb-1995\", \"Mar-1995\", \"Apr-1995\", \"May-1995\", \"Jun-1995\", \"Jul-1995\", \"Aug-1995\", \"Sep-1995\", \"Oct-1995\", \"Nov-1995\", \"Dec-1995\", \"Jan-1996\", \"Feb-1996\", \"Mar-1996\", \"Apr-1996\", \"May-1996\", \"Jun-1996\", \"Jul-1996\", \"Aug-1996\", \"Sep-1996\", \"Oct-1996\", \"Nov-1996\", \"Dec-1996\", \"Jan-1997\", \"Feb-1997\", \"Mar-1997\", \"Apr-1997\", \"May-1997\", \"Jun-1997\", \"Jul-1997\", \"Aug-1997\", \"Sep-1997\", \"Oct-1997\", \"Nov-1997\", \"Dec-1997\", \"Jan-1998\", \"Feb-1998\", \"Mar-1998\", \"Apr-1998\", \"May-1998\", \"Jun-1998\", \"Jul-1998\", \"Aug-1998\", \"Sep-1998\", \"Oct-1998\", \"Nov-1998\", \"Dec-1998\", \"Jan-1999\", \"Feb-1999\", \"Mar-1999\", \"Apr-1999\", \"May-1999\", \"Jun-1999\", \"Jul-1999\", \"Aug-1999\", \"Sep-1999\", \"Oct-1999\", \"Nov-1999\", \"Dec-1999\", \"Jan-2000\", \"Feb-2000\", \"Mar-2000\", \"Apr-2000\", \"May-2000\", \"Jun-2000\", \"Jul-2000\", \"Aug-2000\", \"Sep-2000\", \"Oct-2000\", \"Nov-2000\", \"Dec-2000\", \"Jan-2001\", \"Feb-2001\", \"Mar-2001\", \"Apr-2001\", \"May-2001\", \"Jun-2001\", \"Jul-2001\", \"Aug-2001\", \"Sep-2001\", \"Oct-2001\", \"Nov-2001\", \"Dec-2001\", \"Jan-2002\", \"Feb-2002\", \"Mar-2002\", \"Apr-2002\", \"May-2002\", \"Jun-2002\", \"Jul-2002\", \"Aug-2002\", \"Sep-2002\", \"Oct-2002\", \"Nov-2002\", \"Dec-2002\", \"Jan-2003\", \"Feb-2003\", \"Mar-2003\", \"Apr-2003\", \"May-2003\", \"Jun-2003\", \"Jul-2003\", \"Aug-2003\", \"Sep-2003\", \"Oct-2003\", \"Nov-2003\", \"Dec-2003\", \"Jan-2004\", \"Feb-2004\", \"Mar-2004\", \"Apr-2004\", \"May-2004\", \"Jun-2004\", \"Jul-2004\", \"Aug-2004\", \"Sep-2004\", \"Oct-2004\", \"Nov-2004\", \"Dec-2004\", \"Jan-2005\", \"Feb-2005\", \"Mar-2005\", \"Apr-2005\", \"May-2005\", \"Jun-2005\", \"Jul-2005\", \"Aug-2005\", \"Sep-2005\", \"Oct-2005\", \"Nov-2005\", \"Dec-2005\", \"Jan-2006\", \"Feb-2006\", \"Mar-2006\", \"Apr-2006\", \"May-2006\", \"Jun-2006\", \"Jul-2006\", \"Aug-2006\", \"Sep-2006\", \"Oct-2006\", \"Nov-2006\", \"Dec-2006\", \"Jan-2007\", \"Feb-2007\", \"Mar-2007\", \"Apr-2007\", \"May-2007\", \"Jun-2007\", \"Jul-2007\", \"Aug-2007\", \"Sep-2007\", \"Oct-2007\", \"Nov-2007\", \"Dec-2007\", \"Jan-2008\", \"Feb-2008\", \"Mar-2008\", \"Apr-2008\", \"May-2008\", \"Jun-2008\", \"Jul-2008\", \"Aug-2008\", \"Sep-2008\", \"Oct-2008\", \"Nov-2008\", \"Dec-2008\", \"Jan-2009\", \"Feb-2009\", \"Mar-2009\", \"Apr-2009\", \"May-2009\", \"Jun-2009\", \"Jul-2009\", \"Aug-2009\", \"Sep-2009\", \"Oct-2009\", \"Nov-2009\", \"Dec-2009\", \"Jan-2010\", \"Feb-2010\", \"Mar-2010\", \"Apr-2010\", \"May-2010\", \"Jun-2010\", \"Jul-2010\", \"Aug-2010\", \"Sep-2010\", \"Oct-2010\", \"Nov-2010\", \"Dec-2010\", \"Jan-2011\", \"Feb-2011\", \"Mar-2011\", \"Apr-2011\", \"May-2011\", \"Jun-2011\", \"Jul-2011\", \"Aug-2011\", \"Sep-2011\", \"Oct-2011\", \"Nov-2011\", \"Dec-2011\", \"Jan-2012\", \"Feb-2012\", \"Mar-2012\", \"Apr-2012\", \"May-2012\", \"Jun-2012\", \"Jul-2012\", \"Aug-2012\", \"Sep-2012\", \"Oct-2012\", \"Nov-2012\", \"Dec-2012\", \"Jan-2013\", \"Feb-2013\", \"Mar-2013\", \"Apr-2013\", \"May-2013\", \"Jun-2013\", \"Jul-2013\", \"Aug-2013\", \"Sep-2013\", \"Oct-2013\", \"Nov-2013\", \"Dec-2013\", \"Jan-2014\", \"Feb-2014\", \"Mar-2014\", \"Apr-2014\", \"May-2014\", \"Jun-2014\", \"Jul-2014\", \"Aug-2014\", \"Sep-2014\", \"Oct-2014\", \"Nov-2014\", \"Dec-2014\", \"Jan-2015\", \"Feb-2015\", \"Mar-2015\", \"Apr-2015\", \"May-2015\", \"Jun-2015\", \"Jul-2015\", \"Aug-2015\", \"Sep-2015\", \"Oct-2015\", \"Nov-2015\", \"Dec-2015\", \"Jan-2016\", \"Feb-2016\", \"Mar-2016\", \"Apr-2016\", \"May-2016\", \"Jun-2016\", \"Jul-2016\", \"Aug-2016\", \"Sep-2016\", \"Oct-2016\", \"Nov-2016\", \"Dec-2016\", \"Jan-2017\", \"Feb-2017\", \"Mar-2017\", \"Apr-2017\", \"May-2017\", \"Jun-2017\", \"Jul-2017\", \"Aug-2017\", \"Sep-2017\", \"Oct-2017\", \"Nov-2017\", \"Dec-2017\", \"Jan-2018\", \"Feb-2018\", \"Mar-2018\", \"Apr-2018\", \"May-2018\", \"Jun-2018\", \"Jul-2018\", \"Aug-2018\", \"Sep-2018\", \"Oct-2018\", \"Nov-2018\", \"Dec-2018\", \"Jan-2019\", \"Feb-2019\", \"Mar-2019\", \"Apr-2019\", \"May-2019\", \"Jun-2019\", \"Jul-2019\", \"Aug-2019\", \"Sep-2019\", \"Oct-2019\", \"Nov-2019\", \"Dec-2019\", \"Jan-2020\", \"Feb-2020\"], \"y\": [11.583, 11.485, 11.484, 11.969, 12.269, 12.422, 12.663, 12.222, 12.096, 12.363, 12.629, 12.744, 12.583, 12.068, 11.759, 12.603, 13.314, 13.347, 13.009, 13.392, 13.191, 12.753, 12.928, 12.914, 12.725, 12.417, 12.237, 12.637, 12.848, 13.306, 13.612, 13.527, 13.328, 12.896, 13.074, 13.383, 13.175, 12.889, 13.241, 13.346, 13.638, 13.71, 13.804, 13.953, 13.356, 13.304, 13.354, 13.554, 13.502, 12.974, 13.131, 13.123, 13.566, 14.067, 13.957, 14.024, 13.898, 13.533, 13.549, 13.244, 13.668, 13.695, 13.08, 13.25, 13.576, 13.893, 14.414, 14.234, 14.298, 13.076, 13.187, 12.961, 12.931, 13.224, 13.051, 13.283, 13.748, 14.128, 13.941, 14.005, 13.883, 13.118, 13.156, 13.614, 13.097, 12.742, 13.292, 13.356, 13.85, 14.285, 14.176, 13.649, 13.886, 13.651, 13.795, 13.4, 13.123, 13.097, 13.507, 13.819, 14.062, 14.415, 14.458, 14.04, 14.045, 13.902, 13.928, 13.768, 13.526, 13.336, 13.158, 14.009, 14.467, 14.519, 14.48, 14.618, 14.36, 13.66, 14.101, 14.107, 13.83, 13.567, 13.383, 13.974, 14.457, 14.714, 14.461, 14.473, 14.592, 13.748, 14.002, 14.196, 13.894, 13.679, 13.941, 14.432, 14.538, 14.681, 14.478, 14.538, 14.637, 14.442, 14.379, 14.391, 13.771, 13.601, 14.156, 14.465, 15.232, 15.3, 15.19, 15.465, 15.533, 15.127, 14.939, 15.188, 14.661, 14.262, 14.901, 15.301, 15.464, 15.671, 15.705, 15.806, 15.04, 14.222, 15.095, 15.169, 14.694, 14.623, 14.783, 15.386, 15.282, 15.21, 15.454, 15.559, 15.353, 14.86, 15.026, 14.706, 14.156, 14.26, 14.806, 15.281, 15.625, 15.867, 15.975, 15.856, 15.582, 15.267, 15.325, 15.546, 14.94, 15.0, 14.857, 15.768, 16.018, 15.897, 15.638, 15.543, 15.23, 15.196, 15.231, 14.899, 14.693, 14.51, 14.724, 15.586, 15.329, 15.61, 15.666, 15.572, 15.149, 14.614, 15.463, 15.218, 14.611, 14.64, 15.159, 15.754, 16.038, 15.851, 15.745, 15.911, 15.59, 15.48, 15.679, 15.577, 15.092, 15.056, 15.027, 15.702, 16.234, 16.552, 16.436, 16.494, 15.302, 15.314, 16.023, 16.135, 15.632, 15.511, 15.541, 15.899, 16.242, 16.73, 16.237, 15.969, 14.396, 14.007, 15.378, 15.395, 15.085, 15.0, 14.914, 15.303, 15.862, 16.171, 16.091, 16.206, 16.177, 15.293, 15.311, 15.766, 15.381, 14.773, 15.185, 15.371, 15.651, 15.444, 15.922, 15.859, 15.513, 15.249, 15.506, 15.477, 15.087, 14.948, 14.637, 15.157, 15.629, 15.768, 15.638, 15.343, 13.139, 15.037, 15.115, 14.787, 14.538, 14.409, 14.399, 14.61, 14.838, 15.194, 14.891, 14.87, 15.017, 14.419, 14.338, 14.374, 14.065, 14.267, 14.63, 15.592, 15.51, 15.893, 16.04, 15.681, 15.213, 14.466, 15.166, 15.555, 15.035, 14.195, 14.963, 14.71, 15.129, 15.778, 16.001, 16.009, 15.735, 15.05, 15.426, 15.341, 14.865, 15.019, 14.783, 14.952, 15.657, 15.983, 15.991, 15.679, 15.248, 15.153, 15.416, 15.717, 14.934, 14.542, 14.907, 15.282, 15.714, 16.313, 16.483, 16.291, 16.157, 15.475, 16.135, 16.377, 15.649, 15.518, 15.39, 16.264, 16.197, 16.087, 16.88, 16.707, 16.358, 15.66, 16.367, 16.751, 15.767, 15.635, 15.878, 16.521, 16.612, 16.924, 17.185, 16.962, 16.427, 15.691, 16.683, 16.842, 16.297, 16.179, 16.287, 16.223, 16.477, 16.803, 17.0, 16.976, 16.687, 15.783, 16.545, 16.896, 16.462, 15.827, 16.421, 17.276, 17.514, 17.527, 17.659, 17.243, 15.788, 16.343, 17.127, 17.562, 16.917, 16.36, 16.945, 17.101, 17.341, 18.041, 17.688, 17.969, 17.383, 16.735, 17.5, 17.749, 17.098, 16.106, 16.188, 16.691, 17.041, 17.702, 17.698, 17.847, 16.738, 16.136, 17.058, 17.406, 16.857, 16.442]}, {\"name\": \"PADD 3 - kbd\", \"type\": \"scatter\", \"x\": [\"Jan-1985\", \"Feb-1985\", \"Mar-1985\", \"Apr-1985\", \"May-1985\", \"Jun-1985\", \"Jul-1985\", \"Aug-1985\", \"Sep-1985\", \"Oct-1985\", \"Nov-1985\", \"Dec-1985\", \"Jan-1986\", \"Feb-1986\", \"Mar-1986\", \"Apr-1986\", \"May-1986\", \"Jun-1986\", \"Jul-1986\", \"Aug-1986\", \"Sep-1986\", \"Oct-1986\", \"Nov-1986\", \"Dec-1986\", \"Jan-1987\", \"Feb-1987\", \"Mar-1987\", \"Apr-1987\", \"May-1987\", \"Jun-1987\", \"Jul-1987\", \"Aug-1987\", \"Sep-1987\", \"Oct-1987\", \"Nov-1987\", \"Dec-1987\", \"Jan-1988\", \"Feb-1988\", \"Mar-1988\", \"Apr-1988\", \"May-1988\", \"Jun-1988\", \"Jul-1988\", \"Aug-1988\", \"Sep-1988\", \"Oct-1988\", \"Nov-1988\", \"Dec-1988\", \"Jan-1989\", \"Feb-1989\", \"Mar-1989\", \"Apr-1989\", \"May-1989\", \"Jun-1989\", \"Jul-1989\", \"Aug-1989\", \"Sep-1989\", \"Oct-1989\", \"Nov-1989\", \"Dec-1989\", \"Jan-1990\", \"Feb-1990\", \"Mar-1990\", \"Apr-1990\", \"May-1990\", \"Jun-1990\", \"Jul-1990\", \"Aug-1990\", \"Sep-1990\", \"Oct-1990\", \"Nov-1990\", \"Dec-1990\", \"Jan-1991\", \"Feb-1991\", \"Mar-1991\", \"Apr-1991\", \"May-1991\", \"Jun-1991\", \"Jul-1991\", \"Aug-1991\", \"Sep-1991\", \"Oct-1991\", \"Nov-1991\", \"Dec-1991\", \"Jan-1992\", \"Feb-1992\", \"Mar-1992\", \"Apr-1992\", \"May-1992\", \"Jun-1992\", \"Jul-1992\", \"Aug-1992\", \"Sep-1992\", \"Oct-1992\", \"Nov-1992\", \"Dec-1992\", \"Jan-1993\", \"Feb-1993\", \"Mar-1993\", \"Apr-1993\", \"May-1993\", \"Jun-1993\", \"Jul-1993\", \"Aug-1993\", \"Sep-1993\", \"Oct-1993\", \"Nov-1993\", \"Dec-1993\", \"Jan-1994\", \"Feb-1994\", \"Mar-1994\", \"Apr-1994\", \"May-1994\", \"Jun-1994\", \"Jul-1994\", \"Aug-1994\", \"Sep-1994\", \"Oct-1994\", \"Nov-1994\", \"Dec-1994\", \"Jan-1995\", \"Feb-1995\", \"Mar-1995\", \"Apr-1995\", \"May-1995\", \"Jun-1995\", \"Jul-1995\", \"Aug-1995\", \"Sep-1995\", \"Oct-1995\", \"Nov-1995\", \"Dec-1995\", \"Jan-1996\", \"Feb-1996\", \"Mar-1996\", \"Apr-1996\", \"May-1996\", \"Jun-1996\", \"Jul-1996\", \"Aug-1996\", \"Sep-1996\", \"Oct-1996\", \"Nov-1996\", \"Dec-1996\", \"Jan-1997\", \"Feb-1997\", \"Mar-1997\", \"Apr-1997\", \"May-1997\", \"Jun-1997\", \"Jul-1997\", \"Aug-1997\", \"Sep-1997\", \"Oct-1997\", \"Nov-1997\", \"Dec-1997\", \"Jan-1998\", \"Feb-1998\", \"Mar-1998\", \"Apr-1998\", \"May-1998\", \"Jun-1998\", \"Jul-1998\", \"Aug-1998\", \"Sep-1998\", \"Oct-1998\", \"Nov-1998\", \"Dec-1998\", \"Jan-1999\", \"Feb-1999\", \"Mar-1999\", \"Apr-1999\", \"May-1999\", \"Jun-1999\", \"Jul-1999\", \"Aug-1999\", \"Sep-1999\", \"Oct-1999\", \"Nov-1999\", \"Dec-1999\", \"Jan-2000\", \"Feb-2000\", \"Mar-2000\", \"Apr-2000\", \"May-2000\", \"Jun-2000\", \"Jul-2000\", \"Aug-2000\", \"Sep-2000\", \"Oct-2000\", \"Nov-2000\", \"Dec-2000\", \"Jan-2001\", \"Feb-2001\", \"Mar-2001\", \"Apr-2001\", \"May-2001\", \"Jun-2001\", \"Jul-2001\", \"Aug-2001\", \"Sep-2001\", \"Oct-2001\", \"Nov-2001\", \"Dec-2001\", \"Jan-2002\", \"Feb-2002\", \"Mar-2002\", \"Apr-2002\", \"May-2002\", \"Jun-2002\", \"Jul-2002\", \"Aug-2002\", \"Sep-2002\", \"Oct-2002\", \"Nov-2002\", \"Dec-2002\", \"Jan-2003\", \"Feb-2003\", \"Mar-2003\", \"Apr-2003\", \"May-2003\", \"Jun-2003\", \"Jul-2003\", \"Aug-2003\", \"Sep-2003\", \"Oct-2003\", \"Nov-2003\", \"Dec-2003\", \"Jan-2004\", \"Feb-2004\", \"Mar-2004\", \"Apr-2004\", \"May-2004\", \"Jun-2004\", \"Jul-2004\", \"Aug-2004\", \"Sep-2004\", \"Oct-2004\", \"Nov-2004\", \"Dec-2004\", \"Jan-2005\", \"Feb-2005\", \"Mar-2005\", \"Apr-2005\", \"May-2005\", \"Jun-2005\", \"Jul-2005\", \"Aug-2005\", \"Sep-2005\", \"Oct-2005\", \"Nov-2005\", \"Dec-2005\", \"Jan-2006\", \"Feb-2006\", \"Mar-2006\", \"Apr-2006\", \"May-2006\", \"Jun-2006\", \"Jul-2006\", \"Aug-2006\", \"Sep-2006\", \"Oct-2006\", \"Nov-2006\", \"Dec-2006\", \"Jan-2007\", \"Feb-2007\", \"Mar-2007\", \"Apr-2007\", \"May-2007\", \"Jun-2007\", \"Jul-2007\", \"Aug-2007\", \"Sep-2007\", \"Oct-2007\", \"Nov-2007\", \"Dec-2007\", \"Jan-2008\", \"Feb-2008\", \"Mar-2008\", \"Apr-2008\", \"May-2008\", \"Jun-2008\", \"Jul-2008\", \"Aug-2008\", \"Sep-2008\", \"Oct-2008\", \"Nov-2008\", \"Dec-2008\", \"Jan-2009\", \"Feb-2009\", \"Mar-2009\", \"Apr-2009\", \"May-2009\", \"Jun-2009\", \"Jul-2009\", \"Aug-2009\", \"Sep-2009\", \"Oct-2009\", \"Nov-2009\", \"Dec-2009\", \"Jan-2010\", \"Feb-2010\", \"Mar-2010\", \"Apr-2010\", \"May-2010\", \"Jun-2010\", \"Jul-2010\", \"Aug-2010\", \"Sep-2010\", \"Oct-2010\", \"Nov-2010\", \"Dec-2010\", \"Jan-2011\", \"Feb-2011\", \"Mar-2011\", \"Apr-2011\", \"May-2011\", \"Jun-2011\", \"Jul-2011\", \"Aug-2011\", \"Sep-2011\", \"Oct-2011\", \"Nov-2011\", \"Dec-2011\", \"Jan-2012\", \"Feb-2012\", \"Mar-2012\", \"Apr-2012\", \"May-2012\", \"Jun-2012\", \"Jul-2012\", \"Aug-2012\", \"Sep-2012\", \"Oct-2012\", \"Nov-2012\", \"Dec-2012\", \"Jan-2013\", \"Feb-2013\", \"Mar-2013\", \"Apr-2013\", \"May-2013\", \"Jun-2013\", \"Jul-2013\", \"Aug-2013\", \"Sep-2013\", \"Oct-2013\", \"Nov-2013\", \"Dec-2013\", \"Jan-2014\", \"Feb-2014\", \"Mar-2014\", \"Apr-2014\", \"May-2014\", \"Jun-2014\", \"Jul-2014\", \"Aug-2014\", \"Sep-2014\", \"Oct-2014\", \"Nov-2014\", \"Dec-2014\", \"Jan-2015\", \"Feb-2015\", \"Mar-2015\", \"Apr-2015\", \"May-2015\", \"Jun-2015\", \"Jul-2015\", \"Aug-2015\", \"Sep-2015\", \"Oct-2015\", \"Nov-2015\", \"Dec-2015\", \"Jan-2016\", \"Feb-2016\", \"Mar-2016\", \"Apr-2016\", \"May-2016\", \"Jun-2016\", \"Jul-2016\", \"Aug-2016\", \"Sep-2016\", \"Oct-2016\", \"Nov-2016\", \"Dec-2016\", \"Jan-2017\", \"Feb-2017\", \"Mar-2017\", \"Apr-2017\", \"May-2017\", \"Jun-2017\", \"Jul-2017\", \"Aug-2017\", \"Sep-2017\", \"Oct-2017\", \"Nov-2017\", \"Dec-2017\", \"Jan-2018\", \"Feb-2018\", \"Mar-2018\", \"Apr-2018\", \"May-2018\", \"Jun-2018\", \"Jul-2018\", \"Aug-2018\", \"Sep-2018\", \"Oct-2018\", \"Nov-2018\", \"Dec-2018\", \"Jan-2019\", \"Feb-2019\", \"Mar-2019\", \"Apr-2019\", \"May-2019\", \"Jun-2019\", \"Jul-2019\", \"Aug-2019\", \"Sep-2019\", \"Oct-2019\", \"Nov-2019\", \"Dec-2019\", \"Jan-2020\", \"Feb-2020\"], \"xaxis\": \"x\", \"y\": [5230.0, 5330.0, 5251.0, 5531.0, 5668.0, 5548.0, 5709.0, 5372.0, 5416.0, 5663.0, 5887.0, 6042.0, 5846.0, 5706.0, 5279.0, 5949.0, 6255.0, 6125.0, 5885.0, 6106.0, 6114.0, 5838.0, 5995.0, 6074.0, 5977.0, 5595.0, 5647.0, 5449.0, 5725.0, 6034.0, 6167.0, 6054.0, 6028.0, 6019.0, 6123.0, 6220.0, 6066.0, 5859.0, 6088.0, 6153.0, 6258.0, 6148.0, 6149.0, 6213.0, 5873.0, 6147.0, 6094.0, 6040.0, 6138.0, 5874.0, 6079.0, 6241.0, 6454.0, 6399.0, 6267.0, 6260.0, 6268.0, 6320.0, 6332.0, 5885.0, 6087.0, 6111.0, 5711.0, 5992.0, 6250.0, 6359.0, 6503.0, 6407.0, 6255.0, 5935.0, 6056.0, 5903.0, 5898.0, 5984.0, 5864.0, 5895.0, 6021.0, 6192.0, 6142.0, 6294.0, 6136.0, 6005.0, 5986.0, 6244.0, 5866.0, 5583.0, 6121.0, 6192.0, 6224.0, 6457.0, 6340.0, 6000.0, 6282.0, 6166.0, 6309.0, 6174.0, 6026.0, 6116.0, 6186.0, 6306.0, 6279.0, 6437.0, 6527.0, 6300.0, 6221.0, 6118.0, 6210.0, 6280.0, 6178.0, 5998.0, 6040.0, 6463.0, 6612.0, 6516.0, 6546.0, 6694.0, 6590.0, 6165.0, 6340.0, 6464.0, 6259.0, 6103.0, 6107.0, 6462.0, 6569.0, 6683.0, 6515.0, 6396.0, 6598.0, 6263.0, 6447.0, 6546.0, 6359.0, 6330.0, 6425.0, 6807.0, 6821.0, 6843.0, 6708.0, 6699.0, 6712.0, 6689.0, 6698.0, 6776.0, 6409.0, 6178.0, 6688.0, 6812.0, 6984.0, 7017.0, 6887.0, 7024.0, 7115.0, 6959.0, 7008.0, 7087.0, 6573.0, 6314.0, 6944.0, 7175.0, 7152.0, 7251.0, 7322.0, 7380.0, 6852.0, 6429.0, 6883.0, 7108.0, 6728.0, 6795.0, 7114.0, 7305.0, 7150.0, 7066.0, 7098.0, 7077.0, 7181.0, 6872.0, 6994.0, 6913.0, 6537.0, 6633.0, 6910.0, 7031.0, 7167.0, 7224.0, 7355.0, 7316.0, 7265.0, 7202.0, 7247.0, 7396.0, 7002.0, 6946.0, 6968.0, 7577.0, 7562.0, 7396.0, 7214.0, 7380.0, 7271.0, 7306.0, 7347.0, 7263.0, 7161.0, 6966.0, 6953.0, 7273.0, 7094.0, 7174.0, 7174.0, 7097.0, 6797.0, 6713.0, 7398.0, 7324.0, 6754.0, 6863.0, 7192.0, 7530.0, 7597.0, 7256.0, 7280.0, 7432.0, 7387.0, 7323.0, 7441.0, 7479.0, 7058.0, 6826.0, 7164.0, 7418.0, 7807.0, 7900.0, 7827.0, 7895.0, 7251.0, 7283.0, 7693.0, 7775.0, 7385.0, 7503.0, 7573.0, 7651.0, 7730.0, 8049.0, 7683.0, 7622.0, 5760.0, 5675.0, 6831.0, 6999.0, 6698.0, 6972.0, 7022.0, 7260.0, 7538.0, 7641.0, 7752.0, 7668.0, 7719.0, 7318.0, 7346.0, 7543.0, 7266.0, 7080.0, 7592.0, 7321.0, 7396.0, 7368.0, 7732.0, 7604.0, 7373.0, 7359.0, 7384.0, 7309.0, 7002.0, 7034.0, 7100.0, 7291.0, 7521.0, 7516.0, 7521.0, 7203.0, 5034.0, 6952.0, 7105.0, 7126.0, 6910.0, 6816.0, 7193.0, 7298.0, 7173.0, 7262.0, 7144.0, 7375.0, 7275.0, 7039.0, 7091.0, 6996.0, 6760.0, 6782.0, 7418.0, 8071.0, 7884.0, 7942.0, 8054.0, 7889.0, 7605.0, 7455.0, 7769.0, 8018.0, 7685.0, 6853.0, 7560.0, 7465.0, 7641.0, 7935.0, 7897.0, 8116.0, 7764.0, 7611.0, 7882.0, 7757.0, 7385.0, 7573.0, 7545.0, 7569.0, 8176.0, 8221.0, 8180.0, 7976.0, 7757.0, 7774.0, 8198.0, 8271.0, 7585.0, 7251.0, 7666.0, 8049.0, 8406.0, 8587.0, 8657.0, 8406.0, 8380.0, 7917.0, 8378.0, 8508.0, 8055.0, 7912.0, 8001.0, 8525.0, 8339.0, 8236.0, 8813.0, 8803.0, 8479.0, 8153.0, 8597.0, 8735.0, 8171.0, 8175.0, 8260.0, 8665.0, 8748.0, 8904.0, 8896.0, 8835.0, 8612.0, 8395.0, 8773.0, 8958.0, 8322.0, 8441.0, 8716.0, 8630.0, 8692.0, 8765.0, 8881.0, 8805.0, 8696.0, 8281.0, 8782.0, 9083.0, 8545.0, 8342.0, 8707.0, 9089.0, 9458.0, 9342.0, 9434.0, 8740.0, 7624.0, 8791.0, 9078.0, 9354.0, 8940.0, 8535.0, 9014.0, 9058.0, 9082.0, 9487.0, 9266.0, 9517.0, 9347.0, 9444.0, 9433.0, 9557.0, 9025.0, 8694.0, 8622.0, 8977.0, 9246.0, 9411.0, 9359.0, 9479.0, 8990.0, 8641.0, 9214.0, 9426.0, 9139.0, 8772.0], \"yaxis\": \"y2\"}, {\"name\": \"PADD 5 - kbd\", \"type\": \"scatter\", \"x\": [\"Jan-1985\", \"Feb-1985\", \"Mar-1985\", \"Apr-1985\", \"May-1985\", \"Jun-1985\", \"Jul-1985\", \"Aug-1985\", \"Sep-1985\", \"Oct-1985\", \"Nov-1985\", \"Dec-1985\", \"Jan-1986\", \"Feb-1986\", \"Mar-1986\", \"Apr-1986\", \"May-1986\", \"Jun-1986\", \"Jul-1986\", \"Aug-1986\", \"Sep-1986\", \"Oct-1986\", \"Nov-1986\", \"Dec-1986\", \"Jan-1987\", \"Feb-1987\", \"Mar-1987\", \"Apr-1987\", \"May-1987\", \"Jun-1987\", \"Jul-1987\", \"Aug-1987\", \"Sep-1987\", \"Oct-1987\", \"Nov-1987\", \"Dec-1987\", \"Jan-1988\", \"Feb-1988\", \"Mar-1988\", \"Apr-1988\", \"May-1988\", \"Jun-1988\", \"Jul-1988\", \"Aug-1988\", \"Sep-1988\", \"Oct-1988\", \"Nov-1988\", \"Dec-1988\", \"Jan-1989\", \"Feb-1989\", \"Mar-1989\", \"Apr-1989\", \"May-1989\", \"Jun-1989\", \"Jul-1989\", \"Aug-1989\", \"Sep-1989\", \"Oct-1989\", \"Nov-1989\", \"Dec-1989\", \"Jan-1990\", \"Feb-1990\", \"Mar-1990\", \"Apr-1990\", \"May-1990\", \"Jun-1990\", \"Jul-1990\", \"Aug-1990\", \"Sep-1990\", \"Oct-1990\", \"Nov-1990\", \"Dec-1990\", \"Jan-1991\", \"Feb-1991\", \"Mar-1991\", \"Apr-1991\", \"May-1991\", \"Jun-1991\", \"Jul-1991\", \"Aug-1991\", \"Sep-1991\", \"Oct-1991\", \"Nov-1991\", \"Dec-1991\", \"Jan-1992\", \"Feb-1992\", \"Mar-1992\", \"Apr-1992\", \"May-1992\", \"Jun-1992\", \"Jul-1992\", \"Aug-1992\", \"Sep-1992\", \"Oct-1992\", \"Nov-1992\", \"Dec-1992\", \"Jan-1993\", \"Feb-1993\", \"Mar-1993\", \"Apr-1993\", \"May-1993\", \"Jun-1993\", \"Jul-1993\", \"Aug-1993\", \"Sep-1993\", \"Oct-1993\", \"Nov-1993\", \"Dec-1993\", \"Jan-1994\", \"Feb-1994\", \"Mar-1994\", \"Apr-1994\", \"May-1994\", \"Jun-1994\", \"Jul-1994\", \"Aug-1994\", \"Sep-1994\", \"Oct-1994\", \"Nov-1994\", \"Dec-1994\", \"Jan-1995\", \"Feb-1995\", \"Mar-1995\", \"Apr-1995\", \"May-1995\", \"Jun-1995\", \"Jul-1995\", \"Aug-1995\", \"Sep-1995\", \"Oct-1995\", \"Nov-1995\", \"Dec-1995\", \"Jan-1996\", \"Feb-1996\", \"Mar-1996\", \"Apr-1996\", \"May-1996\", \"Jun-1996\", \"Jul-1996\", \"Aug-1996\", \"Sep-1996\", \"Oct-1996\", \"Nov-1996\", \"Dec-1996\", \"Jan-1997\", \"Feb-1997\", \"Mar-1997\", \"Apr-1997\", \"May-1997\", \"Jun-1997\", \"Jul-1997\", \"Aug-1997\", \"Sep-1997\", \"Oct-1997\", \"Nov-1997\", \"Dec-1997\", \"Jan-1998\", \"Feb-1998\", \"Mar-1998\", \"Apr-1998\", \"May-1998\", \"Jun-1998\", \"Jul-1998\", \"Aug-1998\", \"Sep-1998\", \"Oct-1998\", \"Nov-1998\", \"Dec-1998\", \"Jan-1999\", \"Feb-1999\", \"Mar-1999\", \"Apr-1999\", \"May-1999\", \"Jun-1999\", \"Jul-1999\", \"Aug-1999\", \"Sep-1999\", \"Oct-1999\", \"Nov-1999\", \"Dec-1999\", \"Jan-2000\", \"Feb-2000\", \"Mar-2000\", \"Apr-2000\", \"May-2000\", \"Jun-2000\", \"Jul-2000\", \"Aug-2000\", \"Sep-2000\", \"Oct-2000\", \"Nov-2000\", \"Dec-2000\", \"Jan-2001\", \"Feb-2001\", \"Mar-2001\", \"Apr-2001\", \"May-2001\", \"Jun-2001\", \"Jul-2001\", \"Aug-2001\", \"Sep-2001\", \"Oct-2001\", \"Nov-2001\", \"Dec-2001\", \"Jan-2002\", \"Feb-2002\", \"Mar-2002\", \"Apr-2002\", \"May-2002\", \"Jun-2002\", \"Jul-2002\", \"Aug-2002\", \"Sep-2002\", \"Oct-2002\", \"Nov-2002\", \"Dec-2002\", \"Jan-2003\", \"Feb-2003\", \"Mar-2003\", \"Apr-2003\", \"May-2003\", \"Jun-2003\", \"Jul-2003\", \"Aug-2003\", \"Sep-2003\", \"Oct-2003\", \"Nov-2003\", \"Dec-2003\", \"Jan-2004\", \"Feb-2004\", \"Mar-2004\", \"Apr-2004\", \"May-2004\", \"Jun-2004\", \"Jul-2004\", \"Aug-2004\", \"Sep-2004\", \"Oct-2004\", \"Nov-2004\", \"Dec-2004\", \"Jan-2005\", \"Feb-2005\", \"Mar-2005\", \"Apr-2005\", \"May-2005\", \"Jun-2005\", \"Jul-2005\", \"Aug-2005\", \"Sep-2005\", \"Oct-2005\", \"Nov-2005\", \"Dec-2005\", \"Jan-2006\", \"Feb-2006\", \"Mar-2006\", \"Apr-2006\", \"May-2006\", \"Jun-2006\", \"Jul-2006\", \"Aug-2006\", \"Sep-2006\", \"Oct-2006\", \"Nov-2006\", \"Dec-2006\", \"Jan-2007\", \"Feb-2007\", \"Mar-2007\", \"Apr-2007\", \"May-2007\", \"Jun-2007\", \"Jul-2007\", \"Aug-2007\", \"Sep-2007\", \"Oct-2007\", \"Nov-2007\", \"Dec-2007\", \"Jan-2008\", \"Feb-2008\", \"Mar-2008\", \"Apr-2008\", \"May-2008\", \"Jun-2008\", \"Jul-2008\", \"Aug-2008\", \"Sep-2008\", \"Oct-2008\", \"Nov-2008\", \"Dec-2008\", \"Jan-2009\", \"Feb-2009\", \"Mar-2009\", \"Apr-2009\", \"May-2009\", \"Jun-2009\", \"Jul-2009\", \"Aug-2009\", \"Sep-2009\", \"Oct-2009\", \"Nov-2009\", \"Dec-2009\", \"Jan-2010\", \"Feb-2010\", \"Mar-2010\", \"Apr-2010\", \"May-2010\", \"Jun-2010\", \"Jul-2010\", \"Aug-2010\", \"Sep-2010\", \"Oct-2010\", \"Nov-2010\", \"Dec-2010\", \"Jan-2011\", \"Feb-2011\", \"Mar-2011\", \"Apr-2011\", \"May-2011\", \"Jun-2011\", \"Jul-2011\", \"Aug-2011\", \"Sep-2011\", \"Oct-2011\", \"Nov-2011\", \"Dec-2011\", \"Jan-2012\", \"Feb-2012\", \"Mar-2012\", \"Apr-2012\", \"May-2012\", \"Jun-2012\", \"Jul-2012\", \"Aug-2012\", \"Sep-2012\", \"Oct-2012\", \"Nov-2012\", \"Dec-2012\", \"Jan-2013\", \"Feb-2013\", \"Mar-2013\", \"Apr-2013\", \"May-2013\", \"Jun-2013\", \"Jul-2013\", \"Aug-2013\", \"Sep-2013\", \"Oct-2013\", \"Nov-2013\", \"Dec-2013\", \"Jan-2014\", \"Feb-2014\", \"Mar-2014\", \"Apr-2014\", \"May-2014\", \"Jun-2014\", \"Jul-2014\", \"Aug-2014\", \"Sep-2014\", \"Oct-2014\", \"Nov-2014\", \"Dec-2014\", \"Jan-2015\", \"Feb-2015\", \"Mar-2015\", \"Apr-2015\", \"May-2015\", \"Jun-2015\", \"Jul-2015\", \"Aug-2015\", \"Sep-2015\", \"Oct-2015\", \"Nov-2015\", \"Dec-2015\", \"Jan-2016\", \"Feb-2016\", \"Mar-2016\", \"Apr-2016\", \"May-2016\", \"Jun-2016\", \"Jul-2016\", \"Aug-2016\", \"Sep-2016\", \"Oct-2016\", \"Nov-2016\", \"Dec-2016\", \"Jan-2017\", \"Feb-2017\", \"Mar-2017\", \"Apr-2017\", \"May-2017\", \"Jun-2017\", \"Jul-2017\", \"Aug-2017\", \"Sep-2017\", \"Oct-2017\", \"Nov-2017\", \"Dec-2017\", \"Jan-2018\", \"Feb-2018\", \"Mar-2018\", \"Apr-2018\", \"May-2018\", \"Jun-2018\", \"Jul-2018\", \"Aug-2018\", \"Sep-2018\", \"Oct-2018\", \"Nov-2018\", \"Dec-2018\", \"Jan-2019\", \"Feb-2019\", \"Mar-2019\", \"Apr-2019\", \"May-2019\", \"Jun-2019\", \"Jul-2019\", \"Aug-2019\", \"Sep-2019\", \"Oct-2019\", \"Nov-2019\", \"Dec-2019\", \"Jan-2020\", \"Feb-2020\"], \"xaxis\": \"x\", \"y\": [5230.0, 5330.0, 5251.0, 5531.0, 5668.0, 5548.0, 5709.0, 5372.0, 5416.0, 5663.0, 5887.0, 6042.0, 5846.0, 5706.0, 5279.0, 5949.0, 6255.0, 6125.0, 5885.0, 6106.0, 6114.0, 5838.0, 5995.0, 6074.0, 5977.0, 5595.0, 5647.0, 5449.0, 5725.0, 6034.0, 6167.0, 6054.0, 6028.0, 6019.0, 6123.0, 6220.0, 6066.0, 5859.0, 6088.0, 6153.0, 6258.0, 6148.0, 6149.0, 6213.0, 5873.0, 6147.0, 6094.0, 6040.0, 6138.0, 5874.0, 6079.0, 6241.0, 6454.0, 6399.0, 6267.0, 6260.0, 6268.0, 6320.0, 6332.0, 5885.0, 6087.0, 6111.0, 5711.0, 5992.0, 6250.0, 6359.0, 6503.0, 6407.0, 6255.0, 5935.0, 6056.0, 5903.0, 5898.0, 5984.0, 5864.0, 5895.0, 6021.0, 6192.0, 6142.0, 6294.0, 6136.0, 6005.0, 5986.0, 6244.0, 5866.0, 5583.0, 6121.0, 6192.0, 6224.0, 6457.0, 6340.0, 6000.0, 6282.0, 6166.0, 6309.0, 6174.0, 6026.0, 6116.0, 6186.0, 6306.0, 6279.0, 6437.0, 6527.0, 6300.0, 6221.0, 6118.0, 6210.0, 6280.0, 6178.0, 5998.0, 6040.0, 6463.0, 6612.0, 6516.0, 6546.0, 6694.0, 6590.0, 6165.0, 6340.0, 6464.0, 6259.0, 6103.0, 6107.0, 6462.0, 6569.0, 6683.0, 6515.0, 6396.0, 6598.0, 6263.0, 6447.0, 6546.0, 6359.0, 6330.0, 6425.0, 6807.0, 6821.0, 6843.0, 6708.0, 6699.0, 6712.0, 6689.0, 6698.0, 6776.0, 6409.0, 6178.0, 6688.0, 6812.0, 6984.0, 7017.0, 6887.0, 7024.0, 7115.0, 6959.0, 7008.0, 7087.0, 6573.0, 6314.0, 6944.0, 7175.0, 7152.0, 7251.0, 7322.0, 7380.0, 6852.0, 6429.0, 6883.0, 7108.0, 6728.0, 6795.0, 7114.0, 7305.0, 7150.0, 7066.0, 7098.0, 7077.0, 7181.0, 6872.0, 6994.0, 6913.0, 6537.0, 6633.0, 6910.0, 7031.0, 7167.0, 7224.0, 7355.0, 7316.0, 7265.0, 7202.0, 7247.0, 7396.0, 7002.0, 6946.0, 6968.0, 7577.0, 7562.0, 7396.0, 7214.0, 7380.0, 7271.0, 7306.0, 7347.0, 7263.0, 7161.0, 6966.0, 6953.0, 7273.0, 7094.0, 7174.0, 7174.0, 7097.0, 6797.0, 6713.0, 7398.0, 7324.0, 6754.0, 6863.0, 7192.0, 7530.0, 7597.0, 7256.0, 7280.0, 7432.0, 7387.0, 7323.0, 7441.0, 7479.0, 7058.0, 6826.0, 7164.0, 7418.0, 7807.0, 7900.0, 7827.0, 7895.0, 7251.0, 7283.0, 7693.0, 7775.0, 7385.0, 7503.0, 7573.0, 7651.0, 7730.0, 8049.0, 7683.0, 7622.0, 5760.0, 5675.0, 6831.0, 6999.0, 6698.0, 6972.0, 7022.0, 7260.0, 7538.0, 7641.0, 7752.0, 7668.0, 7719.0, 7318.0, 7346.0, 7543.0, 7266.0, 7080.0, 7592.0, 7321.0, 7396.0, 7368.0, 7732.0, 7604.0, 7373.0, 7359.0, 7384.0, 7309.0, 7002.0, 7034.0, 7100.0, 7291.0, 7521.0, 7516.0, 7521.0, 7203.0, 5034.0, 6952.0, 7105.0, 7126.0, 6910.0, 6816.0, 7193.0, 7298.0, 7173.0, 7262.0, 7144.0, 7375.0, 7275.0, 7039.0, 7091.0, 6996.0, 6760.0, 6782.0, 7418.0, 8071.0, 7884.0, 7942.0, 8054.0, 7889.0, 7605.0, 7455.0, 7769.0, 8018.0, 7685.0, 6853.0, 7560.0, 7465.0, 7641.0, 7935.0, 7897.0, 8116.0, 7764.0, 7611.0, 7882.0, 7757.0, 7385.0, 7573.0, 7545.0, 7569.0, 8176.0, 8221.0, 8180.0, 7976.0, 7757.0, 7774.0, 8198.0, 8271.0, 7585.0, 7251.0, 7666.0, 8049.0, 8406.0, 8587.0, 8657.0, 8406.0, 8380.0, 7917.0, 8378.0, 8508.0, 8055.0, 7912.0, 8001.0, 8525.0, 8339.0, 8236.0, 8813.0, 8803.0, 8479.0, 8153.0, 8597.0, 8735.0, 8171.0, 8175.0, 8260.0, 8665.0, 8748.0, 8904.0, 8896.0, 8835.0, 8612.0, 8395.0, 8773.0, 8958.0, 8322.0, 8441.0, 8716.0, 8630.0, 8692.0, 8765.0, 8881.0, 8805.0, 8696.0, 8281.0, 8782.0, 9083.0, 8545.0, 8342.0, 8707.0, 9089.0, 9458.0, 9342.0, 9434.0, 8740.0, 7624.0, 8791.0, 9078.0, 9354.0, 8940.0, 8535.0, 9014.0, 9058.0, 9082.0, 9487.0, 9266.0, 9517.0, 9347.0, 9444.0, 9433.0, 9557.0, 9025.0, 8694.0, 8622.0, 8977.0, 9246.0, 9411.0, 9359.0, 9479.0, 8990.0, 8641.0, 9214.0, 9426.0, 9139.0, 8772.0], \"yaxis\": \"y2\"}],\n",
       "                        {\"template\": {\"data\": {\"bar\": [{\"error_x\": {\"color\": \"#2a3f5f\"}, \"error_y\": {\"color\": \"#2a3f5f\"}, \"marker\": {\"line\": {\"color\": \"#E5ECF6\", \"width\": 0.5}}, \"type\": \"bar\"}], \"barpolar\": [{\"marker\": {\"line\": {\"color\": \"#E5ECF6\", \"width\": 0.5}}, \"type\": \"barpolar\"}], \"carpet\": [{\"aaxis\": {\"endlinecolor\": \"#2a3f5f\", \"gridcolor\": \"white\", \"linecolor\": \"white\", \"minorgridcolor\": \"white\", \"startlinecolor\": \"#2a3f5f\"}, \"baxis\": {\"endlinecolor\": \"#2a3f5f\", \"gridcolor\": \"white\", \"linecolor\": \"white\", \"minorgridcolor\": \"white\", \"startlinecolor\": \"#2a3f5f\"}, \"type\": \"carpet\"}], \"choropleth\": [{\"colorbar\": {\"outlinewidth\": 0, \"ticks\": \"\"}, \"type\": \"choropleth\"}], \"contour\": [{\"colorbar\": {\"outlinewidth\": 0, \"ticks\": \"\"}, \"colorscale\": [[0.0, \"#0d0887\"], [0.1111111111111111, \"#46039f\"], [0.2222222222222222, \"#7201a8\"], [0.3333333333333333, \"#9c179e\"], [0.4444444444444444, \"#bd3786\"], [0.5555555555555556, \"#d8576b\"], [0.6666666666666666, \"#ed7953\"], [0.7777777777777778, \"#fb9f3a\"], [0.8888888888888888, \"#fdca26\"], [1.0, \"#f0f921\"]], \"type\": \"contour\"}], \"contourcarpet\": [{\"colorbar\": {\"outlinewidth\": 0, \"ticks\": \"\"}, \"type\": \"contourcarpet\"}], \"heatmap\": [{\"colorbar\": {\"outlinewidth\": 0, \"ticks\": \"\"}, \"colorscale\": [[0.0, \"#0d0887\"], [0.1111111111111111, \"#46039f\"], [0.2222222222222222, \"#7201a8\"], [0.3333333333333333, \"#9c179e\"], [0.4444444444444444, \"#bd3786\"], [0.5555555555555556, \"#d8576b\"], [0.6666666666666666, \"#ed7953\"], [0.7777777777777778, \"#fb9f3a\"], [0.8888888888888888, \"#fdca26\"], [1.0, \"#f0f921\"]], \"type\": \"heatmap\"}], \"heatmapgl\": [{\"colorbar\": {\"outlinewidth\": 0, \"ticks\": \"\"}, \"colorscale\": [[0.0, \"#0d0887\"], [0.1111111111111111, \"#46039f\"], [0.2222222222222222, \"#7201a8\"], [0.3333333333333333, \"#9c179e\"], [0.4444444444444444, \"#bd3786\"], [0.5555555555555556, \"#d8576b\"], [0.6666666666666666, \"#ed7953\"], [0.7777777777777778, \"#fb9f3a\"], [0.8888888888888888, \"#fdca26\"], [1.0, \"#f0f921\"]], \"type\": \"heatmapgl\"}], \"histogram\": [{\"marker\": {\"colorbar\": {\"outlinewidth\": 0, \"ticks\": \"\"}}, \"type\": \"histogram\"}], \"histogram2d\": [{\"colorbar\": {\"outlinewidth\": 0, \"ticks\": \"\"}, \"colorscale\": [[0.0, \"#0d0887\"], [0.1111111111111111, \"#46039f\"], [0.2222222222222222, \"#7201a8\"], [0.3333333333333333, \"#9c179e\"], [0.4444444444444444, \"#bd3786\"], [0.5555555555555556, \"#d8576b\"], [0.6666666666666666, \"#ed7953\"], [0.7777777777777778, \"#fb9f3a\"], [0.8888888888888888, \"#fdca26\"], [1.0, \"#f0f921\"]], \"type\": \"histogram2d\"}], \"histogram2dcontour\": [{\"colorbar\": {\"outlinewidth\": 0, \"ticks\": \"\"}, \"colorscale\": [[0.0, \"#0d0887\"], [0.1111111111111111, \"#46039f\"], [0.2222222222222222, \"#7201a8\"], [0.3333333333333333, \"#9c179e\"], [0.4444444444444444, \"#bd3786\"], [0.5555555555555556, \"#d8576b\"], [0.6666666666666666, \"#ed7953\"], [0.7777777777777778, \"#fb9f3a\"], [0.8888888888888888, \"#fdca26\"], [1.0, \"#f0f921\"]], \"type\": \"histogram2dcontour\"}], \"mesh3d\": [{\"colorbar\": {\"outlinewidth\": 0, \"ticks\": \"\"}, \"type\": \"mesh3d\"}], \"parcoords\": [{\"line\": {\"colorbar\": {\"outlinewidth\": 0, \"ticks\": \"\"}}, \"type\": \"parcoords\"}], \"pie\": [{\"automargin\": true, \"type\": \"pie\"}], \"scatter\": [{\"marker\": {\"colorbar\": {\"outlinewidth\": 0, \"ticks\": \"\"}}, \"type\": \"scatter\"}], \"scatter3d\": [{\"line\": {\"colorbar\": {\"outlinewidth\": 0, \"ticks\": \"\"}}, \"marker\": {\"colorbar\": {\"outlinewidth\": 0, \"ticks\": \"\"}}, \"type\": \"scatter3d\"}], \"scattercarpet\": [{\"marker\": {\"colorbar\": {\"outlinewidth\": 0, \"ticks\": \"\"}}, \"type\": \"scattercarpet\"}], \"scattergeo\": [{\"marker\": {\"colorbar\": {\"outlinewidth\": 0, \"ticks\": \"\"}}, \"type\": \"scattergeo\"}], \"scattergl\": [{\"marker\": {\"colorbar\": {\"outlinewidth\": 0, \"ticks\": \"\"}}, \"type\": \"scattergl\"}], \"scattermapbox\": [{\"marker\": {\"colorbar\": {\"outlinewidth\": 0, \"ticks\": \"\"}}, \"type\": \"scattermapbox\"}], \"scatterpolar\": [{\"marker\": {\"colorbar\": {\"outlinewidth\": 0, \"ticks\": \"\"}}, \"type\": \"scatterpolar\"}], \"scatterpolargl\": [{\"marker\": {\"colorbar\": {\"outlinewidth\": 0, \"ticks\": \"\"}}, \"type\": \"scatterpolargl\"}], \"scatterternary\": [{\"marker\": {\"colorbar\": {\"outlinewidth\": 0, \"ticks\": \"\"}}, \"type\": \"scatterternary\"}], \"surface\": [{\"colorbar\": {\"outlinewidth\": 0, \"ticks\": \"\"}, \"colorscale\": [[0.0, \"#0d0887\"], [0.1111111111111111, \"#46039f\"], [0.2222222222222222, \"#7201a8\"], [0.3333333333333333, \"#9c179e\"], [0.4444444444444444, \"#bd3786\"], [0.5555555555555556, \"#d8576b\"], [0.6666666666666666, \"#ed7953\"], [0.7777777777777778, \"#fb9f3a\"], [0.8888888888888888, \"#fdca26\"], [1.0, \"#f0f921\"]], \"type\": \"surface\"}], \"table\": [{\"cells\": {\"fill\": {\"color\": \"#EBF0F8\"}, \"line\": {\"color\": \"white\"}}, \"header\": {\"fill\": {\"color\": \"#C8D4E3\"}, \"line\": {\"color\": \"white\"}}, \"type\": \"table\"}]}, \"layout\": {\"annotationdefaults\": {\"arrowcolor\": \"#2a3f5f\", \"arrowhead\": 0, \"arrowwidth\": 1}, \"coloraxis\": {\"colorbar\": {\"outlinewidth\": 0, \"ticks\": \"\"}}, \"colorscale\": {\"diverging\": [[0, \"#8e0152\"], [0.1, \"#c51b7d\"], [0.2, \"#de77ae\"], [0.3, \"#f1b6da\"], [0.4, \"#fde0ef\"], [0.5, \"#f7f7f7\"], [0.6, \"#e6f5d0\"], [0.7, \"#b8e186\"], [0.8, \"#7fbc41\"], [0.9, \"#4d9221\"], [1, \"#276419\"]], \"sequential\": [[0.0, \"#0d0887\"], [0.1111111111111111, \"#46039f\"], [0.2222222222222222, \"#7201a8\"], [0.3333333333333333, \"#9c179e\"], [0.4444444444444444, \"#bd3786\"], [0.5555555555555556, \"#d8576b\"], [0.6666666666666666, \"#ed7953\"], [0.7777777777777778, \"#fb9f3a\"], [0.8888888888888888, \"#fdca26\"], [1.0, \"#f0f921\"]], \"sequentialminus\": [[0.0, \"#0d0887\"], [0.1111111111111111, \"#46039f\"], [0.2222222222222222, \"#7201a8\"], [0.3333333333333333, \"#9c179e\"], [0.4444444444444444, \"#bd3786\"], [0.5555555555555556, \"#d8576b\"], [0.6666666666666666, \"#ed7953\"], [0.7777777777777778, \"#fb9f3a\"], [0.8888888888888888, \"#fdca26\"], [1.0, \"#f0f921\"]]}, \"colorway\": [\"#636efa\", \"#EF553B\", \"#00cc96\", \"#ab63fa\", \"#FFA15A\", \"#19d3f3\", \"#FF6692\", \"#B6E880\", \"#FF97FF\", \"#FECB52\"], \"font\": {\"color\": \"#2a3f5f\"}, \"geo\": {\"bgcolor\": \"white\", \"lakecolor\": \"white\", \"landcolor\": \"#E5ECF6\", \"showlakes\": true, \"showland\": true, \"subunitcolor\": \"white\"}, \"hoverlabel\": {\"align\": \"left\"}, \"hovermode\": \"closest\", \"mapbox\": {\"style\": \"light\"}, \"paper_bgcolor\": \"white\", \"plot_bgcolor\": \"#E5ECF6\", \"polar\": {\"angularaxis\": {\"gridcolor\": \"white\", \"linecolor\": \"white\", \"ticks\": \"\"}, \"bgcolor\": \"#E5ECF6\", \"radialaxis\": {\"gridcolor\": \"white\", \"linecolor\": \"white\", \"ticks\": \"\"}}, \"scene\": {\"xaxis\": {\"backgroundcolor\": \"#E5ECF6\", \"gridcolor\": \"white\", \"gridwidth\": 2, \"linecolor\": \"white\", \"showbackground\": true, \"ticks\": \"\", \"zerolinecolor\": \"white\"}, \"yaxis\": {\"backgroundcolor\": \"#E5ECF6\", \"gridcolor\": \"white\", \"gridwidth\": 2, \"linecolor\": \"white\", \"showbackground\": true, \"ticks\": \"\", \"zerolinecolor\": \"white\"}, \"zaxis\": {\"backgroundcolor\": \"#E5ECF6\", \"gridcolor\": \"white\", \"gridwidth\": 2, \"linecolor\": \"white\", \"showbackground\": true, \"ticks\": \"\", \"zerolinecolor\": \"white\"}}, \"shapedefaults\": {\"line\": {\"color\": \"#2a3f5f\"}}, \"ternary\": {\"aaxis\": {\"gridcolor\": \"white\", \"linecolor\": \"white\", \"ticks\": \"\"}, \"baxis\": {\"gridcolor\": \"white\", \"linecolor\": \"white\", \"ticks\": \"\"}, \"bgcolor\": \"#E5ECF6\", \"caxis\": {\"gridcolor\": \"white\", \"linecolor\": \"white\", \"ticks\": \"\"}}, \"title\": {\"x\": 0.05}, \"xaxis\": {\"automargin\": true, \"gridcolor\": \"white\", \"linecolor\": \"white\", \"ticks\": \"\", \"title\": {\"standoff\": 15}, \"zerolinecolor\": \"white\", \"zerolinewidth\": 2}, \"yaxis\": {\"automargin\": true, \"gridcolor\": \"white\", \"linecolor\": \"white\", \"ticks\": \"\", \"title\": {\"standoff\": 15}, \"zerolinecolor\": \"white\", \"zerolinewidth\": 2}}}, \"title\": {\"text\": \"Refinery inputs over the years\"}, \"xaxis\": {\"anchor\": \"y\", \"domain\": [0.0, 0.94]}, \"yaxis\": {\"anchor\": \"x\", \"domain\": [0.0, 1.0], \"title\": {\"text\": \"U.S. wide refining input, million bbl/day\"}}, \"yaxis2\": {\"anchor\": \"x\", \"overlaying\": \"y\", \"side\": \"right\"}},\n",
       "                        {\"responsive\": true}\n",
       "                    ).then(function(){\n",
       "                            \n",
       "var gd = document.getElementById('9921dbe0-4cad-4655-b857-0e1e72115995');\n",
       "var x = new MutationObserver(function (mutations, observer) {{\n",
       "        var display = window.getComputedStyle(gd).display;\n",
       "        if (!display || display === 'none') {{\n",
       "            console.log([gd, 'removed!']);\n",
       "            Plotly.purge(gd);\n",
       "            observer.disconnect();\n",
       "        }}\n",
       "}});\n",
       "\n",
       "// Listen for the removal of the full notebook cells\n",
       "var notebookContainer = gd.closest('#notebook-container');\n",
       "if (notebookContainer) {{\n",
       "    x.observe(notebookContainer, {childList: true});\n",
       "}}\n",
       "\n",
       "// Listen for the clearing of the current output cell\n",
       "var outputEl = gd.closest('.output');\n",
       "if (outputEl) {{\n",
       "    x.observe(outputEl, {childList: true});\n",
       "}}\n",
       "\n",
       "                        })\n",
       "                };\n",
       "                });\n",
       "            </script>\n",
       "        </div>"
      ]
     },
     "metadata": {},
     "output_type": "display_data"
    }
   ],
   "source": [
    "import chart_studio.plotly as py\n",
    "from plotly.subplots import make_subplots\n",
    "\n",
    "fig = make_subplots(specs=[[{\"secondary_y\": True}]])\n",
    "x = capacitydata.loc[:,'Gross refinery input (million bpd)']\n",
    "x1 = capacitydata.loc[:,'PADD 1']\n",
    "x2 = capacitydata.loc[:,'PADD 2']\n",
    "x3 = capacitydata.loc[:,'PADD 3']\n",
    "x4 = capacitydata.loc[:,'PADD 4']\n",
    "x5 = capacitydata.loc[:,'PADD 5']\n",
    "# draw = pg.Scatter(x = series.index,y = series.values)\n",
    "# draw2 = pg.Scatter(x = series2.index,y = series2.values)\n",
    "                    \n",
    "fig.add_trace(pg.Scatter(x=x.index, y=x.values, name=\"U.S. wide - million bbl/day\"))\n",
    "fig.add_trace(pg.Scatter(x=x3.index, y=x3.values, name=\"PADD 3 - kbd\"), secondary_y=True)\n",
    "fig.add_trace(pg.Scatter(x=x5.index, y=x3.values, name=\"PADD 5 - kbd\"), secondary_y=True)\n",
    "              \n",
    "fig.update_layout(\n",
    "    title=\"Refinery inputs over the years\",\n",
    "    yaxis_title=\"U.S. wide refining input, million bbl/day\")"
   ]
  },
  {
   "cell_type": "code",
   "execution_count": null,
   "metadata": {},
   "outputs": [],
   "source": [
    "# (5/27/20) x-axis doesn't specify Feb 2020, but that's the end of the scale. Key take-away is that U.S. has continued to \n",
    "# refine more crude over the years - in the last 35 years, total refinery input has increased by 41%."
   ]
  },
  {
   "cell_type": "code",
   "execution_count": 101,
   "metadata": {},
   "outputs": [
    {
     "data": {
      "text/plain": [
       "(Text(0.5, 0, 'PADD 3 refinery input, kbd'),\n",
       " Text(0, 0.5, 'Nationwide refinery input, million bbl/d'))"
      ]
     },
     "execution_count": 101,
     "metadata": {},
     "output_type": "execute_result"
    },
    {
     "data": {
      "image/png": "[encoded data removed]",
      "text/plain": [
       "<Figure size 576x576 with 1 Axes>"
      ]
     },
     "metadata": {
      "needs_background": "light"
     },
     "output_type": "display_data"
    }
   ],
   "source": [
    "# fig2 = make_subplots(specs=[[{\"secondary_y\": True}]])\n",
    "# fig2.add_trace(pg.Scatter(x=x3.values, y=x.values, name=\"U.S. wide - million bbl/day\"))\n",
    "fig2 = plt.figure(figsize=(8,8))\n",
    "fig2 = plt.scatter(x3.values, x.values,marker='o')\n",
    "figu2 = plt.title('PADD 3 (Gulf Coast) refinery input vs. Nationwide refinery inputs')\n",
    "z = np.polyfit(x3.values, x.values, 1)\n",
    "p = np.poly1d(z)\n",
    "plt.plot(x3.values,p(x3.values),c='b')\n",
    "plt.xlabel('PADD 3 refinery input, kbd'), plt.ylabel('Nationwide refinery input, million bbl/d')\n"
   ]
  },
  {
   "cell_type": "code",
   "execution_count": null,
   "metadata": {},
   "outputs": [],
   "source": []
  }
 ],
 "metadata": {
  "kernelspec": {
   "display_name": "Python 3",
   "language": "python",
   "name": "python3"
  },
  "language_info": {
   "codemirror_mode": {
    "name": "ipython",
    "version": 3
   },
   "file_extension": ".py",
   "mimetype": "text/x-python",
   "name": "python",
   "nbconvert_exporter": "python",
   "pygments_lexer": "ipython3",
   "version": "3.7.3"
  }
 },
 "nbformat": 4,
 "nbformat_minor": 2
}
